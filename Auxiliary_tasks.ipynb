{
 "cells": [
  {
   "cell_type": "code",
   "execution_count": 1,
   "metadata": {
    "id": "qVgCI0HJ_gSA",
    "colab_type": "code",
    "outputId": "605c4811-b5a7-48cf-daa7-7ecce55b6950",
    "colab": {
     "base_uri": "https://localhost:8080/",
     "height": 293.0
    }
   },
   "outputs": [
    {
     "name": "stdout",
     "output_type": "stream",
     "text": [
      "/bin/sh: 1: pip: not found\r\n"
     ]
    }
   ],
   "source": [
    ""
   ]
  },
  {
   "cell_type": "code",
   "execution_count": 1,
   "metadata": {
    "id": "exEjAy4bAVSS",
    "colab_type": "code",
    "colab": {}
   },
   "outputs": [],
   "source": [
    "# The essentials\n",
    "import pandas as pd\n",
    "import numpy as np\n",
    "\n",
    "# Plotting\n",
    "%matplotlib inline\n",
    "import matplotlib.pyplot as plt\n",
    "\n",
    "# Progress bars\n",
    "from tqdm import tqdm\n",
    "\n",
    "# Gradient Boosting\n",
    "from catboost import CatBoostRegressor\n",
    "\n",
    "from collections import defaultdict"
   ]
  },
  {
   "cell_type": "code",
   "execution_count": 2,
   "metadata": {
    "id": "6pdBbQq1AWOn",
    "colab_type": "code",
    "outputId": "ee7a7f7e-d9e1-4055-f5e6-06e78fe5fd15",
    "colab": {
     "base_uri": "https://localhost:8080/",
     "height": 4647.0
    },
    "collapsed": false
   },
   "outputs": [
    {
     "data": {
      "text/plain": [
       "'/home/kiani/mlcomp/Rinse-Over-Run'"
      ]
     },
     "execution_count": 2,
     "metadata": {},
     "output_type": "execute_result"
    }
   ],
   "source": [
    "%pwd"
   ]
  },
  {
   "cell_type": "code",
   "execution_count": 3,
   "metadata": {
    "id": "fO5FIgMQAZQW",
    "colab_type": "code",
    "outputId": "28bfe401-792c-4a3a-c7f5-c9d4bc40b532",
    "colab": {
     "base_uri": "https://localhost:8080/",
     "height": 54.0
    }
   },
   "outputs": [
    {
     "name": "stderr",
     "output_type": "stream",
     "text": [
      "/home/kiani/anaconda3/lib/python3.7/site-packages/numpy/lib/arraysetops.py:522: FutureWarning: elementwise comparison failed; returning scalar instead, but in the future will perform elementwise comparison\n  mask |= (ar1 == a)\n"
     ]
    }
   ],
   "source": [
    "\n",
    "train_df = pd.read_csv('./data/train_values.csv', index_col=0, parse_dates=['timestamp'])\n",
    "test_df = pd.read_csv('./data/test_values.csv', index_col=0, parse_dates=['timestamp'])\n",
    "label_df = pd.read_csv('./data/train_labels.csv', index_col='process_id')"
   ]
  },
  {
   "cell_type": "code",
   "execution_count": 4,
   "metadata": {
    "id": "6ntR2508Aa8J",
    "colab_type": "code",
    "colab": {}
   },
   "outputs": [],
   "source": [
    "# variables we'll use to create our time series features\n",
    "ts_cols = [\n",
    "    'process_id',\n",
    "    'supply_flow',\n",
    "    'supply_pressure',\n",
    "    'return_temperature',\n",
    "    'return_conductivity',\n",
    "    'return_turbidity',\n",
    "    'return_flow',\n",
    "    'tank_level_pre_rinse',\n",
    "    'tank_level_caustic',\n",
    "    'tank_level_acid',\n",
    "    'tank_level_clean_water',\n",
    "    'tank_temperature_pre_rinse',\n",
    "    'tank_temperature_caustic',\n",
    "    'tank_temperature_acid',\n",
    "    'tank_concentration_caustic',\n",
    "    'tank_concentration_acid',\n",
    "]\n",
    "\n",
    "# variables for binary time series features\n",
    "bin_cols = [\n",
    "    'supply_pump',\n",
    "    'supply_pre_rinse',\n",
    "    'supply_caustic',\n",
    "    'return_caustic',\n",
    "    'supply_acid',\n",
    "    'return_acid',\n",
    "    'supply_clean_water',\n",
    "    'return_recovery_water',\n",
    "    'return_drain',\n",
    "    'object_low_level'\n",
    "]\n",
    "\n",
    "# phases, ordered from earliest to latest\n",
    "phases = ['pre_rinse', 'caustic', 'intermediate_rinse', 'acid']"
   ]
  },
  {
   "cell_type": "code",
   "execution_count": 5,
   "metadata": {
    "id": "y76-pQa4AcCU",
    "colab_type": "code",
    "colab": {}
   },
   "outputs": [],
   "source": [
    "def encode_categorical(df):\n",
    "    # Currently just copy-pasted from http://drivendata.co/blog/rinse-over-run-benchmark/\n",
    "    \n",
    "    # select process_id and pipeline\n",
    "    meta = df[['process_id', 'pipeline']].drop_duplicates().set_index('process_id') \n",
    "    \n",
    "    # convert categorical pipeline data to dummy variables\n",
    "    meta = pd.get_dummies(meta)\n",
    "    \n",
    "    # pipeline L12 not in test data (so useless feature)\n",
    "    if 'pipeline_L12' in meta:\n",
    "        meta = meta.drop('pipeline_L12', axis=1)\n",
    "    \n",
    "    # calculate number of phases for each process_object\n",
    "    meta['num_phases'] = df.groupby('process_id')['phase'].apply(lambda x: x.nunique())\n",
    "    \n",
    "    return meta\n",
    "\n",
    "def percentile_25(x):\n",
    "  return np.percentile(x, 0.25)\n",
    "\n",
    "def percentile_75(x):\n",
    "  return np.percentile(x, 0.75)\n",
    "  \n",
    "def encode_real_timeseries(df):   \n",
    "    ts_df = df[ts_cols].set_index('process_id')\n",
    "    \n",
    "    # create features: count, min, max, mean, standard deviation\n",
    "    ts_features = ts_df.groupby('process_id').agg(['min', 'max', 'mean', 'std', \n",
    "                                                   'count', 'median', 'sum', \n",
    "                                                   'mad', percentile_25,\n",
    "                                                   percentile_75])\n",
    "    \n",
    "    # Now we will get the mean + variance value of the last K measurements for each phase\n",
    "    all_vals_per_phase = []\n",
    "    K = 5\n",
    "    col_names = ['process_id'] \n",
    "    for phase in phases:\n",
    "        for col in ts_cols:\n",
    "            col_names.extend(['mean_{}_{}_{}'.format(col, K, phase), \n",
    "                              'std_{}_{}_{}'.format(col, K, phase)])\n",
    "    for process in tqdm(ts_features.index, total=len(ts_features)):\n",
    "        vals_per_phase = [process]\n",
    "        process_filtered_df = df[df['process_id'] == process]\n",
    "        for phase in phases:\n",
    "            filtered_df = process_filtered_df[process_filtered_df['phase'] == phase].tail(K)\n",
    "            for col in ts_cols:\n",
    "                vals_per_phase.extend([filtered_df[col].mean(), filtered_df[col].std()])\n",
    "                \n",
    "        all_vals_per_phase.append(vals_per_phase)\n",
    "    values_df = pd.DataFrame(all_vals_per_phase, columns=col_names)\n",
    "    values_df = values_df.set_index('process_id')\n",
    "    \n",
    "    ts_features = ts_features.merge(values_df, left_index=True, right_index=True)\n",
    "    \n",
    "    return ts_features\n",
    "\n",
    "def encode_binary_timeseries(df):\n",
    "    ts_df = df[ts_cols].set_index('process_id')\n",
    "            \n",
    "    # create features: count, min, max, mean, standard deviation\n",
    "    ts_features = ts_df.groupby('process_id').agg(['mean', 'std', 'count', 'sum', 'mad'])\n",
    "    \n",
    "    # TODO: Count fraction of True in each phase\n",
    "    feature_vectors = []\n",
    "    col_names = ['process_id'] \n",
    "    for phase in phases:\n",
    "        for col in bin_cols:\n",
    "            col_names.append('fraction_{}_{}'.format(col, phase))\n",
    "            \n",
    "    # Get fraction of True values for each binary timeseries\n",
    "    for process in tqdm(set(df['process_id']), total=len(set(df['process_id']))):\n",
    "        vector = [process]\n",
    "        process_filtered_df = df[df['process_id'] == process]\n",
    "        for phase in phases:\n",
    "            filtered_df = process_filtered_df[process_filtered_df['phase'] == phase]\n",
    "            for col in bin_cols:\n",
    "                if len(filtered_df):\n",
    "                    vector.append(sum(filtered_df[col]) / len(filtered_df))\n",
    "                else:\n",
    "                    vector.append(np.NaN)\n",
    "                \n",
    "        feature_vectors.append(vector)\n",
    "                \n",
    "    feature_df = pd.DataFrame(feature_vectors, columns=col_names)\n",
    "    feature_df = feature_df.set_index('process_id')\n",
    "    \n",
    "    feature_df = feature_df.merge(ts_features, left_index=True, right_index=True)\n",
    "    \n",
    "    return feature_df\n",
    "\n",
    "def create_feature_matrix(df):\n",
    "    metadata = encode_categorical(df)\n",
    "    time_series = encode_real_timeseries(df)\n",
    "    binary_features = encode_binary_timeseries(df)\n",
    "    \n",
    "    # join metadata and time series features into a single dataframe\n",
    "    feature_matrix = metadata\n",
    "    feature_matrix = feature_matrix.merge(time_series, left_index=True, right_index=True)\n",
    "    feature_matrix = feature_matrix.merge(binary_features, left_index=True, right_index=True)\n",
    "    \n",
    "    return feature_matrix"
   ]
  },
  {
   "cell_type": "code",
   "execution_count": 8,
   "metadata": {
    "id": "lntXJ5GWAdU0",
    "colab_type": "code",
    "colab": {}
   },
   "outputs": [],
   "source": [
    "process_comb = 15\n",
    "test_features_index = pd.read_csv('./data/test_features_{}.csv'.format(process_comb), index_col=['process_id']).index\n",
    "train_features_index = pd.read_csv('./data/train_features_adv_{}.csv'.format(process_comb), index_col=['process_id']).index\n",
    "val_features_index = pd.read_csv('./data/val_features_adv_{}.csv'.format(process_comb), index_col=['process_id']).index"
   ]
  },
  {
   "cell_type": "code",
   "execution_count": 11,
   "metadata": {
    "id": "MurWIa_KA5vN",
    "colab_type": "code",
    "outputId": "329f299a-3981-48ee-94c4-eaee7a3b2196",
    "colab": {
     "base_uri": "https://localhost:8080/",
     "height": 201.0
    }
   },
   "outputs": [
    {
     "name": "stderr",
     "output_type": "stream",
     "text": [
      "\r  0%|          | 0/3354 [00:00<?, ?it/s]"
     ]
    },
    {
     "name": "stderr",
     "output_type": "stream",
     "text": [
      "\r  0%|          | 7/3354 [00:00<00:53, 62.35it/s]"
     ]
    },
    {
     "name": "stderr",
     "output_type": "stream",
     "text": [
      "\r  0%|          | 13/3354 [00:00<00:56, 59.17it/s]"
     ]
    },
    {
     "name": "stderr",
     "output_type": "stream",
     "text": [
      "\r  1%|          | 19/3354 [00:00<00:57, 58.47it/s]"
     ]
    },
    {
     "name": "stderr",
     "output_type": "stream",
     "text": [
      "\r  1%|          | 25/3354 [00:00<00:56, 58.46it/s]"
     ]
    },
    {
     "name": "stderr",
     "output_type": "stream",
     "text": [
      "\r  1%|          | 30/3354 [00:00<01:01, 54.38it/s]"
     ]
    },
    {
     "name": "stderr",
     "output_type": "stream",
     "text": [
      "\r  1%|          | 37/3354 [00:00<00:58, 56.47it/s]"
     ]
    },
    {
     "name": "stderr",
     "output_type": "stream",
     "text": [
      "\r  1%|▏         | 43/3354 [00:00<01:01, 53.97it/s]"
     ]
    },
    {
     "name": "stderr",
     "output_type": "stream",
     "text": [
      "\r  1%|▏         | 48/3354 [00:00<01:04, 51.35it/s]"
     ]
    },
    {
     "name": "stderr",
     "output_type": "stream",
     "text": [
      "\r  2%|▏         | 55/3354 [00:00<01:00, 54.26it/s]"
     ]
    },
    {
     "name": "stderr",
     "output_type": "stream",
     "text": [
      "\r  2%|▏         | 62/3354 [00:01<00:58, 56.01it/s]"
     ]
    },
    {
     "name": "stderr",
     "output_type": "stream",
     "text": [
      "\r  2%|▏         | 69/3354 [00:01<00:55, 58.80it/s]"
     ]
    },
    {
     "name": "stderr",
     "output_type": "stream",
     "text": [
      "\r  2%|▏         | 76/3354 [00:01<00:54, 60.49it/s]"
     ]
    },
    {
     "name": "stderr",
     "output_type": "stream",
     "text": [
      "\r  2%|▏         | 83/3354 [00:01<00:52, 61.91it/s]"
     ]
    },
    {
     "name": "stderr",
     "output_type": "stream",
     "text": [
      "\r  3%|▎         | 90/3354 [00:01<00:51, 63.23it/s]"
     ]
    },
    {
     "name": "stderr",
     "output_type": "stream",
     "text": [
      "\r  3%|▎         | 97/3354 [00:01<00:51, 63.64it/s]"
     ]
    },
    {
     "name": "stderr",
     "output_type": "stream",
     "text": [
      "\r  3%|▎         | 104/3354 [00:01<00:50, 64.62it/s]"
     ]
    },
    {
     "name": "stderr",
     "output_type": "stream",
     "text": [
      "\r  3%|▎         | 111/3354 [00:01<00:49, 65.12it/s]"
     ]
    },
    {
     "name": "stderr",
     "output_type": "stream",
     "text": [
      "\r  4%|▎         | 118/3354 [00:01<00:49, 65.24it/s]"
     ]
    },
    {
     "name": "stderr",
     "output_type": "stream",
     "text": [
      "\r  4%|▎         | 125/3354 [00:02<00:49, 65.68it/s]"
     ]
    },
    {
     "name": "stderr",
     "output_type": "stream",
     "text": [
      "\r  4%|▍         | 132/3354 [00:02<00:50, 64.43it/s]"
     ]
    },
    {
     "name": "stderr",
     "output_type": "stream",
     "text": [
      "\r  4%|▍         | 139/3354 [00:02<00:49, 65.13it/s]"
     ]
    },
    {
     "name": "stderr",
     "output_type": "stream",
     "text": [
      "\r  4%|▍         | 146/3354 [00:02<00:48, 65.79it/s]"
     ]
    },
    {
     "name": "stderr",
     "output_type": "stream",
     "text": [
      "\r  5%|▍         | 153/3354 [00:02<00:48, 65.97it/s]"
     ]
    },
    {
     "name": "stderr",
     "output_type": "stream",
     "text": [
      "\r  5%|▍         | 160/3354 [00:02<00:48, 65.37it/s]"
     ]
    },
    {
     "name": "stderr",
     "output_type": "stream",
     "text": [
      "\r  5%|▍         | 167/3354 [00:02<00:48, 65.95it/s]"
     ]
    },
    {
     "name": "stderr",
     "output_type": "stream",
     "text": [
      "\r  5%|▌         | 174/3354 [00:02<00:48, 65.96it/s]"
     ]
    },
    {
     "name": "stderr",
     "output_type": "stream",
     "text": [
      "\r  5%|▌         | 181/3354 [00:02<00:47, 66.28it/s]"
     ]
    },
    {
     "name": "stderr",
     "output_type": "stream",
     "text": [
      "\r  6%|▌         | 188/3354 [00:03<00:47, 66.17it/s]"
     ]
    },
    {
     "name": "stderr",
     "output_type": "stream",
     "text": [
      "\r  6%|▌         | 195/3354 [00:03<00:48, 65.21it/s]"
     ]
    },
    {
     "name": "stderr",
     "output_type": "stream",
     "text": [
      "\r  6%|▌         | 202/3354 [00:03<00:49, 63.64it/s]"
     ]
    },
    {
     "name": "stderr",
     "output_type": "stream",
     "text": [
      "\r  6%|▌         | 209/3354 [00:03<00:49, 63.78it/s]"
     ]
    },
    {
     "name": "stderr",
     "output_type": "stream",
     "text": [
      "\r  6%|▋         | 216/3354 [00:03<00:49, 63.19it/s]"
     ]
    },
    {
     "name": "stderr",
     "output_type": "stream",
     "text": [
      "\r  7%|▋         | 223/3354 [00:03<00:58, 53.21it/s]"
     ]
    },
    {
     "name": "stderr",
     "output_type": "stream",
     "text": [
      "\r  7%|▋         | 229/3354 [00:03<00:58, 53.02it/s]"
     ]
    },
    {
     "name": "stderr",
     "output_type": "stream",
     "text": [
      "\r  7%|▋         | 235/3354 [00:03<01:04, 48.52it/s]"
     ]
    },
    {
     "name": "stderr",
     "output_type": "stream",
     "text": [
      "\r  7%|▋         | 241/3354 [00:04<01:03, 49.12it/s]"
     ]
    },
    {
     "name": "stderr",
     "output_type": "stream",
     "text": [
      "\r  7%|▋         | 247/3354 [00:04<01:02, 49.70it/s]"
     ]
    },
    {
     "name": "stderr",
     "output_type": "stream",
     "text": [
      "\r  8%|▊         | 253/3354 [00:04<01:00, 51.41it/s]"
     ]
    },
    {
     "name": "stderr",
     "output_type": "stream",
     "text": [
      "\r  8%|▊         | 260/3354 [00:04<00:56, 54.56it/s]"
     ]
    },
    {
     "name": "stderr",
     "output_type": "stream",
     "text": [
      "\r  8%|▊         | 267/3354 [00:04<00:53, 57.24it/s]"
     ]
    },
    {
     "name": "stderr",
     "output_type": "stream",
     "text": [
      "\r  8%|▊         | 274/3354 [00:04<00:51, 59.47it/s]"
     ]
    },
    {
     "name": "stderr",
     "output_type": "stream",
     "text": [
      "\r  8%|▊         | 281/3354 [00:04<00:50, 61.36it/s]"
     ]
    },
    {
     "name": "stderr",
     "output_type": "stream",
     "text": [
      "\r  9%|▊         | 288/3354 [00:04<00:48, 62.87it/s]"
     ]
    },
    {
     "name": "stderr",
     "output_type": "stream",
     "text": [
      "\r  9%|▉         | 295/3354 [00:04<00:47, 64.01it/s]"
     ]
    },
    {
     "name": "stderr",
     "output_type": "stream",
     "text": [
      "\r  9%|▉         | 302/3354 [00:05<00:47, 64.31it/s]"
     ]
    },
    {
     "name": "stderr",
     "output_type": "stream",
     "text": [
      "\r  9%|▉         | 309/3354 [00:05<00:47, 64.14it/s]"
     ]
    },
    {
     "name": "stderr",
     "output_type": "stream",
     "text": [
      "\r  9%|▉         | 316/3354 [00:05<00:46, 64.77it/s]"
     ]
    },
    {
     "name": "stderr",
     "output_type": "stream",
     "text": [
      "\r 10%|▉         | 323/3354 [00:05<00:50, 60.43it/s]"
     ]
    },
    {
     "name": "stderr",
     "output_type": "stream",
     "text": [
      "\r 10%|▉         | 330/3354 [00:05<00:48, 62.06it/s]"
     ]
    },
    {
     "name": "stderr",
     "output_type": "stream",
     "text": [
      "\r 10%|█         | 337/3354 [00:05<00:47, 63.13it/s]"
     ]
    },
    {
     "name": "stderr",
     "output_type": "stream",
     "text": [
      "\r 10%|█         | 344/3354 [00:05<00:47, 63.68it/s]"
     ]
    },
    {
     "name": "stderr",
     "output_type": "stream",
     "text": [
      "\r 10%|█         | 351/3354 [00:05<00:46, 64.64it/s]"
     ]
    },
    {
     "name": "stderr",
     "output_type": "stream",
     "text": [
      "\r 11%|█         | 358/3354 [00:05<00:45, 65.59it/s]"
     ]
    },
    {
     "name": "stderr",
     "output_type": "stream",
     "text": [
      "\r 11%|█         | 365/3354 [00:05<00:45, 65.72it/s]"
     ]
    },
    {
     "name": "stderr",
     "output_type": "stream",
     "text": [
      "\r 11%|█         | 372/3354 [00:06<00:45, 64.89it/s]"
     ]
    },
    {
     "name": "stderr",
     "output_type": "stream",
     "text": [
      "\r 11%|█▏        | 379/3354 [00:06<00:46, 63.69it/s]"
     ]
    },
    {
     "name": "stderr",
     "output_type": "stream",
     "text": [
      "\r 12%|█▏        | 386/3354 [00:06<00:46, 63.69it/s]"
     ]
    },
    {
     "name": "stderr",
     "output_type": "stream",
     "text": [
      "\r 12%|█▏        | 393/3354 [00:06<00:46, 63.36it/s]"
     ]
    },
    {
     "name": "stderr",
     "output_type": "stream",
     "text": [
      "\r 12%|█▏        | 400/3354 [00:06<00:48, 61.29it/s]"
     ]
    },
    {
     "name": "stderr",
     "output_type": "stream",
     "text": [
      "\r 12%|█▏        | 407/3354 [00:06<00:47, 61.93it/s]"
     ]
    },
    {
     "name": "stderr",
     "output_type": "stream",
     "text": [
      "\r 12%|█▏        | 414/3354 [00:06<00:46, 62.98it/s]"
     ]
    },
    {
     "name": "stderr",
     "output_type": "stream",
     "text": [
      "\r 13%|█▎        | 421/3354 [00:06<00:45, 63.97it/s]"
     ]
    },
    {
     "name": "stderr",
     "output_type": "stream",
     "text": [
      "\r 13%|█▎        | 428/3354 [00:06<00:45, 64.77it/s]"
     ]
    },
    {
     "name": "stderr",
     "output_type": "stream",
     "text": [
      "\r 13%|█▎        | 435/3354 [00:07<00:45, 64.52it/s]"
     ]
    },
    {
     "name": "stderr",
     "output_type": "stream",
     "text": [
      "\r 13%|█▎        | 442/3354 [00:07<00:44, 65.03it/s]"
     ]
    },
    {
     "name": "stderr",
     "output_type": "stream",
     "text": [
      "\r 13%|█▎        | 449/3354 [00:07<00:44, 65.71it/s]"
     ]
    },
    {
     "name": "stderr",
     "output_type": "stream",
     "text": [
      "\r 14%|█▎        | 456/3354 [00:07<00:44, 65.66it/s]"
     ]
    },
    {
     "name": "stderr",
     "output_type": "stream",
     "text": [
      "\r 14%|█▍        | 463/3354 [00:07<00:43, 66.33it/s]"
     ]
    },
    {
     "name": "stderr",
     "output_type": "stream",
     "text": [
      "\r 14%|█▍        | 470/3354 [00:07<00:44, 65.32it/s]"
     ]
    },
    {
     "name": "stderr",
     "output_type": "stream",
     "text": [
      "\r 14%|█▍        | 477/3354 [00:07<00:43, 65.85it/s]"
     ]
    },
    {
     "name": "stderr",
     "output_type": "stream",
     "text": [
      "\r 14%|█▍        | 484/3354 [00:07<00:43, 66.41it/s]"
     ]
    },
    {
     "name": "stderr",
     "output_type": "stream",
     "text": [
      "\r 15%|█▍        | 491/3354 [00:07<00:42, 66.81it/s]"
     ]
    },
    {
     "name": "stderr",
     "output_type": "stream",
     "text": [
      "\r 15%|█▍        | 498/3354 [00:08<00:42, 66.55it/s]"
     ]
    },
    {
     "name": "stderr",
     "output_type": "stream",
     "text": [
      "\r 15%|█▌        | 505/3354 [00:08<00:43, 65.06it/s]"
     ]
    },
    {
     "name": "stderr",
     "output_type": "stream",
     "text": [
      "\r 15%|█▌        | 512/3354 [00:08<00:44, 63.21it/s]"
     ]
    },
    {
     "name": "stderr",
     "output_type": "stream",
     "text": [
      "\r 15%|█▌        | 519/3354 [00:08<00:43, 64.79it/s]"
     ]
    },
    {
     "name": "stderr",
     "output_type": "stream",
     "text": [
      "\r 16%|█▌        | 526/3354 [00:08<00:43, 65.46it/s]"
     ]
    },
    {
     "name": "stderr",
     "output_type": "stream",
     "text": [
      "\r 16%|█▌        | 533/3354 [00:08<00:43, 65.33it/s]"
     ]
    },
    {
     "name": "stderr",
     "output_type": "stream",
     "text": [
      "\r 16%|█▌        | 540/3354 [00:08<00:42, 65.67it/s]"
     ]
    },
    {
     "name": "stderr",
     "output_type": "stream",
     "text": [
      "\r 16%|█▋        | 547/3354 [00:08<00:42, 66.20it/s]"
     ]
    },
    {
     "name": "stderr",
     "output_type": "stream",
     "text": [
      "\r 17%|█▋        | 554/3354 [00:08<00:42, 66.35it/s]"
     ]
    },
    {
     "name": "stderr",
     "output_type": "stream",
     "text": [
      "\r 17%|█▋        | 561/3354 [00:09<00:41, 66.50it/s]"
     ]
    },
    {
     "name": "stderr",
     "output_type": "stream",
     "text": [
      "\r 17%|█▋        | 568/3354 [00:09<00:42, 65.03it/s]"
     ]
    },
    {
     "name": "stderr",
     "output_type": "stream",
     "text": [
      "\r 17%|█▋        | 575/3354 [00:09<00:42, 65.14it/s]"
     ]
    },
    {
     "name": "stderr",
     "output_type": "stream",
     "text": [
      "\r 17%|█▋        | 582/3354 [00:09<00:42, 65.66it/s]"
     ]
    },
    {
     "name": "stderr",
     "output_type": "stream",
     "text": [
      "\r 18%|█▊        | 589/3354 [00:09<00:41, 65.98it/s]"
     ]
    },
    {
     "name": "stderr",
     "output_type": "stream",
     "text": [
      "\r 18%|█▊        | 596/3354 [00:09<00:42, 65.66it/s]"
     ]
    },
    {
     "name": "stderr",
     "output_type": "stream",
     "text": [
      "\r 18%|█▊        | 603/3354 [00:09<00:42, 65.15it/s]"
     ]
    },
    {
     "name": "stderr",
     "output_type": "stream",
     "text": [
      "\r 18%|█▊        | 610/3354 [00:09<00:41, 65.83it/s]"
     ]
    },
    {
     "name": "stderr",
     "output_type": "stream",
     "text": [
      "\r 18%|█▊        | 617/3354 [00:09<00:42, 65.03it/s]"
     ]
    },
    {
     "name": "stderr",
     "output_type": "stream",
     "text": [
      "\r 19%|█▊        | 624/3354 [00:09<00:41, 65.57it/s]"
     ]
    },
    {
     "name": "stderr",
     "output_type": "stream",
     "text": [
      "\r 19%|█▉        | 631/3354 [00:10<00:41, 64.90it/s]"
     ]
    },
    {
     "name": "stderr",
     "output_type": "stream",
     "text": [
      "\r 19%|█▉        | 638/3354 [00:10<00:41, 65.53it/s]"
     ]
    },
    {
     "name": "stderr",
     "output_type": "stream",
     "text": [
      "\r 19%|█▉        | 645/3354 [00:10<00:41, 65.89it/s]"
     ]
    },
    {
     "name": "stderr",
     "output_type": "stream",
     "text": [
      "\r 19%|█▉        | 652/3354 [00:10<00:44, 61.10it/s]"
     ]
    },
    {
     "name": "stderr",
     "output_type": "stream",
     "text": [
      "\r 20%|█▉        | 659/3354 [00:10<00:43, 62.54it/s]"
     ]
    },
    {
     "name": "stderr",
     "output_type": "stream",
     "text": [
      "\r 20%|█▉        | 666/3354 [00:10<00:44, 60.03it/s]"
     ]
    },
    {
     "name": "stderr",
     "output_type": "stream",
     "text": [
      "\r 20%|██        | 673/3354 [00:10<00:44, 59.97it/s]"
     ]
    },
    {
     "name": "stderr",
     "output_type": "stream",
     "text": [
      "\r 20%|██        | 680/3354 [00:10<00:45, 59.07it/s]"
     ]
    },
    {
     "name": "stderr",
     "output_type": "stream",
     "text": [
      "\r 20%|██        | 686/3354 [00:11<00:46, 57.38it/s]"
     ]
    },
    {
     "name": "stderr",
     "output_type": "stream",
     "text": [
      "\r 21%|██        | 693/3354 [00:11<00:45, 58.64it/s]"
     ]
    },
    {
     "name": "stderr",
     "output_type": "stream",
     "text": [
      "\r 21%|██        | 699/3354 [00:11<00:47, 55.66it/s]"
     ]
    },
    {
     "name": "stderr",
     "output_type": "stream",
     "text": [
      "\r 21%|██        | 706/3354 [00:11<00:45, 58.07it/s]"
     ]
    },
    {
     "name": "stderr",
     "output_type": "stream",
     "text": [
      "\r 21%|██▏       | 713/3354 [00:11<00:44, 59.83it/s]"
     ]
    },
    {
     "name": "stderr",
     "output_type": "stream",
     "text": [
      "\r 21%|██▏       | 720/3354 [00:11<00:43, 60.92it/s]"
     ]
    },
    {
     "name": "stderr",
     "output_type": "stream",
     "text": [
      "\r 22%|██▏       | 727/3354 [00:11<00:42, 62.03it/s]"
     ]
    },
    {
     "name": "stderr",
     "output_type": "stream",
     "text": [
      "\r 22%|██▏       | 734/3354 [00:11<00:41, 63.15it/s]"
     ]
    },
    {
     "name": "stderr",
     "output_type": "stream",
     "text": [
      "\r 22%|██▏       | 741/3354 [00:11<00:40, 64.20it/s]"
     ]
    },
    {
     "name": "stderr",
     "output_type": "stream",
     "text": [
      "\r 22%|██▏       | 748/3354 [00:12<00:41, 63.51it/s]"
     ]
    },
    {
     "name": "stderr",
     "output_type": "stream",
     "text": [
      "\r 23%|██▎       | 755/3354 [00:12<00:41, 63.35it/s]"
     ]
    },
    {
     "name": "stderr",
     "output_type": "stream",
     "text": [
      "\r 23%|██▎       | 762/3354 [00:12<00:40, 64.39it/s]"
     ]
    },
    {
     "name": "stderr",
     "output_type": "stream",
     "text": [
      "\r 23%|██▎       | 769/3354 [00:12<00:39, 64.81it/s]"
     ]
    },
    {
     "name": "stderr",
     "output_type": "stream",
     "text": [
      "\r 23%|██▎       | 776/3354 [00:12<00:39, 65.42it/s]"
     ]
    },
    {
     "name": "stderr",
     "output_type": "stream",
     "text": [
      "\r 23%|██▎       | 783/3354 [00:12<00:39, 65.86it/s]"
     ]
    },
    {
     "name": "stderr",
     "output_type": "stream",
     "text": [
      "\r 24%|██▎       | 790/3354 [00:12<00:39, 65.45it/s]"
     ]
    },
    {
     "name": "stderr",
     "output_type": "stream",
     "text": [
      "\r 24%|██▍       | 797/3354 [00:12<00:39, 65.42it/s]"
     ]
    },
    {
     "name": "stderr",
     "output_type": "stream",
     "text": [
      "\r 24%|██▍       | 804/3354 [00:12<00:39, 64.68it/s]"
     ]
    },
    {
     "name": "stderr",
     "output_type": "stream",
     "text": [
      "\r 24%|██▍       | 811/3354 [00:12<00:39, 65.13it/s]"
     ]
    },
    {
     "name": "stderr",
     "output_type": "stream",
     "text": [
      "\r 24%|██▍       | 818/3354 [00:13<00:38, 65.09it/s]"
     ]
    },
    {
     "name": "stderr",
     "output_type": "stream",
     "text": [
      "\r 25%|██▍       | 825/3354 [00:13<00:38, 65.30it/s]"
     ]
    },
    {
     "name": "stderr",
     "output_type": "stream",
     "text": [
      "\r 25%|██▍       | 832/3354 [00:13<00:38, 65.60it/s]"
     ]
    },
    {
     "name": "stderr",
     "output_type": "stream",
     "text": [
      "\r 25%|██▌       | 839/3354 [00:13<00:37, 66.30it/s]"
     ]
    },
    {
     "name": "stderr",
     "output_type": "stream",
     "text": [
      "\r 25%|██▌       | 846/3354 [00:13<00:37, 66.46it/s]"
     ]
    },
    {
     "name": "stderr",
     "output_type": "stream",
     "text": [
      "\r 25%|██▌       | 853/3354 [00:13<00:38, 65.14it/s]"
     ]
    },
    {
     "name": "stderr",
     "output_type": "stream",
     "text": [
      "\r 26%|██▌       | 860/3354 [00:13<00:38, 65.04it/s]"
     ]
    },
    {
     "name": "stderr",
     "output_type": "stream",
     "text": [
      "\r 26%|██▌       | 867/3354 [00:13<00:38, 64.79it/s]"
     ]
    },
    {
     "name": "stderr",
     "output_type": "stream",
     "text": [
      "\r 26%|██▌       | 874/3354 [00:13<00:39, 62.89it/s]"
     ]
    },
    {
     "name": "stderr",
     "output_type": "stream",
     "text": [
      "\r 26%|██▋       | 881/3354 [00:14<00:40, 61.40it/s]"
     ]
    },
    {
     "name": "stderr",
     "output_type": "stream",
     "text": [
      "\r 26%|██▋       | 888/3354 [00:14<00:40, 60.97it/s]"
     ]
    },
    {
     "name": "stderr",
     "output_type": "stream",
     "text": [
      "\r 27%|██▋       | 895/3354 [00:14<00:39, 62.06it/s]"
     ]
    },
    {
     "name": "stderr",
     "output_type": "stream",
     "text": [
      "\r 27%|██▋       | 902/3354 [00:14<00:42, 58.35it/s]"
     ]
    },
    {
     "name": "stderr",
     "output_type": "stream",
     "text": [
      "\r 27%|██▋       | 909/3354 [00:14<00:40, 60.36it/s]"
     ]
    },
    {
     "name": "stderr",
     "output_type": "stream",
     "text": [
      "\r 27%|██▋       | 916/3354 [00:14<00:39, 61.75it/s]"
     ]
    },
    {
     "name": "stderr",
     "output_type": "stream",
     "text": [
      "\r 28%|██▊       | 923/3354 [00:14<00:38, 63.34it/s]"
     ]
    },
    {
     "name": "stderr",
     "output_type": "stream",
     "text": [
      "\r 28%|██▊       | 930/3354 [00:14<00:39, 61.22it/s]"
     ]
    },
    {
     "name": "stderr",
     "output_type": "stream",
     "text": [
      "\r 28%|██▊       | 937/3354 [00:14<00:38, 62.06it/s]"
     ]
    },
    {
     "name": "stderr",
     "output_type": "stream",
     "text": [
      "\r 28%|██▊       | 944/3354 [00:15<00:39, 61.55it/s]"
     ]
    },
    {
     "name": "stderr",
     "output_type": "stream",
     "text": [
      "\r 28%|██▊       | 951/3354 [00:15<00:42, 57.14it/s]"
     ]
    },
    {
     "name": "stderr",
     "output_type": "stream",
     "text": [
      "\r 29%|██▊       | 957/3354 [00:15<00:43, 54.78it/s]"
     ]
    },
    {
     "name": "stderr",
     "output_type": "stream",
     "text": [
      "\r 29%|██▊       | 964/3354 [00:15<00:41, 57.79it/s]"
     ]
    },
    {
     "name": "stderr",
     "output_type": "stream",
     "text": [
      "\r 29%|██▉       | 971/3354 [00:15<00:39, 60.22it/s]"
     ]
    },
    {
     "name": "stderr",
     "output_type": "stream",
     "text": [
      "\r 29%|██▉       | 978/3354 [00:15<00:38, 61.72it/s]"
     ]
    },
    {
     "name": "stderr",
     "output_type": "stream",
     "text": [
      "\r 29%|██▉       | 985/3354 [00:15<00:37, 62.91it/s]"
     ]
    },
    {
     "name": "stderr",
     "output_type": "stream",
     "text": [
      "\r 30%|██▉       | 992/3354 [00:15<00:38, 61.08it/s]"
     ]
    },
    {
     "name": "stderr",
     "output_type": "stream",
     "text": [
      "\r 30%|██▉       | 999/3354 [00:16<00:38, 61.75it/s]"
     ]
    },
    {
     "name": "stderr",
     "output_type": "stream",
     "text": [
      "\r 30%|██▉       | 1006/3354 [00:16<00:40, 58.47it/s]"
     ]
    },
    {
     "name": "stderr",
     "output_type": "stream",
     "text": [
      "\r 30%|███       | 1012/3354 [00:16<00:46, 50.36it/s]"
     ]
    },
    {
     "name": "stderr",
     "output_type": "stream",
     "text": [
      "\r 30%|███       | 1018/3354 [00:16<00:49, 47.45it/s]"
     ]
    },
    {
     "name": "stderr",
     "output_type": "stream",
     "text": [
      "\r 31%|███       | 1025/3354 [00:16<00:44, 52.06it/s]"
     ]
    },
    {
     "name": "stderr",
     "output_type": "stream",
     "text": [
      "\r 31%|███       | 1032/3354 [00:16<00:42, 55.23it/s]"
     ]
    },
    {
     "name": "stderr",
     "output_type": "stream",
     "text": [
      "\r 31%|███       | 1039/3354 [00:16<00:39, 58.41it/s]"
     ]
    },
    {
     "name": "stderr",
     "output_type": "stream",
     "text": [
      "\r 31%|███       | 1046/3354 [00:16<00:40, 57.33it/s]"
     ]
    },
    {
     "name": "stderr",
     "output_type": "stream",
     "text": [
      "\r 31%|███▏      | 1053/3354 [00:17<00:39, 58.88it/s]"
     ]
    },
    {
     "name": "stderr",
     "output_type": "stream",
     "text": [
      "\r 32%|███▏      | 1060/3354 [00:17<00:38, 60.22it/s]"
     ]
    },
    {
     "name": "stderr",
     "output_type": "stream",
     "text": [
      "\r 32%|███▏      | 1067/3354 [00:17<00:37, 60.81it/s]"
     ]
    },
    {
     "name": "stderr",
     "output_type": "stream",
     "text": [
      "\r 32%|███▏      | 1074/3354 [00:17<00:38, 58.66it/s]"
     ]
    },
    {
     "name": "stderr",
     "output_type": "stream",
     "text": [
      "\r 32%|███▏      | 1081/3354 [00:17<00:38, 59.80it/s]"
     ]
    },
    {
     "name": "stderr",
     "output_type": "stream",
     "text": [
      "\r 32%|███▏      | 1088/3354 [00:17<00:37, 60.86it/s]"
     ]
    },
    {
     "name": "stderr",
     "output_type": "stream",
     "text": [
      "\r 33%|███▎      | 1095/3354 [00:17<00:36, 62.44it/s]"
     ]
    },
    {
     "name": "stderr",
     "output_type": "stream",
     "text": [
      "\r 33%|███▎      | 1102/3354 [00:17<00:35, 63.57it/s]"
     ]
    },
    {
     "name": "stderr",
     "output_type": "stream",
     "text": [
      "\r 33%|███▎      | 1109/3354 [00:17<00:34, 64.74it/s]"
     ]
    },
    {
     "name": "stderr",
     "output_type": "stream",
     "text": [
      "\r 33%|███▎      | 1116/3354 [00:17<00:34, 65.32it/s]"
     ]
    },
    {
     "name": "stderr",
     "output_type": "stream",
     "text": [
      "\r 33%|███▎      | 1123/3354 [00:18<00:34, 64.63it/s]"
     ]
    },
    {
     "name": "stderr",
     "output_type": "stream",
     "text": [
      "\r 34%|███▎      | 1130/3354 [00:18<00:33, 65.58it/s]"
     ]
    },
    {
     "name": "stderr",
     "output_type": "stream",
     "text": [
      "\r 34%|███▍      | 1137/3354 [00:18<00:33, 65.66it/s]"
     ]
    },
    {
     "name": "stderr",
     "output_type": "stream",
     "text": [
      "\r 34%|███▍      | 1144/3354 [00:18<00:35, 62.59it/s]"
     ]
    },
    {
     "name": "stderr",
     "output_type": "stream",
     "text": [
      "\r 34%|███▍      | 1151/3354 [00:18<00:37, 58.89it/s]"
     ]
    },
    {
     "name": "stderr",
     "output_type": "stream",
     "text": [
      "\r 34%|███▍      | 1157/3354 [00:18<00:38, 57.31it/s]"
     ]
    },
    {
     "name": "stderr",
     "output_type": "stream",
     "text": [
      "\r 35%|███▍      | 1164/3354 [00:18<00:36, 59.96it/s]"
     ]
    },
    {
     "name": "stderr",
     "output_type": "stream",
     "text": [
      "\r 35%|███▍      | 1171/3354 [00:18<00:37, 58.66it/s]"
     ]
    },
    {
     "name": "stderr",
     "output_type": "stream",
     "text": [
      "\r 35%|███▌      | 1178/3354 [00:19<00:36, 59.37it/s]"
     ]
    },
    {
     "name": "stderr",
     "output_type": "stream",
     "text": [
      "\r 35%|███▌      | 1184/3354 [00:19<00:36, 58.90it/s]"
     ]
    },
    {
     "name": "stderr",
     "output_type": "stream",
     "text": [
      "\r 35%|███▌      | 1190/3354 [00:19<00:36, 59.15it/s]"
     ]
    },
    {
     "name": "stderr",
     "output_type": "stream",
     "text": [
      "\r 36%|███▌      | 1197/3354 [00:19<00:35, 60.98it/s]"
     ]
    },
    {
     "name": "stderr",
     "output_type": "stream",
     "text": [
      "\r 36%|███▌      | 1204/3354 [00:19<00:37, 57.44it/s]"
     ]
    },
    {
     "name": "stderr",
     "output_type": "stream",
     "text": [
      "\r 36%|███▌      | 1210/3354 [00:19<00:42, 50.63it/s]"
     ]
    },
    {
     "name": "stderr",
     "output_type": "stream",
     "text": [
      "\r 36%|███▋      | 1217/3354 [00:19<00:39, 53.60it/s]"
     ]
    },
    {
     "name": "stderr",
     "output_type": "stream",
     "text": [
      "\r 36%|███▋      | 1223/3354 [00:19<00:40, 52.68it/s]"
     ]
    },
    {
     "name": "stderr",
     "output_type": "stream",
     "text": [
      "\r 37%|███▋      | 1229/3354 [00:19<00:40, 51.85it/s]"
     ]
    },
    {
     "name": "stderr",
     "output_type": "stream",
     "text": [
      "\r 37%|███▋      | 1235/3354 [00:20<00:39, 53.74it/s]"
     ]
    },
    {
     "name": "stderr",
     "output_type": "stream",
     "text": [
      "\r 37%|███▋      | 1242/3354 [00:20<00:37, 56.26it/s]"
     ]
    },
    {
     "name": "stderr",
     "output_type": "stream",
     "text": [
      "\r 37%|███▋      | 1249/3354 [00:20<00:35, 58.66it/s]"
     ]
    },
    {
     "name": "stderr",
     "output_type": "stream",
     "text": [
      "\r 37%|███▋      | 1256/3354 [00:20<00:34, 61.34it/s]"
     ]
    },
    {
     "name": "stderr",
     "output_type": "stream",
     "text": [
      "\r 38%|███▊      | 1263/3354 [00:20<00:33, 62.87it/s]"
     ]
    },
    {
     "name": "stderr",
     "output_type": "stream",
     "text": [
      "\r 38%|███▊      | 1270/3354 [00:20<00:33, 63.06it/s]"
     ]
    },
    {
     "name": "stderr",
     "output_type": "stream",
     "text": [
      "\r 38%|███▊      | 1277/3354 [00:20<00:32, 64.22it/s]"
     ]
    },
    {
     "name": "stderr",
     "output_type": "stream",
     "text": [
      "\r 38%|███▊      | 1284/3354 [00:20<00:31, 65.14it/s]"
     ]
    },
    {
     "name": "stderr",
     "output_type": "stream",
     "text": [
      "\r 38%|███▊      | 1291/3354 [00:20<00:31, 65.55it/s]"
     ]
    },
    {
     "name": "stderr",
     "output_type": "stream",
     "text": [
      "\r 39%|███▊      | 1298/3354 [00:21<00:31, 66.14it/s]"
     ]
    },
    {
     "name": "stderr",
     "output_type": "stream",
     "text": [
      "\r 39%|███▉      | 1305/3354 [00:21<00:31, 65.12it/s]"
     ]
    },
    {
     "name": "stderr",
     "output_type": "stream",
     "text": [
      "\r 39%|███▉      | 1312/3354 [00:21<00:31, 65.19it/s]"
     ]
    },
    {
     "name": "stderr",
     "output_type": "stream",
     "text": [
      "\r 39%|███▉      | 1319/3354 [00:21<00:31, 65.24it/s]"
     ]
    },
    {
     "name": "stderr",
     "output_type": "stream",
     "text": [
      "\r 40%|███▉      | 1326/3354 [00:21<00:31, 64.70it/s]"
     ]
    },
    {
     "name": "stderr",
     "output_type": "stream",
     "text": [
      "\r 40%|███▉      | 1333/3354 [00:21<00:35, 57.54it/s]"
     ]
    },
    {
     "name": "stderr",
     "output_type": "stream",
     "text": [
      "\r 40%|███▉      | 1339/3354 [00:21<00:35, 57.33it/s]"
     ]
    },
    {
     "name": "stderr",
     "output_type": "stream",
     "text": [
      "\r 40%|████      | 1345/3354 [00:21<00:34, 57.52it/s]"
     ]
    },
    {
     "name": "stderr",
     "output_type": "stream",
     "text": [
      "\r 40%|████      | 1351/3354 [00:21<00:35, 56.80it/s]"
     ]
    },
    {
     "name": "stderr",
     "output_type": "stream",
     "text": [
      "\r 40%|████      | 1357/3354 [00:22<00:36, 55.18it/s]"
     ]
    },
    {
     "name": "stderr",
     "output_type": "stream",
     "text": [
      "\r 41%|████      | 1363/3354 [00:22<00:36, 54.18it/s]"
     ]
    },
    {
     "name": "stderr",
     "output_type": "stream",
     "text": [
      "\r 41%|████      | 1369/3354 [00:22<00:36, 53.80it/s]"
     ]
    },
    {
     "name": "stderr",
     "output_type": "stream",
     "text": [
      "\r 41%|████      | 1375/3354 [00:22<00:37, 53.31it/s]"
     ]
    },
    {
     "name": "stderr",
     "output_type": "stream",
     "text": [
      "\r 41%|████      | 1381/3354 [00:22<00:37, 52.37it/s]"
     ]
    },
    {
     "name": "stderr",
     "output_type": "stream",
     "text": [
      "\r 41%|████▏     | 1387/3354 [00:22<00:41, 47.68it/s]"
     ]
    },
    {
     "name": "stderr",
     "output_type": "stream",
     "text": [
      "\r 42%|████▏     | 1392/3354 [00:22<00:42, 46.22it/s]"
     ]
    },
    {
     "name": "stderr",
     "output_type": "stream",
     "text": [
      "\r 42%|████▏     | 1397/3354 [00:22<00:46, 42.48it/s]"
     ]
    },
    {
     "name": "stderr",
     "output_type": "stream",
     "text": [
      "\r 42%|████▏     | 1403/3354 [00:23<00:43, 45.34it/s]"
     ]
    },
    {
     "name": "stderr",
     "output_type": "stream",
     "text": [
      "\r 42%|████▏     | 1408/3354 [00:23<00:44, 44.15it/s]"
     ]
    },
    {
     "name": "stderr",
     "output_type": "stream",
     "text": [
      "\r 42%|████▏     | 1415/3354 [00:23<00:40, 48.28it/s]"
     ]
    },
    {
     "name": "stderr",
     "output_type": "stream",
     "text": [
      "\r 42%|████▏     | 1422/3354 [00:23<00:36, 52.65it/s]"
     ]
    },
    {
     "name": "stderr",
     "output_type": "stream",
     "text": [
      "\r 43%|████▎     | 1429/3354 [00:23<00:34, 56.30it/s]"
     ]
    },
    {
     "name": "stderr",
     "output_type": "stream",
     "text": [
      "\r 43%|████▎     | 1436/3354 [00:23<00:33, 57.94it/s]"
     ]
    },
    {
     "name": "stderr",
     "output_type": "stream",
     "text": [
      "\r 43%|████▎     | 1443/3354 [00:23<00:31, 60.56it/s]"
     ]
    },
    {
     "name": "stderr",
     "output_type": "stream",
     "text": [
      "\r 43%|████▎     | 1450/3354 [00:23<00:30, 62.29it/s]"
     ]
    },
    {
     "name": "stderr",
     "output_type": "stream",
     "text": [
      "\r 43%|████▎     | 1457/3354 [00:23<00:29, 63.28it/s]"
     ]
    },
    {
     "name": "stderr",
     "output_type": "stream",
     "text": [
      "\r 44%|████▎     | 1464/3354 [00:24<00:29, 64.31it/s]"
     ]
    },
    {
     "name": "stderr",
     "output_type": "stream",
     "text": [
      "\r 44%|████▍     | 1471/3354 [00:24<00:29, 64.24it/s]"
     ]
    },
    {
     "name": "stderr",
     "output_type": "stream",
     "text": [
      "\r 44%|████▍     | 1478/3354 [00:24<00:28, 64.70it/s]"
     ]
    },
    {
     "name": "stderr",
     "output_type": "stream",
     "text": [
      "\r 44%|████▍     | 1485/3354 [00:24<00:30, 61.07it/s]"
     ]
    },
    {
     "name": "stderr",
     "output_type": "stream",
     "text": [
      "\r 44%|████▍     | 1492/3354 [00:24<00:33, 56.16it/s]"
     ]
    },
    {
     "name": "stderr",
     "output_type": "stream",
     "text": [
      "\r 45%|████▍     | 1499/3354 [00:24<00:33, 55.95it/s]"
     ]
    },
    {
     "name": "stderr",
     "output_type": "stream",
     "text": [
      "\r 45%|████▍     | 1505/3354 [00:24<00:37, 48.71it/s]"
     ]
    },
    {
     "name": "stderr",
     "output_type": "stream",
     "text": [
      "\r 45%|████▌     | 1511/3354 [00:24<00:36, 50.22it/s]"
     ]
    },
    {
     "name": "stderr",
     "output_type": "stream",
     "text": [
      "\r 45%|████▌     | 1518/3354 [00:25<00:34, 53.89it/s]"
     ]
    },
    {
     "name": "stderr",
     "output_type": "stream",
     "text": [
      "\r 45%|████▌     | 1524/3354 [00:25<00:34, 53.11it/s]"
     ]
    },
    {
     "name": "stderr",
     "output_type": "stream",
     "text": [
      "\r 46%|████▌     | 1531/3354 [00:25<00:32, 56.06it/s]"
     ]
    },
    {
     "name": "stderr",
     "output_type": "stream",
     "text": [
      "\r 46%|████▌     | 1538/3354 [00:25<00:31, 58.55it/s]"
     ]
    },
    {
     "name": "stderr",
     "output_type": "stream",
     "text": [
      "\r 46%|████▌     | 1545/3354 [00:25<00:29, 61.12it/s]"
     ]
    },
    {
     "name": "stderr",
     "output_type": "stream",
     "text": [
      "\r 46%|████▋     | 1552/3354 [00:25<00:28, 62.81it/s]"
     ]
    },
    {
     "name": "stderr",
     "output_type": "stream",
     "text": [
      "\r 46%|████▋     | 1559/3354 [00:25<00:28, 62.93it/s]"
     ]
    },
    {
     "name": "stderr",
     "output_type": "stream",
     "text": [
      "\r 47%|████▋     | 1566/3354 [00:25<00:27, 64.17it/s]"
     ]
    },
    {
     "name": "stderr",
     "output_type": "stream",
     "text": [
      "\r 47%|████▋     | 1573/3354 [00:25<00:27, 64.88it/s]"
     ]
    },
    {
     "name": "stderr",
     "output_type": "stream",
     "text": [
      "\r 47%|████▋     | 1580/3354 [00:25<00:27, 65.54it/s]"
     ]
    },
    {
     "name": "stderr",
     "output_type": "stream",
     "text": [
      "\r 47%|████▋     | 1587/3354 [00:26<00:28, 62.75it/s]"
     ]
    },
    {
     "name": "stderr",
     "output_type": "stream",
     "text": [
      "\r 48%|████▊     | 1594/3354 [00:26<00:27, 63.54it/s]"
     ]
    },
    {
     "name": "stderr",
     "output_type": "stream",
     "text": [
      "\r 48%|████▊     | 1601/3354 [00:26<00:27, 64.44it/s]"
     ]
    },
    {
     "name": "stderr",
     "output_type": "stream",
     "text": [
      "\r 48%|████▊     | 1608/3354 [00:26<00:29, 59.06it/s]"
     ]
    },
    {
     "name": "stderr",
     "output_type": "stream",
     "text": [
      "\r 48%|████▊     | 1615/3354 [00:26<00:29, 59.55it/s]"
     ]
    },
    {
     "name": "stderr",
     "output_type": "stream",
     "text": [
      "\r 48%|████▊     | 1622/3354 [00:26<00:28, 60.52it/s]"
     ]
    },
    {
     "name": "stderr",
     "output_type": "stream",
     "text": [
      "\r 49%|████▊     | 1629/3354 [00:26<00:27, 62.19it/s]"
     ]
    },
    {
     "name": "stderr",
     "output_type": "stream",
     "text": [
      "\r 49%|████▉     | 1636/3354 [00:26<00:26, 63.87it/s]"
     ]
    },
    {
     "name": "stderr",
     "output_type": "stream",
     "text": [
      "\r 49%|████▉     | 1643/3354 [00:27<00:27, 62.61it/s]"
     ]
    },
    {
     "name": "stderr",
     "output_type": "stream",
     "text": [
      "\r 49%|████▉     | 1650/3354 [00:27<00:27, 61.82it/s]"
     ]
    },
    {
     "name": "stderr",
     "output_type": "stream",
     "text": [
      "\r 49%|████▉     | 1657/3354 [00:27<00:27, 61.81it/s]"
     ]
    },
    {
     "name": "stderr",
     "output_type": "stream",
     "text": [
      "\r 50%|████▉     | 1664/3354 [00:27<00:32, 52.49it/s]"
     ]
    },
    {
     "name": "stderr",
     "output_type": "stream",
     "text": [
      "\r 50%|████▉     | 1671/3354 [00:27<00:30, 54.99it/s]"
     ]
    },
    {
     "name": "stderr",
     "output_type": "stream",
     "text": [
      "\r 50%|█████     | 1677/3354 [00:27<00:29, 56.39it/s]"
     ]
    },
    {
     "name": "stderr",
     "output_type": "stream",
     "text": [
      "\r 50%|█████     | 1684/3354 [00:27<00:28, 58.79it/s]"
     ]
    },
    {
     "name": "stderr",
     "output_type": "stream",
     "text": [
      "\r 50%|█████     | 1691/3354 [00:27<00:27, 60.42it/s]"
     ]
    },
    {
     "name": "stderr",
     "output_type": "stream",
     "text": [
      "\r 51%|█████     | 1698/3354 [00:27<00:26, 62.22it/s]"
     ]
    },
    {
     "name": "stderr",
     "output_type": "stream",
     "text": [
      "\r 51%|█████     | 1705/3354 [00:28<00:26, 63.26it/s]"
     ]
    },
    {
     "name": "stderr",
     "output_type": "stream",
     "text": [
      "\r 51%|█████     | 1712/3354 [00:28<00:25, 63.57it/s]"
     ]
    },
    {
     "name": "stderr",
     "output_type": "stream",
     "text": [
      "\r 51%|█████▏    | 1719/3354 [00:28<00:25, 64.65it/s]"
     ]
    },
    {
     "name": "stderr",
     "output_type": "stream",
     "text": [
      "\r 51%|█████▏    | 1726/3354 [00:28<00:24, 65.56it/s]"
     ]
    },
    {
     "name": "stderr",
     "output_type": "stream",
     "text": [
      "\r 52%|█████▏    | 1733/3354 [00:28<00:24, 66.23it/s]"
     ]
    },
    {
     "name": "stderr",
     "output_type": "stream",
     "text": [
      "\r 52%|█████▏    | 1740/3354 [00:28<00:24, 65.69it/s]"
     ]
    },
    {
     "name": "stderr",
     "output_type": "stream",
     "text": [
      "\r 52%|█████▏    | 1747/3354 [00:28<00:24, 66.20it/s]"
     ]
    },
    {
     "name": "stderr",
     "output_type": "stream",
     "text": [
      "\r 52%|█████▏    | 1754/3354 [00:28<00:24, 66.41it/s]"
     ]
    },
    {
     "name": "stderr",
     "output_type": "stream",
     "text": [
      "\r 53%|█████▎    | 1761/3354 [00:28<00:23, 66.52it/s]"
     ]
    },
    {
     "name": "stderr",
     "output_type": "stream",
     "text": [
      "\r 53%|█████▎    | 1768/3354 [00:29<00:23, 66.77it/s]"
     ]
    },
    {
     "name": "stderr",
     "output_type": "stream",
     "text": [
      "\r 53%|█████▎    | 1775/3354 [00:29<00:23, 65.96it/s]"
     ]
    },
    {
     "name": "stderr",
     "output_type": "stream",
     "text": [
      "\r 53%|█████▎    | 1782/3354 [00:29<00:23, 66.11it/s]"
     ]
    },
    {
     "name": "stderr",
     "output_type": "stream",
     "text": [
      "\r 53%|█████▎    | 1789/3354 [00:29<00:23, 66.72it/s]"
     ]
    },
    {
     "name": "stderr",
     "output_type": "stream",
     "text": [
      "\r 54%|█████▎    | 1796/3354 [00:29<00:23, 66.70it/s]"
     ]
    },
    {
     "name": "stderr",
     "output_type": "stream",
     "text": [
      "\r 54%|█████▍    | 1803/3354 [00:29<00:23, 67.06it/s]"
     ]
    },
    {
     "name": "stderr",
     "output_type": "stream",
     "text": [
      "\r 54%|█████▍    | 1810/3354 [00:29<00:23, 66.56it/s]"
     ]
    },
    {
     "name": "stderr",
     "output_type": "stream",
     "text": [
      "\r 54%|█████▍    | 1817/3354 [00:29<00:23, 66.78it/s]"
     ]
    },
    {
     "name": "stderr",
     "output_type": "stream",
     "text": [
      "\r 54%|█████▍    | 1824/3354 [00:29<00:22, 67.10it/s]"
     ]
    },
    {
     "name": "stderr",
     "output_type": "stream",
     "text": [
      "\r 55%|█████▍    | 1831/3354 [00:29<00:22, 67.02it/s]"
     ]
    },
    {
     "name": "stderr",
     "output_type": "stream",
     "text": [
      "\r 55%|█████▍    | 1838/3354 [00:30<00:22, 67.15it/s]"
     ]
    },
    {
     "name": "stderr",
     "output_type": "stream",
     "text": [
      "\r 55%|█████▌    | 1845/3354 [00:30<00:22, 65.98it/s]"
     ]
    },
    {
     "name": "stderr",
     "output_type": "stream",
     "text": [
      "\r 55%|█████▌    | 1852/3354 [00:30<00:22, 66.28it/s]"
     ]
    },
    {
     "name": "stderr",
     "output_type": "stream",
     "text": [
      "\r 55%|█████▌    | 1859/3354 [00:30<00:22, 66.28it/s]"
     ]
    },
    {
     "name": "stderr",
     "output_type": "stream",
     "text": [
      "\r 56%|█████▌    | 1866/3354 [00:30<00:22, 65.57it/s]"
     ]
    },
    {
     "name": "stderr",
     "output_type": "stream",
     "text": [
      "\r 56%|█████▌    | 1873/3354 [00:30<00:22, 65.43it/s]"
     ]
    },
    {
     "name": "stderr",
     "output_type": "stream",
     "text": [
      "\r 56%|█████▌    | 1880/3354 [00:30<00:22, 65.92it/s]"
     ]
    },
    {
     "name": "stderr",
     "output_type": "stream",
     "text": [
      "\r 56%|█████▋    | 1887/3354 [00:30<00:22, 66.06it/s]"
     ]
    },
    {
     "name": "stderr",
     "output_type": "stream",
     "text": [
      "\r 56%|█████▋    | 1894/3354 [00:30<00:22, 66.04it/s]"
     ]
    },
    {
     "name": "stderr",
     "output_type": "stream",
     "text": [
      "\r 57%|█████▋    | 1901/3354 [00:31<00:21, 66.50it/s]"
     ]
    },
    {
     "name": "stderr",
     "output_type": "stream",
     "text": [
      "\r 57%|█████▋    | 1908/3354 [00:31<00:22, 65.72it/s]"
     ]
    },
    {
     "name": "stderr",
     "output_type": "stream",
     "text": [
      "\r 57%|█████▋    | 1915/3354 [00:31<00:21, 65.98it/s]"
     ]
    },
    {
     "name": "stderr",
     "output_type": "stream",
     "text": [
      "\r 57%|█████▋    | 1922/3354 [00:31<00:21, 65.96it/s]"
     ]
    },
    {
     "name": "stderr",
     "output_type": "stream",
     "text": [
      "\r 58%|█████▊    | 1929/3354 [00:31<00:21, 66.22it/s]"
     ]
    },
    {
     "name": "stderr",
     "output_type": "stream",
     "text": [
      "\r 58%|█████▊    | 1936/3354 [00:31<00:21, 66.58it/s]"
     ]
    },
    {
     "name": "stderr",
     "output_type": "stream",
     "text": [
      "\r 58%|█████▊    | 1943/3354 [00:31<00:21, 65.95it/s]"
     ]
    },
    {
     "name": "stderr",
     "output_type": "stream",
     "text": [
      "\r 58%|█████▊    | 1950/3354 [00:31<00:21, 66.47it/s]"
     ]
    },
    {
     "name": "stderr",
     "output_type": "stream",
     "text": [
      "\r 58%|█████▊    | 1957/3354 [00:31<00:20, 66.84it/s]"
     ]
    },
    {
     "name": "stderr",
     "output_type": "stream",
     "text": [
      "\r 59%|█████▊    | 1964/3354 [00:31<00:20, 66.72it/s]"
     ]
    },
    {
     "name": "stderr",
     "output_type": "stream",
     "text": [
      "\r 59%|█████▉    | 1971/3354 [00:32<00:20, 66.94it/s]"
     ]
    },
    {
     "name": "stderr",
     "output_type": "stream",
     "text": [
      "\r 59%|█████▉    | 1978/3354 [00:32<00:21, 65.42it/s]"
     ]
    },
    {
     "name": "stderr",
     "output_type": "stream",
     "text": [
      "\r 59%|█████▉    | 1985/3354 [00:32<00:20, 65.84it/s]"
     ]
    },
    {
     "name": "stderr",
     "output_type": "stream",
     "text": [
      "\r 59%|█████▉    | 1992/3354 [00:32<00:20, 65.93it/s]"
     ]
    },
    {
     "name": "stderr",
     "output_type": "stream",
     "text": [
      "\r 60%|█████▉    | 1999/3354 [00:32<00:20, 66.20it/s]"
     ]
    },
    {
     "name": "stderr",
     "output_type": "stream",
     "text": [
      "\r 60%|█████▉    | 2006/3354 [00:32<00:20, 66.43it/s]"
     ]
    },
    {
     "name": "stderr",
     "output_type": "stream",
     "text": [
      "\r 60%|██████    | 2013/3354 [00:32<00:20, 66.70it/s]"
     ]
    },
    {
     "name": "stderr",
     "output_type": "stream",
     "text": [
      "\r 60%|██████    | 2020/3354 [00:32<00:19, 66.84it/s]"
     ]
    },
    {
     "name": "stderr",
     "output_type": "stream",
     "text": [
      "\r 60%|██████    | 2027/3354 [00:32<00:21, 61.43it/s]"
     ]
    },
    {
     "name": "stderr",
     "output_type": "stream",
     "text": [
      "\r 61%|██████    | 2034/3354 [00:33<00:21, 61.94it/s]"
     ]
    },
    {
     "name": "stderr",
     "output_type": "stream",
     "text": [
      "\r 61%|██████    | 2041/3354 [00:33<00:21, 62.08it/s]"
     ]
    },
    {
     "name": "stderr",
     "output_type": "stream",
     "text": [
      "\r 61%|██████    | 2048/3354 [00:33<00:20, 62.97it/s]"
     ]
    },
    {
     "name": "stderr",
     "output_type": "stream",
     "text": [
      "\r 61%|██████▏   | 2055/3354 [00:33<00:22, 57.93it/s]"
     ]
    },
    {
     "name": "stderr",
     "output_type": "stream",
     "text": [
      "\r 61%|██████▏   | 2061/3354 [00:33<00:22, 56.40it/s]"
     ]
    },
    {
     "name": "stderr",
     "output_type": "stream",
     "text": [
      "\r 62%|██████▏   | 2067/3354 [00:33<00:22, 57.02it/s]"
     ]
    },
    {
     "name": "stderr",
     "output_type": "stream",
     "text": [
      "\r 62%|██████▏   | 2073/3354 [00:33<00:23, 53.69it/s]"
     ]
    },
    {
     "name": "stderr",
     "output_type": "stream",
     "text": [
      "\r 62%|██████▏   | 2080/3354 [00:33<00:22, 55.76it/s]"
     ]
    },
    {
     "name": "stderr",
     "output_type": "stream",
     "text": [
      "\r 62%|██████▏   | 2087/3354 [00:33<00:21, 58.03it/s]"
     ]
    },
    {
     "name": "stderr",
     "output_type": "stream",
     "text": [
      "\r 62%|██████▏   | 2093/3354 [00:34<00:23, 53.47it/s]"
     ]
    },
    {
     "name": "stderr",
     "output_type": "stream",
     "text": [
      "\r 63%|██████▎   | 2100/3354 [00:34<00:22, 56.07it/s]"
     ]
    },
    {
     "name": "stderr",
     "output_type": "stream",
     "text": [
      "\r 63%|██████▎   | 2107/3354 [00:34<00:21, 59.17it/s]"
     ]
    },
    {
     "name": "stderr",
     "output_type": "stream",
     "text": [
      "\r 63%|██████▎   | 2114/3354 [00:34<00:20, 61.13it/s]"
     ]
    },
    {
     "name": "stderr",
     "output_type": "stream",
     "text": [
      "\r 63%|██████▎   | 2121/3354 [00:34<00:19, 62.77it/s]"
     ]
    },
    {
     "name": "stderr",
     "output_type": "stream",
     "text": [
      "\r 63%|██████▎   | 2128/3354 [00:34<00:19, 63.22it/s]"
     ]
    },
    {
     "name": "stderr",
     "output_type": "stream",
     "text": [
      "\r 64%|██████▎   | 2135/3354 [00:34<00:19, 64.06it/s]"
     ]
    },
    {
     "name": "stderr",
     "output_type": "stream",
     "text": [
      "\r 64%|██████▍   | 2142/3354 [00:34<00:18, 65.18it/s]"
     ]
    },
    {
     "name": "stderr",
     "output_type": "stream",
     "text": [
      "\r 64%|██████▍   | 2149/3354 [00:34<00:18, 65.37it/s]"
     ]
    },
    {
     "name": "stderr",
     "output_type": "stream",
     "text": [
      "\r 64%|██████▍   | 2156/3354 [00:35<00:18, 65.75it/s]"
     ]
    },
    {
     "name": "stderr",
     "output_type": "stream",
     "text": [
      "\r 64%|██████▍   | 2163/3354 [00:35<00:18, 64.99it/s]"
     ]
    },
    {
     "name": "stderr",
     "output_type": "stream",
     "text": [
      "\r 65%|██████▍   | 2170/3354 [00:35<00:18, 65.34it/s]"
     ]
    },
    {
     "name": "stderr",
     "output_type": "stream",
     "text": [
      "\r 65%|██████▍   | 2177/3354 [00:35<00:18, 64.36it/s]"
     ]
    },
    {
     "name": "stderr",
     "output_type": "stream",
     "text": [
      "\r 65%|██████▌   | 2184/3354 [00:35<00:18, 63.54it/s]"
     ]
    },
    {
     "name": "stderr",
     "output_type": "stream",
     "text": [
      "\r 65%|██████▌   | 2191/3354 [00:35<00:18, 62.24it/s]"
     ]
    },
    {
     "name": "stderr",
     "output_type": "stream",
     "text": [
      "\r 66%|██████▌   | 2198/3354 [00:35<00:20, 56.29it/s]"
     ]
    },
    {
     "name": "stderr",
     "output_type": "stream",
     "text": [
      "\r 66%|██████▌   | 2204/3354 [00:35<00:21, 53.98it/s]"
     ]
    },
    {
     "name": "stderr",
     "output_type": "stream",
     "text": [
      "\r 66%|██████▌   | 2211/3354 [00:36<00:20, 56.09it/s]"
     ]
    },
    {
     "name": "stderr",
     "output_type": "stream",
     "text": [
      "\r 66%|██████▌   | 2217/3354 [00:36<00:20, 56.83it/s]"
     ]
    },
    {
     "name": "stderr",
     "output_type": "stream",
     "text": [
      "\r 66%|██████▋   | 2224/3354 [00:36<00:19, 59.15it/s]"
     ]
    },
    {
     "name": "stderr",
     "output_type": "stream",
     "text": [
      "\r 67%|██████▋   | 2231/3354 [00:36<00:18, 59.79it/s]"
     ]
    },
    {
     "name": "stderr",
     "output_type": "stream",
     "text": [
      "\r 67%|██████▋   | 2238/3354 [00:36<00:18, 61.41it/s]"
     ]
    },
    {
     "name": "stderr",
     "output_type": "stream",
     "text": [
      "\r 67%|██████▋   | 2245/3354 [00:36<00:17, 63.02it/s]"
     ]
    },
    {
     "name": "stderr",
     "output_type": "stream",
     "text": [
      "\r 67%|██████▋   | 2252/3354 [00:36<00:17, 62.50it/s]"
     ]
    },
    {
     "name": "stderr",
     "output_type": "stream",
     "text": [
      "\r 67%|██████▋   | 2259/3354 [00:36<00:17, 62.19it/s]"
     ]
    },
    {
     "name": "stderr",
     "output_type": "stream",
     "text": [
      "\r 68%|██████▊   | 2266/3354 [00:36<00:17, 62.73it/s]"
     ]
    },
    {
     "name": "stderr",
     "output_type": "stream",
     "text": [
      "\r 68%|██████▊   | 2273/3354 [00:37<00:19, 56.56it/s]"
     ]
    },
    {
     "name": "stderr",
     "output_type": "stream",
     "text": [
      "\r 68%|██████▊   | 2280/3354 [00:37<00:18, 58.32it/s]"
     ]
    },
    {
     "name": "stderr",
     "output_type": "stream",
     "text": [
      "\r 68%|██████▊   | 2287/3354 [00:37<00:17, 60.22it/s]"
     ]
    },
    {
     "name": "stderr",
     "output_type": "stream",
     "text": [
      "\r 68%|██████▊   | 2294/3354 [00:37<00:17, 59.86it/s]"
     ]
    },
    {
     "name": "stderr",
     "output_type": "stream",
     "text": [
      "\r 69%|██████▊   | 2301/3354 [00:37<00:17, 61.33it/s]"
     ]
    },
    {
     "name": "stderr",
     "output_type": "stream",
     "text": [
      "\r 69%|██████▉   | 2308/3354 [00:37<00:17, 61.41it/s]"
     ]
    },
    {
     "name": "stderr",
     "output_type": "stream",
     "text": [
      "\r 69%|██████▉   | 2315/3354 [00:37<00:18, 57.41it/s]"
     ]
    },
    {
     "name": "stderr",
     "output_type": "stream",
     "text": [
      "\r 69%|██████▉   | 2321/3354 [00:37<00:19, 53.72it/s]"
     ]
    },
    {
     "name": "stderr",
     "output_type": "stream",
     "text": [
      "\r 69%|██████▉   | 2327/3354 [00:38<00:21, 48.42it/s]"
     ]
    },
    {
     "name": "stderr",
     "output_type": "stream",
     "text": [
      "\r 70%|██████▉   | 2333/3354 [00:38<00:22, 45.07it/s]"
     ]
    },
    {
     "name": "stderr",
     "output_type": "stream",
     "text": [
      "\r 70%|██████▉   | 2338/3354 [00:38<00:21, 46.39it/s]"
     ]
    },
    {
     "name": "stderr",
     "output_type": "stream",
     "text": [
      "\r 70%|██████▉   | 2345/3354 [00:38<00:19, 51.24it/s]"
     ]
    },
    {
     "name": "stderr",
     "output_type": "stream",
     "text": [
      "\r 70%|███████   | 2352/3354 [00:38<00:18, 54.69it/s]"
     ]
    },
    {
     "name": "stderr",
     "output_type": "stream",
     "text": [
      "\r 70%|███████   | 2359/3354 [00:38<00:17, 57.36it/s]"
     ]
    },
    {
     "name": "stderr",
     "output_type": "stream",
     "text": [
      "\r 71%|███████   | 2366/3354 [00:38<00:17, 57.40it/s]"
     ]
    },
    {
     "name": "stderr",
     "output_type": "stream",
     "text": [
      "\r 71%|███████   | 2372/3354 [00:38<00:18, 54.15it/s]"
     ]
    },
    {
     "name": "stderr",
     "output_type": "stream",
     "text": [
      "\r 71%|███████   | 2378/3354 [00:38<00:17, 55.77it/s]"
     ]
    },
    {
     "name": "stderr",
     "output_type": "stream",
     "text": [
      "\r 71%|███████   | 2385/3354 [00:39<00:16, 57.66it/s]"
     ]
    },
    {
     "name": "stderr",
     "output_type": "stream",
     "text": [
      "\r 71%|███████▏  | 2392/3354 [00:39<00:16, 59.07it/s]"
     ]
    },
    {
     "name": "stderr",
     "output_type": "stream",
     "text": [
      "\r 72%|███████▏  | 2399/3354 [00:39<00:15, 61.06it/s]"
     ]
    },
    {
     "name": "stderr",
     "output_type": "stream",
     "text": [
      "\r 72%|███████▏  | 2406/3354 [00:39<00:15, 62.32it/s]"
     ]
    },
    {
     "name": "stderr",
     "output_type": "stream",
     "text": [
      "\r 72%|███████▏  | 2413/3354 [00:39<00:14, 63.85it/s]"
     ]
    },
    {
     "name": "stderr",
     "output_type": "stream",
     "text": [
      "\r 72%|███████▏  | 2420/3354 [00:39<00:14, 63.97it/s]"
     ]
    },
    {
     "name": "stderr",
     "output_type": "stream",
     "text": [
      "\r 72%|███████▏  | 2427/3354 [00:39<00:14, 64.92it/s]"
     ]
    },
    {
     "name": "stderr",
     "output_type": "stream",
     "text": [
      "\r 73%|███████▎  | 2434/3354 [00:39<00:14, 65.32it/s]"
     ]
    },
    {
     "name": "stderr",
     "output_type": "stream",
     "text": [
      "\r 73%|███████▎  | 2441/3354 [00:39<00:13, 65.35it/s]"
     ]
    },
    {
     "name": "stderr",
     "output_type": "stream",
     "text": [
      "\r 73%|███████▎  | 2448/3354 [00:40<00:13, 65.27it/s]"
     ]
    },
    {
     "name": "stderr",
     "output_type": "stream",
     "text": [
      "\r 73%|███████▎  | 2455/3354 [00:40<00:13, 64.91it/s]"
     ]
    },
    {
     "name": "stderr",
     "output_type": "stream",
     "text": [
      "\r 73%|███████▎  | 2462/3354 [00:40<00:13, 65.50it/s]"
     ]
    },
    {
     "name": "stderr",
     "output_type": "stream",
     "text": [
      "\r 74%|███████▎  | 2469/3354 [00:40<00:13, 66.12it/s]"
     ]
    },
    {
     "name": "stderr",
     "output_type": "stream",
     "text": [
      "\r 74%|███████▍  | 2476/3354 [00:40<00:13, 66.64it/s]"
     ]
    },
    {
     "name": "stderr",
     "output_type": "stream",
     "text": [
      "\r 74%|███████▍  | 2483/3354 [00:40<00:13, 66.85it/s]"
     ]
    },
    {
     "name": "stderr",
     "output_type": "stream",
     "text": [
      "\r 74%|███████▍  | 2490/3354 [00:40<00:13, 66.25it/s]"
     ]
    },
    {
     "name": "stderr",
     "output_type": "stream",
     "text": [
      "\r 74%|███████▍  | 2497/3354 [00:40<00:12, 66.34it/s]"
     ]
    },
    {
     "name": "stderr",
     "output_type": "stream",
     "text": [
      "\r 75%|███████▍  | 2504/3354 [00:40<00:12, 66.58it/s]"
     ]
    },
    {
     "name": "stderr",
     "output_type": "stream",
     "text": [
      "\r 75%|███████▍  | 2511/3354 [00:40<00:12, 66.94it/s]"
     ]
    },
    {
     "name": "stderr",
     "output_type": "stream",
     "text": [
      "\r 75%|███████▌  | 2518/3354 [00:41<00:12, 67.08it/s]"
     ]
    },
    {
     "name": "stderr",
     "output_type": "stream",
     "text": [
      "\r 75%|███████▌  | 2525/3354 [00:41<00:12, 66.50it/s]"
     ]
    },
    {
     "name": "stderr",
     "output_type": "stream",
     "text": [
      "\r 75%|███████▌  | 2532/3354 [00:41<00:12, 66.35it/s]"
     ]
    },
    {
     "name": "stderr",
     "output_type": "stream",
     "text": [
      "\r 76%|███████▌  | 2539/3354 [00:41<00:12, 66.75it/s]"
     ]
    },
    {
     "name": "stderr",
     "output_type": "stream",
     "text": [
      "\r 76%|███████▌  | 2546/3354 [00:41<00:12, 66.45it/s]"
     ]
    },
    {
     "name": "stderr",
     "output_type": "stream",
     "text": [
      "\r 76%|███████▌  | 2553/3354 [00:41<00:12, 66.07it/s]"
     ]
    },
    {
     "name": "stderr",
     "output_type": "stream",
     "text": [
      "\r 76%|███████▋  | 2560/3354 [00:41<00:11, 66.20it/s]"
     ]
    },
    {
     "name": "stderr",
     "output_type": "stream",
     "text": [
      "\r 77%|███████▋  | 2567/3354 [00:41<00:11, 66.47it/s]"
     ]
    },
    {
     "name": "stderr",
     "output_type": "stream",
     "text": [
      "\r 77%|███████▋  | 2574/3354 [00:41<00:11, 66.71it/s]"
     ]
    },
    {
     "name": "stderr",
     "output_type": "stream",
     "text": [
      "\r 77%|███████▋  | 2581/3354 [00:42<00:11, 66.74it/s]"
     ]
    },
    {
     "name": "stderr",
     "output_type": "stream",
     "text": [
      "\r 77%|███████▋  | 2588/3354 [00:42<00:11, 65.85it/s]"
     ]
    },
    {
     "name": "stderr",
     "output_type": "stream",
     "text": [
      "\r 77%|███████▋  | 2595/3354 [00:42<00:11, 65.73it/s]"
     ]
    },
    {
     "name": "stderr",
     "output_type": "stream",
     "text": [
      "\r 78%|███████▊  | 2602/3354 [00:42<00:11, 66.36it/s]"
     ]
    },
    {
     "name": "stderr",
     "output_type": "stream",
     "text": [
      "\r 78%|███████▊  | 2609/3354 [00:42<00:11, 66.56it/s]"
     ]
    },
    {
     "name": "stderr",
     "output_type": "stream",
     "text": [
      "\r 78%|███████▊  | 2616/3354 [00:42<00:11, 66.82it/s]"
     ]
    },
    {
     "name": "stderr",
     "output_type": "stream",
     "text": [
      "\r 78%|███████▊  | 2623/3354 [00:42<00:11, 65.82it/s]"
     ]
    },
    {
     "name": "stderr",
     "output_type": "stream",
     "text": [
      "\r 78%|███████▊  | 2630/3354 [00:42<00:10, 66.13it/s]"
     ]
    },
    {
     "name": "stderr",
     "output_type": "stream",
     "text": [
      "\r 79%|███████▊  | 2637/3354 [00:42<00:10, 66.41it/s]"
     ]
    },
    {
     "name": "stderr",
     "output_type": "stream",
     "text": [
      "\r 79%|███████▉  | 2644/3354 [00:42<00:10, 66.66it/s]"
     ]
    },
    {
     "name": "stderr",
     "output_type": "stream",
     "text": [
      "\r 79%|███████▉  | 2651/3354 [00:43<00:10, 66.67it/s]"
     ]
    },
    {
     "name": "stderr",
     "output_type": "stream",
     "text": [
      "\r 79%|███████▉  | 2658/3354 [00:43<00:10, 65.92it/s]"
     ]
    },
    {
     "name": "stderr",
     "output_type": "stream",
     "text": [
      "\r 79%|███████▉  | 2665/3354 [00:43<00:10, 66.11it/s]"
     ]
    },
    {
     "name": "stderr",
     "output_type": "stream",
     "text": [
      "\r 80%|███████▉  | 2672/3354 [00:43<00:10, 66.77it/s]"
     ]
    },
    {
     "name": "stderr",
     "output_type": "stream",
     "text": [
      "\r 80%|███████▉  | 2679/3354 [00:43<00:10, 67.05it/s]"
     ]
    },
    {
     "name": "stderr",
     "output_type": "stream",
     "text": [
      "\r 80%|████████  | 2686/3354 [00:43<00:10, 66.52it/s]"
     ]
    },
    {
     "name": "stderr",
     "output_type": "stream",
     "text": [
      "\r 80%|████████  | 2693/3354 [00:43<00:10, 65.47it/s]"
     ]
    },
    {
     "name": "stderr",
     "output_type": "stream",
     "text": [
      "\r 81%|████████  | 2700/3354 [00:43<00:10, 63.29it/s]"
     ]
    },
    {
     "name": "stderr",
     "output_type": "stream",
     "text": [
      "\r 81%|████████  | 2707/3354 [00:43<00:10, 61.66it/s]"
     ]
    },
    {
     "name": "stderr",
     "output_type": "stream",
     "text": [
      "\r 81%|████████  | 2714/3354 [00:44<00:10, 61.16it/s]"
     ]
    },
    {
     "name": "stderr",
     "output_type": "stream",
     "text": [
      "\r 81%|████████  | 2721/3354 [00:44<00:10, 60.74it/s]"
     ]
    },
    {
     "name": "stderr",
     "output_type": "stream",
     "text": [
      "\r 81%|████████▏ | 2728/3354 [00:44<00:10, 62.33it/s]"
     ]
    },
    {
     "name": "stderr",
     "output_type": "stream",
     "text": [
      "\r 82%|████████▏ | 2735/3354 [00:44<00:09, 63.75it/s]"
     ]
    },
    {
     "name": "stderr",
     "output_type": "stream",
     "text": [
      "\r 82%|████████▏ | 2742/3354 [00:44<00:09, 64.48it/s]"
     ]
    },
    {
     "name": "stderr",
     "output_type": "stream",
     "text": [
      "\r 82%|████████▏ | 2749/3354 [00:44<00:09, 64.49it/s]"
     ]
    },
    {
     "name": "stderr",
     "output_type": "stream",
     "text": [
      "\r 82%|████████▏ | 2756/3354 [00:44<00:09, 65.37it/s]"
     ]
    },
    {
     "name": "stderr",
     "output_type": "stream",
     "text": [
      "\r 82%|████████▏ | 2763/3354 [00:44<00:09, 65.39it/s]"
     ]
    },
    {
     "name": "stderr",
     "output_type": "stream",
     "text": [
      "\r 83%|████████▎ | 2770/3354 [00:44<00:08, 66.10it/s]"
     ]
    },
    {
     "name": "stderr",
     "output_type": "stream",
     "text": [
      "\r 83%|████████▎ | 2777/3354 [00:45<00:08, 66.00it/s]"
     ]
    },
    {
     "name": "stderr",
     "output_type": "stream",
     "text": [
      "\r 83%|████████▎ | 2784/3354 [00:45<00:08, 65.22it/s]"
     ]
    },
    {
     "name": "stderr",
     "output_type": "stream",
     "text": [
      "\r 83%|████████▎ | 2791/3354 [00:45<00:08, 64.69it/s]"
     ]
    },
    {
     "name": "stderr",
     "output_type": "stream",
     "text": [
      "\r 83%|████████▎ | 2798/3354 [00:45<00:08, 63.49it/s]"
     ]
    },
    {
     "name": "stderr",
     "output_type": "stream",
     "text": [
      "\r 84%|████████▎ | 2805/3354 [00:45<00:08, 63.00it/s]"
     ]
    },
    {
     "name": "stderr",
     "output_type": "stream",
     "text": [
      "\r 84%|████████▍ | 2812/3354 [00:45<00:08, 63.32it/s]"
     ]
    },
    {
     "name": "stderr",
     "output_type": "stream",
     "text": [
      "\r 84%|████████▍ | 2819/3354 [00:45<00:08, 64.06it/s]"
     ]
    },
    {
     "name": "stderr",
     "output_type": "stream",
     "text": [
      "\r 84%|████████▍ | 2826/3354 [00:45<00:08, 64.22it/s]"
     ]
    },
    {
     "name": "stderr",
     "output_type": "stream",
     "text": [
      "\r 84%|████████▍ | 2833/3354 [00:45<00:08, 64.63it/s]"
     ]
    },
    {
     "name": "stderr",
     "output_type": "stream",
     "text": [
      "\r 85%|████████▍ | 2840/3354 [00:46<00:07, 64.84it/s]"
     ]
    },
    {
     "name": "stderr",
     "output_type": "stream",
     "text": [
      "\r 85%|████████▍ | 2847/3354 [00:46<00:07, 64.58it/s]"
     ]
    },
    {
     "name": "stderr",
     "output_type": "stream",
     "text": [
      "\r 85%|████████▌ | 2854/3354 [00:46<00:07, 64.56it/s]"
     ]
    },
    {
     "name": "stderr",
     "output_type": "stream",
     "text": [
      "\r 85%|████████▌ | 2861/3354 [00:46<00:07, 65.39it/s]"
     ]
    },
    {
     "name": "stderr",
     "output_type": "stream",
     "text": [
      "\r 86%|████████▌ | 2868/3354 [00:46<00:07, 65.44it/s]"
     ]
    },
    {
     "name": "stderr",
     "output_type": "stream",
     "text": [
      "\r 86%|████████▌ | 2875/3354 [00:46<00:07, 65.70it/s]"
     ]
    },
    {
     "name": "stderr",
     "output_type": "stream",
     "text": [
      "\r 86%|████████▌ | 2882/3354 [00:46<00:07, 65.07it/s]"
     ]
    },
    {
     "name": "stderr",
     "output_type": "stream",
     "text": [
      "\r 86%|████████▌ | 2889/3354 [00:46<00:07, 64.98it/s]"
     ]
    },
    {
     "name": "stderr",
     "output_type": "stream",
     "text": [
      "\r 86%|████████▋ | 2896/3354 [00:46<00:06, 65.67it/s]"
     ]
    },
    {
     "name": "stderr",
     "output_type": "stream",
     "text": [
      "\r 87%|████████▋ | 2903/3354 [00:46<00:06, 65.80it/s]"
     ]
    },
    {
     "name": "stderr",
     "output_type": "stream",
     "text": [
      "\r 87%|████████▋ | 2910/3354 [00:47<00:06, 65.58it/s]"
     ]
    },
    {
     "name": "stderr",
     "output_type": "stream",
     "text": [
      "\r 87%|████████▋ | 2917/3354 [00:47<00:06, 65.12it/s]"
     ]
    },
    {
     "name": "stderr",
     "output_type": "stream",
     "text": [
      "\r 87%|████████▋ | 2924/3354 [00:47<00:06, 65.92it/s]"
     ]
    },
    {
     "name": "stderr",
     "output_type": "stream",
     "text": [
      "\r 87%|████████▋ | 2931/3354 [00:47<00:06, 66.22it/s]"
     ]
    },
    {
     "name": "stderr",
     "output_type": "stream",
     "text": [
      "\r 88%|████████▊ | 2938/3354 [00:47<00:06, 66.56it/s]"
     ]
    },
    {
     "name": "stderr",
     "output_type": "stream",
     "text": [
      "\r 88%|████████▊ | 2945/3354 [00:47<00:06, 66.05it/s]"
     ]
    },
    {
     "name": "stderr",
     "output_type": "stream",
     "text": [
      "\r 88%|████████▊ | 2952/3354 [00:47<00:06, 66.52it/s]"
     ]
    },
    {
     "name": "stderr",
     "output_type": "stream",
     "text": [
      "\r 88%|████████▊ | 2959/3354 [00:47<00:05, 66.60it/s]"
     ]
    },
    {
     "name": "stderr",
     "output_type": "stream",
     "text": [
      "\r 88%|████████▊ | 2966/3354 [00:47<00:05, 66.75it/s]"
     ]
    },
    {
     "name": "stderr",
     "output_type": "stream",
     "text": [
      "\r 89%|████████▊ | 2973/3354 [00:48<00:05, 66.66it/s]"
     ]
    },
    {
     "name": "stderr",
     "output_type": "stream",
     "text": [
      "\r 89%|████████▉ | 2980/3354 [00:48<00:05, 65.97it/s]"
     ]
    },
    {
     "name": "stderr",
     "output_type": "stream",
     "text": [
      "\r 89%|████████▉ | 2987/3354 [00:48<00:05, 66.51it/s]"
     ]
    },
    {
     "name": "stderr",
     "output_type": "stream",
     "text": [
      "\r 89%|████████▉ | 2994/3354 [00:48<00:05, 66.60it/s]"
     ]
    },
    {
     "name": "stderr",
     "output_type": "stream",
     "text": [
      "\r 89%|████████▉ | 3001/3354 [00:48<00:05, 66.77it/s]"
     ]
    },
    {
     "name": "stderr",
     "output_type": "stream",
     "text": [
      "\r 90%|████████▉ | 3008/3354 [00:48<00:05, 67.01it/s]"
     ]
    },
    {
     "name": "stderr",
     "output_type": "stream",
     "text": [
      "\r 90%|████████▉ | 3015/3354 [00:48<00:05, 66.41it/s]"
     ]
    },
    {
     "name": "stderr",
     "output_type": "stream",
     "text": [
      "\r 90%|█████████ | 3022/3354 [00:48<00:04, 66.84it/s]"
     ]
    },
    {
     "name": "stderr",
     "output_type": "stream",
     "text": [
      "\r 90%|█████████ | 3029/3354 [00:48<00:04, 66.56it/s]"
     ]
    },
    {
     "name": "stderr",
     "output_type": "stream",
     "text": [
      "\r 91%|█████████ | 3036/3354 [00:48<00:04, 66.36it/s]"
     ]
    },
    {
     "name": "stderr",
     "output_type": "stream",
     "text": [
      "\r 91%|█████████ | 3043/3354 [00:49<00:04, 66.33it/s]"
     ]
    },
    {
     "name": "stderr",
     "output_type": "stream",
     "text": [
      "\r 91%|█████████ | 3050/3354 [00:49<00:04, 65.76it/s]"
     ]
    },
    {
     "name": "stderr",
     "output_type": "stream",
     "text": [
      "\r 91%|█████████ | 3057/3354 [00:49<00:04, 66.40it/s]"
     ]
    },
    {
     "name": "stderr",
     "output_type": "stream",
     "text": [
      "\r 91%|█████████▏| 3064/3354 [00:49<00:04, 66.65it/s]"
     ]
    },
    {
     "name": "stderr",
     "output_type": "stream",
     "text": [
      "\r 92%|█████████▏| 3071/3354 [00:49<00:04, 67.06it/s]"
     ]
    },
    {
     "name": "stderr",
     "output_type": "stream",
     "text": [
      "\r 92%|█████████▏| 3078/3354 [00:49<00:04, 66.65it/s]"
     ]
    },
    {
     "name": "stderr",
     "output_type": "stream",
     "text": [
      "\r 92%|█████████▏| 3085/3354 [00:49<00:04, 66.69it/s]"
     ]
    },
    {
     "name": "stderr",
     "output_type": "stream",
     "text": [
      "\r 92%|█████████▏| 3092/3354 [00:49<00:03, 66.83it/s]"
     ]
    },
    {
     "name": "stderr",
     "output_type": "stream",
     "text": [
      "\r 92%|█████████▏| 3099/3354 [00:49<00:03, 67.10it/s]"
     ]
    },
    {
     "name": "stderr",
     "output_type": "stream",
     "text": [
      "\r 93%|█████████▎| 3106/3354 [00:50<00:03, 66.87it/s]"
     ]
    },
    {
     "name": "stderr",
     "output_type": "stream",
     "text": [
      "\r 93%|█████████▎| 3113/3354 [00:50<00:03, 65.37it/s]"
     ]
    },
    {
     "name": "stderr",
     "output_type": "stream",
     "text": [
      "\r 93%|█████████▎| 3120/3354 [00:50<00:03, 66.06it/s]"
     ]
    },
    {
     "name": "stderr",
     "output_type": "stream",
     "text": [
      "\r 93%|█████████▎| 3127/3354 [00:50<00:03, 66.46it/s]"
     ]
    },
    {
     "name": "stderr",
     "output_type": "stream",
     "text": [
      "\r 93%|█████████▎| 3134/3354 [00:50<00:03, 66.74it/s]"
     ]
    },
    {
     "name": "stderr",
     "output_type": "stream",
     "text": [
      "\r 94%|█████████▎| 3141/3354 [00:50<00:03, 67.03it/s]"
     ]
    },
    {
     "name": "stderr",
     "output_type": "stream",
     "text": [
      "\r 94%|█████████▍| 3148/3354 [00:50<00:03, 66.17it/s]"
     ]
    },
    {
     "name": "stderr",
     "output_type": "stream",
     "text": [
      "\r 94%|█████████▍| 3155/3354 [00:50<00:02, 66.47it/s]"
     ]
    },
    {
     "name": "stderr",
     "output_type": "stream",
     "text": [
      "\r 94%|█████████▍| 3162/3354 [00:50<00:02, 66.77it/s]"
     ]
    },
    {
     "name": "stderr",
     "output_type": "stream",
     "text": [
      "\r 94%|█████████▍| 3169/3354 [00:50<00:02, 62.20it/s]"
     ]
    },
    {
     "name": "stderr",
     "output_type": "stream",
     "text": [
      "\r 95%|█████████▍| 3176/3354 [00:51<00:02, 62.36it/s]"
     ]
    },
    {
     "name": "stderr",
     "output_type": "stream",
     "text": [
      "\r 95%|█████████▍| 3183/3354 [00:51<00:02, 62.73it/s]"
     ]
    },
    {
     "name": "stderr",
     "output_type": "stream",
     "text": [
      "\r 95%|█████████▌| 3190/3354 [00:51<00:02, 63.75it/s]"
     ]
    },
    {
     "name": "stderr",
     "output_type": "stream",
     "text": [
      "\r 95%|█████████▌| 3197/3354 [00:51<00:02, 62.52it/s]"
     ]
    },
    {
     "name": "stderr",
     "output_type": "stream",
     "text": [
      "\r 96%|█████████▌| 3204/3354 [00:51<00:02, 63.59it/s]"
     ]
    },
    {
     "name": "stderr",
     "output_type": "stream",
     "text": [
      "\r 96%|█████████▌| 3211/3354 [00:51<00:02, 63.92it/s]"
     ]
    },
    {
     "name": "stderr",
     "output_type": "stream",
     "text": [
      "\r 96%|█████████▌| 3218/3354 [00:51<00:02, 64.72it/s]"
     ]
    },
    {
     "name": "stderr",
     "output_type": "stream",
     "text": [
      "\r 96%|█████████▌| 3225/3354 [00:51<00:02, 64.28it/s]"
     ]
    },
    {
     "name": "stderr",
     "output_type": "stream",
     "text": [
      "\r 96%|█████████▋| 3232/3354 [00:51<00:01, 65.19it/s]"
     ]
    },
    {
     "name": "stderr",
     "output_type": "stream",
     "text": [
      "\r 97%|█████████▋| 3239/3354 [00:52<00:01, 64.42it/s]"
     ]
    },
    {
     "name": "stderr",
     "output_type": "stream",
     "text": [
      "\r 97%|█████████▋| 3246/3354 [00:52<00:01, 65.05it/s]"
     ]
    },
    {
     "name": "stderr",
     "output_type": "stream",
     "text": [
      "\r 97%|█████████▋| 3253/3354 [00:52<00:01, 65.33it/s]"
     ]
    },
    {
     "name": "stderr",
     "output_type": "stream",
     "text": [
      "\r 97%|█████████▋| 3260/3354 [00:52<00:01, 65.84it/s]"
     ]
    },
    {
     "name": "stderr",
     "output_type": "stream",
     "text": [
      "\r 97%|█████████▋| 3267/3354 [00:52<00:01, 65.81it/s]"
     ]
    },
    {
     "name": "stderr",
     "output_type": "stream",
     "text": [
      "\r 98%|█████████▊| 3274/3354 [00:52<00:01, 64.98it/s]"
     ]
    },
    {
     "name": "stderr",
     "output_type": "stream",
     "text": [
      "\r 98%|█████████▊| 3281/3354 [00:52<00:01, 64.81it/s]"
     ]
    },
    {
     "name": "stderr",
     "output_type": "stream",
     "text": [
      "\r 98%|█████████▊| 3288/3354 [00:52<00:01, 65.28it/s]"
     ]
    },
    {
     "name": "stderr",
     "output_type": "stream",
     "text": [
      "\r 98%|█████████▊| 3295/3354 [00:52<00:00, 65.49it/s]"
     ]
    },
    {
     "name": "stderr",
     "output_type": "stream",
     "text": [
      "\r 98%|█████████▊| 3302/3354 [00:53<00:00, 65.44it/s]"
     ]
    },
    {
     "name": "stderr",
     "output_type": "stream",
     "text": [
      "\r 99%|█████████▊| 3309/3354 [00:53<00:00, 64.60it/s]"
     ]
    },
    {
     "name": "stderr",
     "output_type": "stream",
     "text": [
      "\r 99%|█████████▉| 3316/3354 [00:53<00:00, 65.15it/s]"
     ]
    },
    {
     "name": "stderr",
     "output_type": "stream",
     "text": [
      "\r 99%|█████████▉| 3323/3354 [00:53<00:00, 65.49it/s]"
     ]
    },
    {
     "name": "stderr",
     "output_type": "stream",
     "text": [
      "\r 99%|█████████▉| 3330/3354 [00:53<00:00, 65.58it/s]"
     ]
    },
    {
     "name": "stderr",
     "output_type": "stream",
     "text": [
      "\r 99%|█████████▉| 3337/3354 [00:53<00:00, 65.19it/s]"
     ]
    },
    {
     "name": "stderr",
     "output_type": "stream",
     "text": [
      "\r100%|█████████▉| 3344/3354 [00:53<00:00, 62.51it/s]"
     ]
    },
    {
     "name": "stderr",
     "output_type": "stream",
     "text": [
      "\r100%|█████████▉| 3351/3354 [00:53<00:00, 63.44it/s]"
     ]
    },
    {
     "name": "stderr",
     "output_type": "stream",
     "text": [
      "\r100%|██████████| 3354/3354 [00:53<00:00, 62.28it/s]"
     ]
    },
    {
     "name": "stderr",
     "output_type": "stream",
     "text": [
      "\n"
     ]
    },
    {
     "name": "stderr",
     "output_type": "stream",
     "text": [
      "\r  0%|          | 0/3354 [00:00<?, ?it/s]"
     ]
    },
    {
     "name": "stderr",
     "output_type": "stream",
     "text": [
      "\r  0%|          | 12/3354 [00:00<00:29, 111.64it/s]"
     ]
    },
    {
     "name": "stderr",
     "output_type": "stream",
     "text": [
      "\r  1%|          | 23/3354 [00:00<00:30, 108.86it/s]"
     ]
    },
    {
     "name": "stderr",
     "output_type": "stream",
     "text": [
      "\r  1%|          | 35/3354 [00:00<00:30, 109.93it/s]"
     ]
    },
    {
     "name": "stderr",
     "output_type": "stream",
     "text": [
      "\r  1%|▏         | 47/3354 [00:00<00:29, 110.48it/s]"
     ]
    },
    {
     "name": "stderr",
     "output_type": "stream",
     "text": [
      "\r  2%|▏         | 59/3354 [00:00<00:29, 111.97it/s]"
     ]
    },
    {
     "name": "stderr",
     "output_type": "stream",
     "text": [
      "\r  2%|▏         | 71/3354 [00:00<00:29, 112.18it/s]"
     ]
    },
    {
     "name": "stderr",
     "output_type": "stream",
     "text": [
      "\r  2%|▏         | 81/3354 [00:00<00:30, 106.47it/s]"
     ]
    },
    {
     "name": "stderr",
     "output_type": "stream",
     "text": [
      "\r  3%|▎         | 92/3354 [00:00<00:30, 107.37it/s]"
     ]
    },
    {
     "name": "stderr",
     "output_type": "stream",
     "text": [
      "\r  3%|▎         | 103/3354 [00:00<00:33, 97.16it/s]"
     ]
    },
    {
     "name": "stderr",
     "output_type": "stream",
     "text": [
      "\r  3%|▎         | 113/3354 [00:01<00:33, 97.51it/s]"
     ]
    },
    {
     "name": "stderr",
     "output_type": "stream",
     "text": [
      "\r  4%|▎         | 125/3354 [00:01<00:31, 101.28it/s]"
     ]
    },
    {
     "name": "stderr",
     "output_type": "stream",
     "text": [
      "\r  4%|▍         | 136/3354 [00:01<00:31, 103.67it/s]"
     ]
    },
    {
     "name": "stderr",
     "output_type": "stream",
     "text": [
      "\r  4%|▍         | 147/3354 [00:01<00:30, 104.98it/s]"
     ]
    },
    {
     "name": "stderr",
     "output_type": "stream",
     "text": [
      "\r  5%|▍         | 159/3354 [00:01<00:29, 108.23it/s]"
     ]
    },
    {
     "name": "stderr",
     "output_type": "stream",
     "text": [
      "\r  5%|▌         | 171/3354 [00:01<00:29, 109.50it/s]"
     ]
    },
    {
     "name": "stderr",
     "output_type": "stream",
     "text": [
      "\r  5%|▌         | 183/3354 [00:01<00:28, 110.13it/s]"
     ]
    },
    {
     "name": "stderr",
     "output_type": "stream",
     "text": [
      "\r  6%|▌         | 195/3354 [00:01<00:28, 112.63it/s]"
     ]
    },
    {
     "name": "stderr",
     "output_type": "stream",
     "text": [
      "\r  6%|▌         | 207/3354 [00:01<00:27, 114.06it/s]"
     ]
    },
    {
     "name": "stderr",
     "output_type": "stream",
     "text": [
      "\r  7%|▋         | 220/3354 [00:02<00:27, 115.85it/s]"
     ]
    },
    {
     "name": "stderr",
     "output_type": "stream",
     "text": [
      "\r  7%|▋         | 232/3354 [00:02<00:27, 115.44it/s]"
     ]
    },
    {
     "name": "stderr",
     "output_type": "stream",
     "text": [
      "\r  7%|▋         | 244/3354 [00:02<00:27, 113.23it/s]"
     ]
    },
    {
     "name": "stderr",
     "output_type": "stream",
     "text": [
      "\r  8%|▊         | 256/3354 [00:02<00:27, 112.67it/s]"
     ]
    },
    {
     "name": "stderr",
     "output_type": "stream",
     "text": [
      "\r  8%|▊         | 268/3354 [00:02<00:27, 112.80it/s]"
     ]
    },
    {
     "name": "stderr",
     "output_type": "stream",
     "text": [
      "\r  8%|▊         | 280/3354 [00:02<00:27, 112.27it/s]"
     ]
    },
    {
     "name": "stderr",
     "output_type": "stream",
     "text": [
      "\r  9%|▊         | 292/3354 [00:02<00:27, 110.64it/s]"
     ]
    },
    {
     "name": "stderr",
     "output_type": "stream",
     "text": [
      "\r  9%|▉         | 304/3354 [00:02<00:27, 110.64it/s]"
     ]
    },
    {
     "name": "stderr",
     "output_type": "stream",
     "text": [
      "\r  9%|▉         | 316/3354 [00:02<00:26, 112.82it/s]"
     ]
    },
    {
     "name": "stderr",
     "output_type": "stream",
     "text": [
      "\r 10%|▉         | 328/3354 [00:02<00:26, 113.50it/s]"
     ]
    },
    {
     "name": "stderr",
     "output_type": "stream",
     "text": [
      "\r 10%|█         | 340/3354 [00:03<00:26, 114.53it/s]"
     ]
    },
    {
     "name": "stderr",
     "output_type": "stream",
     "text": [
      "\r 10%|█         | 352/3354 [00:03<00:26, 114.37it/s]"
     ]
    },
    {
     "name": "stderr",
     "output_type": "stream",
     "text": [
      "\r 11%|█         | 364/3354 [00:03<00:25, 115.24it/s]"
     ]
    },
    {
     "name": "stderr",
     "output_type": "stream",
     "text": [
      "\r 11%|█         | 376/3354 [00:03<00:25, 115.96it/s]"
     ]
    },
    {
     "name": "stderr",
     "output_type": "stream",
     "text": [
      "\r 12%|█▏        | 388/3354 [00:03<00:25, 116.34it/s]"
     ]
    },
    {
     "name": "stderr",
     "output_type": "stream",
     "text": [
      "\r 12%|█▏        | 401/3354 [00:03<00:25, 117.77it/s]"
     ]
    },
    {
     "name": "stderr",
     "output_type": "stream",
     "text": [
      "\r 12%|█▏        | 413/3354 [00:03<00:25, 116.25it/s]"
     ]
    },
    {
     "name": "stderr",
     "output_type": "stream",
     "text": [
      "\r 13%|█▎        | 425/3354 [00:03<00:25, 116.02it/s]"
     ]
    },
    {
     "name": "stderr",
     "output_type": "stream",
     "text": [
      "\r 13%|█▎        | 437/3354 [00:03<00:26, 111.41it/s]"
     ]
    },
    {
     "name": "stderr",
     "output_type": "stream",
     "text": [
      "\r 13%|█▎        | 449/3354 [00:04<00:25, 113.48it/s]"
     ]
    },
    {
     "name": "stderr",
     "output_type": "stream",
     "text": [
      "\r 14%|█▎        | 461/3354 [00:04<00:25, 113.95it/s]"
     ]
    },
    {
     "name": "stderr",
     "output_type": "stream",
     "text": [
      "\r 14%|█▍        | 473/3354 [00:04<00:26, 109.50it/s]"
     ]
    },
    {
     "name": "stderr",
     "output_type": "stream",
     "text": [
      "\r 14%|█▍        | 485/3354 [00:04<00:25, 112.08it/s]"
     ]
    },
    {
     "name": "stderr",
     "output_type": "stream",
     "text": [
      "\r 15%|█▍        | 497/3354 [00:04<00:25, 112.79it/s]"
     ]
    },
    {
     "name": "stderr",
     "output_type": "stream",
     "text": [
      "\r 15%|█▌        | 509/3354 [00:04<00:25, 113.60it/s]"
     ]
    },
    {
     "name": "stderr",
     "output_type": "stream",
     "text": [
      "\r 16%|█▌        | 521/3354 [00:04<00:25, 112.21it/s]"
     ]
    },
    {
     "name": "stderr",
     "output_type": "stream",
     "text": [
      "\r 16%|█▌        | 534/3354 [00:04<00:24, 114.59it/s]"
     ]
    },
    {
     "name": "stderr",
     "output_type": "stream",
     "text": [
      "\r 16%|█▋        | 546/3354 [00:04<00:24, 114.89it/s]"
     ]
    },
    {
     "name": "stderr",
     "output_type": "stream",
     "text": [
      "\r 17%|█▋        | 558/3354 [00:04<00:24, 115.73it/s]"
     ]
    },
    {
     "name": "stderr",
     "output_type": "stream",
     "text": [
      "\r 17%|█▋        | 570/3354 [00:05<00:24, 116.00it/s]"
     ]
    },
    {
     "name": "stderr",
     "output_type": "stream",
     "text": [
      "\r 17%|█▋        | 582/3354 [00:05<00:24, 114.16it/s]"
     ]
    },
    {
     "name": "stderr",
     "output_type": "stream",
     "text": [
      "\r 18%|█▊        | 594/3354 [00:05<00:24, 111.91it/s]"
     ]
    },
    {
     "name": "stderr",
     "output_type": "stream",
     "text": [
      "\r 18%|█▊        | 606/3354 [00:05<00:24, 110.85it/s]"
     ]
    },
    {
     "name": "stderr",
     "output_type": "stream",
     "text": [
      "\r 18%|█▊        | 618/3354 [00:05<00:24, 112.25it/s]"
     ]
    },
    {
     "name": "stderr",
     "output_type": "stream",
     "text": [
      "\r 19%|█▉        | 630/3354 [00:05<00:23, 113.72it/s]"
     ]
    },
    {
     "name": "stderr",
     "output_type": "stream",
     "text": [
      "\r 19%|█▉        | 642/3354 [00:05<00:24, 112.98it/s]"
     ]
    },
    {
     "name": "stderr",
     "output_type": "stream",
     "text": [
      "\r 19%|█▉        | 654/3354 [00:05<00:23, 113.06it/s]"
     ]
    },
    {
     "name": "stderr",
     "output_type": "stream",
     "text": [
      "\r 20%|█▉        | 666/3354 [00:05<00:24, 111.24it/s]"
     ]
    },
    {
     "name": "stderr",
     "output_type": "stream",
     "text": [
      "\r 20%|██        | 678/3354 [00:06<00:23, 112.76it/s]"
     ]
    },
    {
     "name": "stderr",
     "output_type": "stream",
     "text": [
      "\r 21%|██        | 690/3354 [00:06<00:23, 112.50it/s]"
     ]
    },
    {
     "name": "stderr",
     "output_type": "stream",
     "text": [
      "\r 21%|██        | 702/3354 [00:06<00:23, 113.74it/s]"
     ]
    },
    {
     "name": "stderr",
     "output_type": "stream",
     "text": [
      "\r 21%|██▏       | 714/3354 [00:06<00:23, 114.10it/s]"
     ]
    },
    {
     "name": "stderr",
     "output_type": "stream",
     "text": [
      "\r 22%|██▏       | 726/3354 [00:06<00:22, 115.30it/s]"
     ]
    },
    {
     "name": "stderr",
     "output_type": "stream",
     "text": [
      "\r 22%|██▏       | 738/3354 [00:06<00:22, 115.69it/s]"
     ]
    },
    {
     "name": "stderr",
     "output_type": "stream",
     "text": [
      "\r 22%|██▏       | 750/3354 [00:06<00:22, 114.42it/s]"
     ]
    },
    {
     "name": "stderr",
     "output_type": "stream",
     "text": [
      "\r 23%|██▎       | 762/3354 [00:06<00:22, 114.85it/s]"
     ]
    },
    {
     "name": "stderr",
     "output_type": "stream",
     "text": [
      "\r 23%|██▎       | 774/3354 [00:06<00:22, 114.47it/s]"
     ]
    },
    {
     "name": "stderr",
     "output_type": "stream",
     "text": [
      "\r 23%|██▎       | 786/3354 [00:07<00:22, 114.91it/s]"
     ]
    },
    {
     "name": "stderr",
     "output_type": "stream",
     "text": [
      "\r 24%|██▍       | 798/3354 [00:07<00:22, 114.15it/s]"
     ]
    },
    {
     "name": "stderr",
     "output_type": "stream",
     "text": [
      "\r 24%|██▍       | 810/3354 [00:07<00:22, 111.54it/s]"
     ]
    },
    {
     "name": "stderr",
     "output_type": "stream",
     "text": [
      "\r 25%|██▍       | 822/3354 [00:07<00:22, 112.49it/s]"
     ]
    },
    {
     "name": "stderr",
     "output_type": "stream",
     "text": [
      "\r 25%|██▍       | 834/3354 [00:07<00:22, 112.69it/s]"
     ]
    },
    {
     "name": "stderr",
     "output_type": "stream",
     "text": [
      "\r 25%|██▌       | 846/3354 [00:07<00:21, 114.40it/s]"
     ]
    },
    {
     "name": "stderr",
     "output_type": "stream",
     "text": [
      "\r 26%|██▌       | 858/3354 [00:07<00:21, 113.99it/s]"
     ]
    },
    {
     "name": "stderr",
     "output_type": "stream",
     "text": [
      "\r 26%|██▌       | 870/3354 [00:07<00:22, 109.87it/s]"
     ]
    },
    {
     "name": "stderr",
     "output_type": "stream",
     "text": [
      "\r 26%|██▋       | 882/3354 [00:07<00:21, 112.40it/s]"
     ]
    },
    {
     "name": "stderr",
     "output_type": "stream",
     "text": [
      "\r 27%|██▋       | 894/3354 [00:07<00:21, 113.33it/s]"
     ]
    },
    {
     "name": "stderr",
     "output_type": "stream",
     "text": [
      "\r 27%|██▋       | 906/3354 [00:08<00:21, 113.48it/s]"
     ]
    },
    {
     "name": "stderr",
     "output_type": "stream",
     "text": [
      "\r 27%|██▋       | 918/3354 [00:08<00:21, 112.18it/s]"
     ]
    },
    {
     "name": "stderr",
     "output_type": "stream",
     "text": [
      "\r 28%|██▊       | 930/3354 [00:08<00:21, 110.82it/s]"
     ]
    },
    {
     "name": "stderr",
     "output_type": "stream",
     "text": [
      "\r 28%|██▊       | 942/3354 [00:08<00:21, 112.23it/s]"
     ]
    },
    {
     "name": "stderr",
     "output_type": "stream",
     "text": [
      "\r 28%|██▊       | 954/3354 [00:08<00:21, 113.01it/s]"
     ]
    },
    {
     "name": "stderr",
     "output_type": "stream",
     "text": [
      "\r 29%|██▉       | 966/3354 [00:08<00:21, 112.43it/s]"
     ]
    },
    {
     "name": "stderr",
     "output_type": "stream",
     "text": [
      "\r 29%|██▉       | 978/3354 [00:08<00:21, 112.18it/s]"
     ]
    },
    {
     "name": "stderr",
     "output_type": "stream",
     "text": [
      "\r 30%|██▉       | 990/3354 [00:08<00:20, 113.15it/s]"
     ]
    },
    {
     "name": "stderr",
     "output_type": "stream",
     "text": [
      "\r 30%|██▉       | 1002/3354 [00:08<00:20, 113.74it/s]"
     ]
    },
    {
     "name": "stderr",
     "output_type": "stream",
     "text": [
      "\r 30%|███       | 1014/3354 [00:09<00:20, 115.21it/s]"
     ]
    },
    {
     "name": "stderr",
     "output_type": "stream",
     "text": [
      "\r 31%|███       | 1026/3354 [00:09<00:20, 114.62it/s]"
     ]
    },
    {
     "name": "stderr",
     "output_type": "stream",
     "text": [
      "\r 31%|███       | 1038/3354 [00:09<00:20, 113.94it/s]"
     ]
    },
    {
     "name": "stderr",
     "output_type": "stream",
     "text": [
      "\r 31%|███▏      | 1050/3354 [00:09<00:20, 115.04it/s]"
     ]
    },
    {
     "name": "stderr",
     "output_type": "stream",
     "text": [
      "\r 32%|███▏      | 1062/3354 [00:09<00:19, 116.06it/s]"
     ]
    },
    {
     "name": "stderr",
     "output_type": "stream",
     "text": [
      "\r 32%|███▏      | 1075/3354 [00:09<00:19, 117.39it/s]"
     ]
    },
    {
     "name": "stderr",
     "output_type": "stream",
     "text": [
      "\r 32%|███▏      | 1087/3354 [00:09<00:19, 114.43it/s]"
     ]
    },
    {
     "name": "stderr",
     "output_type": "stream",
     "text": [
      "\r 33%|███▎      | 1099/3354 [00:09<00:19, 114.66it/s]"
     ]
    },
    {
     "name": "stderr",
     "output_type": "stream",
     "text": [
      "\r 33%|███▎      | 1111/3354 [00:09<00:19, 114.22it/s]"
     ]
    },
    {
     "name": "stderr",
     "output_type": "stream",
     "text": [
      "\r 33%|███▎      | 1123/3354 [00:09<00:19, 114.75it/s]"
     ]
    },
    {
     "name": "stderr",
     "output_type": "stream",
     "text": [
      "\r 34%|███▍      | 1135/3354 [00:10<00:19, 111.72it/s]"
     ]
    },
    {
     "name": "stderr",
     "output_type": "stream",
     "text": [
      "\r 34%|███▍      | 1147/3354 [00:10<00:20, 107.75it/s]"
     ]
    },
    {
     "name": "stderr",
     "output_type": "stream",
     "text": [
      "\r 35%|███▍      | 1158/3354 [00:10<00:20, 108.08it/s]"
     ]
    },
    {
     "name": "stderr",
     "output_type": "stream",
     "text": [
      "\r 35%|███▍      | 1170/3354 [00:10<00:19, 110.15it/s]"
     ]
    },
    {
     "name": "stderr",
     "output_type": "stream",
     "text": [
      "\r 35%|███▌      | 1182/3354 [00:10<00:19, 111.63it/s]"
     ]
    },
    {
     "name": "stderr",
     "output_type": "stream",
     "text": [
      "\r 36%|███▌      | 1194/3354 [00:10<00:21, 102.60it/s]"
     ]
    },
    {
     "name": "stderr",
     "output_type": "stream",
     "text": [
      "\r 36%|███▌      | 1205/3354 [00:10<00:21, 100.42it/s]"
     ]
    },
    {
     "name": "stderr",
     "output_type": "stream",
     "text": [
      "\r 36%|███▋      | 1216/3354 [00:10<00:20, 102.50it/s]"
     ]
    },
    {
     "name": "stderr",
     "output_type": "stream",
     "text": [
      "\r 37%|███▋      | 1228/3354 [00:10<00:20, 105.79it/s]"
     ]
    },
    {
     "name": "stderr",
     "output_type": "stream",
     "text": [
      "\r 37%|███▋      | 1240/3354 [00:11<00:19, 109.28it/s]"
     ]
    },
    {
     "name": "stderr",
     "output_type": "stream",
     "text": [
      "\r 37%|███▋      | 1252/3354 [00:11<00:19, 109.81it/s]"
     ]
    },
    {
     "name": "stderr",
     "output_type": "stream",
     "text": [
      "\r 38%|███▊      | 1264/3354 [00:11<00:18, 111.78it/s]"
     ]
    },
    {
     "name": "stderr",
     "output_type": "stream",
     "text": [
      "\r 38%|███▊      | 1276/3354 [00:11<00:18, 113.88it/s]"
     ]
    },
    {
     "name": "stderr",
     "output_type": "stream",
     "text": [
      "\r 38%|███▊      | 1288/3354 [00:11<00:18, 113.11it/s]"
     ]
    },
    {
     "name": "stderr",
     "output_type": "stream",
     "text": [
      "\r 39%|███▉      | 1300/3354 [00:11<00:18, 113.59it/s]"
     ]
    },
    {
     "name": "stderr",
     "output_type": "stream",
     "text": [
      "\r 39%|███▉      | 1312/3354 [00:11<00:18, 110.45it/s]"
     ]
    },
    {
     "name": "stderr",
     "output_type": "stream",
     "text": [
      "\r 39%|███▉      | 1324/3354 [00:11<00:20, 98.15it/s] "
     ]
    },
    {
     "name": "stderr",
     "output_type": "stream",
     "text": [
      "\r 40%|███▉      | 1335/3354 [00:11<00:21, 94.94it/s]"
     ]
    },
    {
     "name": "stderr",
     "output_type": "stream",
     "text": [
      "\r 40%|████      | 1347/3354 [00:12<00:20, 99.09it/s]"
     ]
    },
    {
     "name": "stderr",
     "output_type": "stream",
     "text": [
      "\r 40%|████      | 1358/3354 [00:12<00:20, 97.42it/s]"
     ]
    },
    {
     "name": "stderr",
     "output_type": "stream",
     "text": [
      "\r 41%|████      | 1370/3354 [00:12<00:19, 101.18it/s]"
     ]
    },
    {
     "name": "stderr",
     "output_type": "stream",
     "text": [
      "\r 41%|████      | 1382/3354 [00:12<00:18, 104.64it/s]"
     ]
    },
    {
     "name": "stderr",
     "output_type": "stream",
     "text": [
      "\r 42%|████▏     | 1394/3354 [00:12<00:18, 107.45it/s]"
     ]
    },
    {
     "name": "stderr",
     "output_type": "stream",
     "text": [
      "\r 42%|████▏     | 1406/3354 [00:12<00:17, 109.33it/s]"
     ]
    },
    {
     "name": "stderr",
     "output_type": "stream",
     "text": [
      "\r 42%|████▏     | 1418/3354 [00:12<00:18, 107.50it/s]"
     ]
    },
    {
     "name": "stderr",
     "output_type": "stream",
     "text": [
      "\r 43%|████▎     | 1429/3354 [00:12<00:17, 108.21it/s]"
     ]
    },
    {
     "name": "stderr",
     "output_type": "stream",
     "text": [
      "\r 43%|████▎     | 1441/3354 [00:12<00:17, 110.20it/s]"
     ]
    },
    {
     "name": "stderr",
     "output_type": "stream",
     "text": [
      "\r 43%|████▎     | 1454/3354 [00:13<00:16, 113.07it/s]"
     ]
    },
    {
     "name": "stderr",
     "output_type": "stream",
     "text": [
      "\r 44%|████▎     | 1466/3354 [00:13<00:16, 113.06it/s]"
     ]
    },
    {
     "name": "stderr",
     "output_type": "stream",
     "text": [
      "\r 44%|████▍     | 1478/3354 [00:13<00:16, 113.93it/s]"
     ]
    },
    {
     "name": "stderr",
     "output_type": "stream",
     "text": [
      "\r 44%|████▍     | 1491/3354 [00:13<00:16, 116.11it/s]"
     ]
    },
    {
     "name": "stderr",
     "output_type": "stream",
     "text": [
      "\r 45%|████▍     | 1504/3354 [00:13<00:15, 117.43it/s]"
     ]
    },
    {
     "name": "stderr",
     "output_type": "stream",
     "text": [
      "\r 45%|████▌     | 1516/3354 [00:13<00:15, 118.05it/s]"
     ]
    },
    {
     "name": "stderr",
     "output_type": "stream",
     "text": [
      "\r 46%|████▌     | 1528/3354 [00:13<00:15, 116.83it/s]"
     ]
    },
    {
     "name": "stderr",
     "output_type": "stream",
     "text": [
      "\r 46%|████▌     | 1540/3354 [00:13<00:15, 116.93it/s]"
     ]
    },
    {
     "name": "stderr",
     "output_type": "stream",
     "text": [
      "\r 46%|████▋     | 1552/3354 [00:13<00:15, 116.62it/s]"
     ]
    },
    {
     "name": "stderr",
     "output_type": "stream",
     "text": [
      "\r 47%|████▋     | 1565/3354 [00:14<00:15, 117.74it/s]"
     ]
    },
    {
     "name": "stderr",
     "output_type": "stream",
     "text": [
      "\r 47%|████▋     | 1577/3354 [00:14<00:15, 116.96it/s]"
     ]
    },
    {
     "name": "stderr",
     "output_type": "stream",
     "text": [
      "\r 47%|████▋     | 1589/3354 [00:14<00:15, 115.68it/s]"
     ]
    },
    {
     "name": "stderr",
     "output_type": "stream",
     "text": [
      "\r 48%|████▊     | 1601/3354 [00:14<00:15, 115.24it/s]"
     ]
    },
    {
     "name": "stderr",
     "output_type": "stream",
     "text": [
      "\r 48%|████▊     | 1613/3354 [00:14<00:15, 115.93it/s]"
     ]
    },
    {
     "name": "stderr",
     "output_type": "stream",
     "text": [
      "\r 48%|████▊     | 1625/3354 [00:14<00:14, 117.11it/s]"
     ]
    },
    {
     "name": "stderr",
     "output_type": "stream",
     "text": [
      "\r 49%|████▉     | 1637/3354 [00:14<00:14, 117.37it/s]"
     ]
    },
    {
     "name": "stderr",
     "output_type": "stream",
     "text": [
      "\r 49%|████▉     | 1649/3354 [00:14<00:14, 116.58it/s]"
     ]
    },
    {
     "name": "stderr",
     "output_type": "stream",
     "text": [
      "\r 50%|████▉     | 1661/3354 [00:14<00:14, 116.60it/s]"
     ]
    },
    {
     "name": "stderr",
     "output_type": "stream",
     "text": [
      "\r 50%|████▉     | 1673/3354 [00:14<00:14, 115.84it/s]"
     ]
    },
    {
     "name": "stderr",
     "output_type": "stream",
     "text": [
      "\r 50%|█████     | 1686/3354 [00:15<00:14, 117.43it/s]"
     ]
    },
    {
     "name": "stderr",
     "output_type": "stream",
     "text": [
      "\r 51%|█████     | 1698/3354 [00:15<00:14, 117.80it/s]"
     ]
    },
    {
     "name": "stderr",
     "output_type": "stream",
     "text": [
      "\r 51%|█████     | 1710/3354 [00:15<00:14, 115.51it/s]"
     ]
    },
    {
     "name": "stderr",
     "output_type": "stream",
     "text": [
      "\r 51%|█████▏    | 1722/3354 [00:15<00:14, 114.77it/s]"
     ]
    },
    {
     "name": "stderr",
     "output_type": "stream",
     "text": [
      "\r 52%|█████▏    | 1734/3354 [00:15<00:14, 115.44it/s]"
     ]
    },
    {
     "name": "stderr",
     "output_type": "stream",
     "text": [
      "\r 52%|█████▏    | 1746/3354 [00:15<00:13, 116.00it/s]"
     ]
    },
    {
     "name": "stderr",
     "output_type": "stream",
     "text": [
      "\r 52%|█████▏    | 1758/3354 [00:15<00:14, 113.21it/s]"
     ]
    },
    {
     "name": "stderr",
     "output_type": "stream",
     "text": [
      "\r 53%|█████▎    | 1770/3354 [00:15<00:13, 113.21it/s]"
     ]
    },
    {
     "name": "stderr",
     "output_type": "stream",
     "text": [
      "\r 53%|█████▎    | 1782/3354 [00:15<00:13, 114.53it/s]"
     ]
    },
    {
     "name": "stderr",
     "output_type": "stream",
     "text": [
      "\r 53%|█████▎    | 1794/3354 [00:16<00:13, 114.34it/s]"
     ]
    },
    {
     "name": "stderr",
     "output_type": "stream",
     "text": [
      "\r 54%|█████▍    | 1806/3354 [00:16<00:13, 114.35it/s]"
     ]
    },
    {
     "name": "stderr",
     "output_type": "stream",
     "text": [
      "\r 54%|█████▍    | 1818/3354 [00:16<00:13, 112.69it/s]"
     ]
    },
    {
     "name": "stderr",
     "output_type": "stream",
     "text": [
      "\r 55%|█████▍    | 1830/3354 [00:16<00:13, 113.47it/s]"
     ]
    },
    {
     "name": "stderr",
     "output_type": "stream",
     "text": [
      "\r 55%|█████▍    | 1842/3354 [00:16<00:13, 112.63it/s]"
     ]
    },
    {
     "name": "stderr",
     "output_type": "stream",
     "text": [
      "\r 55%|█████▌    | 1854/3354 [00:16<00:13, 113.58it/s]"
     ]
    },
    {
     "name": "stderr",
     "output_type": "stream",
     "text": [
      "\r 56%|█████▌    | 1866/3354 [00:16<00:12, 114.66it/s]"
     ]
    },
    {
     "name": "stderr",
     "output_type": "stream",
     "text": [
      "\r 56%|█████▌    | 1878/3354 [00:16<00:14, 100.44it/s]"
     ]
    },
    {
     "name": "stderr",
     "output_type": "stream",
     "text": [
      "\r 56%|█████▋    | 1889/3354 [00:16<00:15, 96.58it/s] "
     ]
    },
    {
     "name": "stderr",
     "output_type": "stream",
     "text": [
      "\r 57%|█████▋    | 1901/3354 [00:17<00:14, 101.44it/s]"
     ]
    },
    {
     "name": "stderr",
     "output_type": "stream",
     "text": [
      "\r 57%|█████▋    | 1913/3354 [00:17<00:13, 105.13it/s]"
     ]
    },
    {
     "name": "stderr",
     "output_type": "stream",
     "text": [
      "\r 57%|█████▋    | 1924/3354 [00:17<00:14, 99.99it/s] "
     ]
    },
    {
     "name": "stderr",
     "output_type": "stream",
     "text": [
      "\r 58%|█████▊    | 1935/3354 [00:17<00:14, 95.36it/s]"
     ]
    },
    {
     "name": "stderr",
     "output_type": "stream",
     "text": [
      "\r 58%|█████▊    | 1948/3354 [00:17<00:13, 101.87it/s]"
     ]
    },
    {
     "name": "stderr",
     "output_type": "stream",
     "text": [
      "\r 58%|█████▊    | 1960/3354 [00:17<00:13, 104.99it/s]"
     ]
    },
    {
     "name": "stderr",
     "output_type": "stream",
     "text": [
      "\r 59%|█████▉    | 1972/3354 [00:17<00:12, 107.12it/s]"
     ]
    },
    {
     "name": "stderr",
     "output_type": "stream",
     "text": [
      "\r 59%|█████▉    | 1983/3354 [00:17<00:13, 103.94it/s]"
     ]
    },
    {
     "name": "stderr",
     "output_type": "stream",
     "text": [
      "\r 59%|█████▉    | 1995/3354 [00:17<00:12, 106.10it/s]"
     ]
    },
    {
     "name": "stderr",
     "output_type": "stream",
     "text": [
      "\r 60%|█████▉    | 2008/3354 [00:18<00:12, 109.92it/s]"
     ]
    },
    {
     "name": "stderr",
     "output_type": "stream",
     "text": [
      "\r 60%|██████    | 2020/3354 [00:18<00:13, 101.87it/s]"
     ]
    },
    {
     "name": "stderr",
     "output_type": "stream",
     "text": [
      "\r 61%|██████    | 2032/3354 [00:18<00:12, 104.64it/s]"
     ]
    },
    {
     "name": "stderr",
     "output_type": "stream",
     "text": [
      "\r 61%|██████    | 2044/3354 [00:18<00:12, 107.39it/s]"
     ]
    },
    {
     "name": "stderr",
     "output_type": "stream",
     "text": [
      "\r 61%|██████▏   | 2056/3354 [00:18<00:11, 108.79it/s]"
     ]
    },
    {
     "name": "stderr",
     "output_type": "stream",
     "text": [
      "\r 62%|██████▏   | 2068/3354 [00:18<00:11, 110.15it/s]"
     ]
    },
    {
     "name": "stderr",
     "output_type": "stream",
     "text": [
      "\r 62%|██████▏   | 2080/3354 [00:18<00:11, 110.27it/s]"
     ]
    },
    {
     "name": "stderr",
     "output_type": "stream",
     "text": [
      "\r 62%|██████▏   | 2092/3354 [00:18<00:11, 111.93it/s]"
     ]
    },
    {
     "name": "stderr",
     "output_type": "stream",
     "text": [
      "\r 63%|██████▎   | 2104/3354 [00:18<00:11, 111.78it/s]"
     ]
    },
    {
     "name": "stderr",
     "output_type": "stream",
     "text": [
      "\r 63%|██████▎   | 2116/3354 [00:19<00:10, 113.24it/s]"
     ]
    },
    {
     "name": "stderr",
     "output_type": "stream",
     "text": [
      "\r 63%|██████▎   | 2128/3354 [00:19<00:10, 114.81it/s]"
     ]
    },
    {
     "name": "stderr",
     "output_type": "stream",
     "text": [
      "\r 64%|██████▍   | 2140/3354 [00:19<00:10, 113.39it/s]"
     ]
    },
    {
     "name": "stderr",
     "output_type": "stream",
     "text": [
      "\r 64%|██████▍   | 2152/3354 [00:19<00:10, 113.39it/s]"
     ]
    },
    {
     "name": "stderr",
     "output_type": "stream",
     "text": [
      "\r 65%|██████▍   | 2164/3354 [00:19<00:10, 114.96it/s]"
     ]
    },
    {
     "name": "stderr",
     "output_type": "stream",
     "text": [
      "\r 65%|██████▍   | 2176/3354 [00:19<00:10, 114.79it/s]"
     ]
    },
    {
     "name": "stderr",
     "output_type": "stream",
     "text": [
      "\r 65%|██████▌   | 2188/3354 [00:19<00:10, 114.14it/s]"
     ]
    },
    {
     "name": "stderr",
     "output_type": "stream",
     "text": [
      "\r 66%|██████▌   | 2200/3354 [00:19<00:10, 110.00it/s]"
     ]
    },
    {
     "name": "stderr",
     "output_type": "stream",
     "text": [
      "\r 66%|██████▌   | 2212/3354 [00:19<00:10, 110.59it/s]"
     ]
    },
    {
     "name": "stderr",
     "output_type": "stream",
     "text": [
      "\r 66%|██████▋   | 2224/3354 [00:19<00:10, 111.85it/s]"
     ]
    },
    {
     "name": "stderr",
     "output_type": "stream",
     "text": [
      "\r 67%|██████▋   | 2236/3354 [00:20<00:09, 112.33it/s]"
     ]
    },
    {
     "name": "stderr",
     "output_type": "stream",
     "text": [
      "\r 67%|██████▋   | 2248/3354 [00:20<00:09, 110.80it/s]"
     ]
    },
    {
     "name": "stderr",
     "output_type": "stream",
     "text": [
      "\r 67%|██████▋   | 2260/3354 [00:20<00:09, 109.88it/s]"
     ]
    },
    {
     "name": "stderr",
     "output_type": "stream",
     "text": [
      "\r 68%|██████▊   | 2272/3354 [00:20<00:09, 111.42it/s]"
     ]
    },
    {
     "name": "stderr",
     "output_type": "stream",
     "text": [
      "\r 68%|██████▊   | 2284/3354 [00:20<00:09, 113.16it/s]"
     ]
    },
    {
     "name": "stderr",
     "output_type": "stream",
     "text": [
      "\r 68%|██████▊   | 2296/3354 [00:20<00:09, 107.88it/s]"
     ]
    },
    {
     "name": "stderr",
     "output_type": "stream",
     "text": [
      "\r 69%|██████▉   | 2307/3354 [00:20<00:09, 107.45it/s]"
     ]
    },
    {
     "name": "stderr",
     "output_type": "stream",
     "text": [
      "\r 69%|██████▉   | 2318/3354 [00:20<00:09, 107.04it/s]"
     ]
    },
    {
     "name": "stderr",
     "output_type": "stream",
     "text": [
      "\r 69%|██████▉   | 2329/3354 [00:20<00:09, 104.52it/s]"
     ]
    },
    {
     "name": "stderr",
     "output_type": "stream",
     "text": [
      "\r 70%|██████▉   | 2341/3354 [00:21<00:09, 106.91it/s]"
     ]
    },
    {
     "name": "stderr",
     "output_type": "stream",
     "text": [
      "\r 70%|███████   | 2353/3354 [00:21<00:09, 109.68it/s]"
     ]
    },
    {
     "name": "stderr",
     "output_type": "stream",
     "text": [
      "\r 71%|███████   | 2365/3354 [00:21<00:08, 110.36it/s]"
     ]
    },
    {
     "name": "stderr",
     "output_type": "stream",
     "text": [
      "\r 71%|███████   | 2378/3354 [00:21<00:08, 113.64it/s]"
     ]
    },
    {
     "name": "stderr",
     "output_type": "stream",
     "text": [
      "\r 71%|███████▏  | 2390/3354 [00:21<00:08, 115.35it/s]"
     ]
    },
    {
     "name": "stderr",
     "output_type": "stream",
     "text": [
      "\r 72%|███████▏  | 2402/3354 [00:21<00:08, 114.70it/s]"
     ]
    },
    {
     "name": "stderr",
     "output_type": "stream",
     "text": [
      "\r 72%|███████▏  | 2414/3354 [00:21<00:08, 112.29it/s]"
     ]
    },
    {
     "name": "stderr",
     "output_type": "stream",
     "text": [
      "\r 72%|███████▏  | 2426/3354 [00:21<00:08, 112.06it/s]"
     ]
    },
    {
     "name": "stderr",
     "output_type": "stream",
     "text": [
      "\r 73%|███████▎  | 2438/3354 [00:21<00:08, 104.55it/s]"
     ]
    },
    {
     "name": "stderr",
     "output_type": "stream",
     "text": [
      "\r 73%|███████▎  | 2449/3354 [00:22<00:08, 105.81it/s]"
     ]
    },
    {
     "name": "stderr",
     "output_type": "stream",
     "text": [
      "\r 73%|███████▎  | 2461/3354 [00:22<00:08, 107.36it/s]"
     ]
    },
    {
     "name": "stderr",
     "output_type": "stream",
     "text": [
      "\r 74%|███████▎  | 2472/3354 [00:22<00:09, 96.99it/s] "
     ]
    },
    {
     "name": "stderr",
     "output_type": "stream",
     "text": [
      "\r 74%|███████▍  | 2484/3354 [00:22<00:08, 101.87it/s]"
     ]
    },
    {
     "name": "stderr",
     "output_type": "stream",
     "text": [
      "\r 74%|███████▍  | 2496/3354 [00:22<00:08, 106.19it/s]"
     ]
    },
    {
     "name": "stderr",
     "output_type": "stream",
     "text": [
      "\r 75%|███████▍  | 2509/3354 [00:22<00:07, 109.73it/s]"
     ]
    },
    {
     "name": "stderr",
     "output_type": "stream",
     "text": [
      "\r 75%|███████▌  | 2521/3354 [00:22<00:07, 108.64it/s]"
     ]
    },
    {
     "name": "stderr",
     "output_type": "stream",
     "text": [
      "\r 76%|███████▌  | 2533/3354 [00:22<00:07, 111.79it/s]"
     ]
    },
    {
     "name": "stderr",
     "output_type": "stream",
     "text": [
      "\r 76%|███████▌  | 2545/3354 [00:22<00:07, 112.60it/s]"
     ]
    },
    {
     "name": "stderr",
     "output_type": "stream",
     "text": [
      "\r 76%|███████▌  | 2557/3354 [00:23<00:06, 113.96it/s]"
     ]
    },
    {
     "name": "stderr",
     "output_type": "stream",
     "text": [
      "\r 77%|███████▋  | 2569/3354 [00:23<00:06, 114.16it/s]"
     ]
    },
    {
     "name": "stderr",
     "output_type": "stream",
     "text": [
      "\r 77%|███████▋  | 2581/3354 [00:23<00:06, 111.03it/s]"
     ]
    },
    {
     "name": "stderr",
     "output_type": "stream",
     "text": [
      "\r 77%|███████▋  | 2593/3354 [00:23<00:07, 107.88it/s]"
     ]
    },
    {
     "name": "stderr",
     "output_type": "stream",
     "text": [
      "\r 78%|███████▊  | 2605/3354 [00:23<00:06, 109.19it/s]"
     ]
    },
    {
     "name": "stderr",
     "output_type": "stream",
     "text": [
      "\r 78%|███████▊  | 2617/3354 [00:23<00:06, 110.27it/s]"
     ]
    },
    {
     "name": "stderr",
     "output_type": "stream",
     "text": [
      "\r 78%|███████▊  | 2629/3354 [00:23<00:06, 111.83it/s]"
     ]
    },
    {
     "name": "stderr",
     "output_type": "stream",
     "text": [
      "\r 79%|███████▊  | 2641/3354 [00:23<00:06, 112.00it/s]"
     ]
    },
    {
     "name": "stderr",
     "output_type": "stream",
     "text": [
      "\r 79%|███████▉  | 2653/3354 [00:23<00:06, 113.46it/s]"
     ]
    },
    {
     "name": "stderr",
     "output_type": "stream",
     "text": [
      "\r 79%|███████▉  | 2665/3354 [00:23<00:06, 112.00it/s]"
     ]
    },
    {
     "name": "stderr",
     "output_type": "stream",
     "text": [
      "\r 80%|███████▉  | 2677/3354 [00:24<00:06, 111.47it/s]"
     ]
    },
    {
     "name": "stderr",
     "output_type": "stream",
     "text": [
      "\r 80%|████████  | 2689/3354 [00:24<00:06, 110.65it/s]"
     ]
    },
    {
     "name": "stderr",
     "output_type": "stream",
     "text": [
      "\r 81%|████████  | 2701/3354 [00:24<00:05, 109.85it/s]"
     ]
    },
    {
     "name": "stderr",
     "output_type": "stream",
     "text": [
      "\r 81%|████████  | 2713/3354 [00:24<00:05, 110.45it/s]"
     ]
    },
    {
     "name": "stderr",
     "output_type": "stream",
     "text": [
      "\r 81%|████████  | 2725/3354 [00:24<00:05, 108.38it/s]"
     ]
    },
    {
     "name": "stderr",
     "output_type": "stream",
     "text": [
      "\r 82%|████████▏ | 2736/3354 [00:24<00:05, 105.59it/s]"
     ]
    },
    {
     "name": "stderr",
     "output_type": "stream",
     "text": [
      "\r 82%|████████▏ | 2747/3354 [00:24<00:05, 106.33it/s]"
     ]
    },
    {
     "name": "stderr",
     "output_type": "stream",
     "text": [
      "\r 82%|████████▏ | 2758/3354 [00:24<00:05, 105.36it/s]"
     ]
    },
    {
     "name": "stderr",
     "output_type": "stream",
     "text": [
      "\r 83%|████████▎ | 2769/3354 [00:24<00:05, 100.55it/s]"
     ]
    },
    {
     "name": "stderr",
     "output_type": "stream",
     "text": [
      "\r 83%|████████▎ | 2781/3354 [00:25<00:05, 103.76it/s]"
     ]
    },
    {
     "name": "stderr",
     "output_type": "stream",
     "text": [
      "\r 83%|████████▎ | 2792/3354 [00:25<00:05, 96.69it/s] "
     ]
    },
    {
     "name": "stderr",
     "output_type": "stream",
     "text": [
      "\r 84%|████████▎ | 2804/3354 [00:25<00:05, 101.50it/s]"
     ]
    },
    {
     "name": "stderr",
     "output_type": "stream",
     "text": [
      "\r 84%|████████▍ | 2816/3354 [00:25<00:05, 105.45it/s]"
     ]
    },
    {
     "name": "stderr",
     "output_type": "stream",
     "text": [
      "\r 84%|████████▍ | 2828/3354 [00:25<00:04, 107.62it/s]"
     ]
    },
    {
     "name": "stderr",
     "output_type": "stream",
     "text": [
      "\r 85%|████████▍ | 2840/3354 [00:25<00:04, 109.23it/s]"
     ]
    },
    {
     "name": "stderr",
     "output_type": "stream",
     "text": [
      "\r 85%|████████▌ | 2852/3354 [00:25<00:04, 108.95it/s]"
     ]
    },
    {
     "name": "stderr",
     "output_type": "stream",
     "text": [
      "\r 85%|████████▌ | 2864/3354 [00:25<00:04, 110.51it/s]"
     ]
    },
    {
     "name": "stderr",
     "output_type": "stream",
     "text": [
      "\r 86%|████████▌ | 2876/3354 [00:25<00:04, 106.90it/s]"
     ]
    },
    {
     "name": "stderr",
     "output_type": "stream",
     "text": [
      "\r 86%|████████▌ | 2887/3354 [00:26<00:04, 98.22it/s] "
     ]
    },
    {
     "name": "stderr",
     "output_type": "stream",
     "text": [
      "\r 86%|████████▋ | 2898/3354 [00:26<00:04, 97.88it/s]"
     ]
    },
    {
     "name": "stderr",
     "output_type": "stream",
     "text": [
      "\r 87%|████████▋ | 2909/3354 [00:26<00:04, 100.43it/s]"
     ]
    },
    {
     "name": "stderr",
     "output_type": "stream",
     "text": [
      "\r 87%|████████▋ | 2920/3354 [00:26<00:04, 101.87it/s]"
     ]
    },
    {
     "name": "stderr",
     "output_type": "stream",
     "text": [
      "\r 87%|████████▋ | 2931/3354 [00:26<00:04, 99.63it/s] "
     ]
    },
    {
     "name": "stderr",
     "output_type": "stream",
     "text": [
      "\r 88%|████████▊ | 2942/3354 [00:26<00:04, 101.65it/s]"
     ]
    },
    {
     "name": "stderr",
     "output_type": "stream",
     "text": [
      "\r 88%|████████▊ | 2953/3354 [00:26<00:04, 96.01it/s] "
     ]
    },
    {
     "name": "stderr",
     "output_type": "stream",
     "text": [
      "\r 88%|████████▊ | 2964/3354 [00:26<00:03, 98.24it/s]"
     ]
    },
    {
     "name": "stderr",
     "output_type": "stream",
     "text": [
      "\r 89%|████████▊ | 2975/3354 [00:26<00:03, 100.11it/s]"
     ]
    },
    {
     "name": "stderr",
     "output_type": "stream",
     "text": [
      "\r 89%|████████▉ | 2986/3354 [00:27<00:03, 101.33it/s]"
     ]
    },
    {
     "name": "stderr",
     "output_type": "stream",
     "text": [
      "\r 89%|████████▉ | 2997/3354 [00:27<00:03, 100.20it/s]"
     ]
    },
    {
     "name": "stderr",
     "output_type": "stream",
     "text": [
      "\r 90%|████████▉ | 3009/3354 [00:27<00:03, 103.73it/s]"
     ]
    },
    {
     "name": "stderr",
     "output_type": "stream",
     "text": [
      "\r 90%|█████████ | 3021/3354 [00:27<00:03, 107.67it/s]"
     ]
    },
    {
     "name": "stderr",
     "output_type": "stream",
     "text": [
      "\r 90%|█████████ | 3033/3354 [00:27<00:02, 109.14it/s]"
     ]
    },
    {
     "name": "stderr",
     "output_type": "stream",
     "text": [
      "\r 91%|█████████ | 3044/3354 [00:27<00:02, 109.20it/s]"
     ]
    },
    {
     "name": "stderr",
     "output_type": "stream",
     "text": [
      "\r 91%|█████████ | 3055/3354 [00:27<00:02, 109.16it/s]"
     ]
    },
    {
     "name": "stderr",
     "output_type": "stream",
     "text": [
      "\r 91%|█████████▏| 3067/3354 [00:27<00:02, 110.64it/s]"
     ]
    },
    {
     "name": "stderr",
     "output_type": "stream",
     "text": [
      "\r 92%|█████████▏| 3079/3354 [00:27<00:02, 110.92it/s]"
     ]
    },
    {
     "name": "stderr",
     "output_type": "stream",
     "text": [
      "\r 92%|█████████▏| 3091/3354 [00:28<00:02, 112.97it/s]"
     ]
    },
    {
     "name": "stderr",
     "output_type": "stream",
     "text": [
      "\r 93%|█████████▎| 3103/3354 [00:28<00:02, 112.76it/s]"
     ]
    },
    {
     "name": "stderr",
     "output_type": "stream",
     "text": [
      "\r 93%|█████████▎| 3115/3354 [00:28<00:02, 111.88it/s]"
     ]
    },
    {
     "name": "stderr",
     "output_type": "stream",
     "text": [
      "\r 93%|█████████▎| 3127/3354 [00:28<00:02, 113.40it/s]"
     ]
    },
    {
     "name": "stderr",
     "output_type": "stream",
     "text": [
      "\r 94%|█████████▎| 3139/3354 [00:28<00:01, 114.36it/s]"
     ]
    },
    {
     "name": "stderr",
     "output_type": "stream",
     "text": [
      "\r 94%|█████████▍| 3151/3354 [00:28<00:01, 107.61it/s]"
     ]
    },
    {
     "name": "stderr",
     "output_type": "stream",
     "text": [
      "\r 94%|█████████▍| 3163/3354 [00:28<00:01, 108.81it/s]"
     ]
    },
    {
     "name": "stderr",
     "output_type": "stream",
     "text": [
      "\r 95%|█████████▍| 3175/3354 [00:28<00:01, 110.58it/s]"
     ]
    },
    {
     "name": "stderr",
     "output_type": "stream",
     "text": [
      "\r 95%|█████████▌| 3187/3354 [00:28<00:01, 111.38it/s]"
     ]
    },
    {
     "name": "stderr",
     "output_type": "stream",
     "text": [
      "\r 95%|█████████▌| 3199/3354 [00:28<00:01, 113.50it/s]"
     ]
    },
    {
     "name": "stderr",
     "output_type": "stream",
     "text": [
      "\r 96%|█████████▌| 3211/3354 [00:29<00:01, 112.61it/s]"
     ]
    },
    {
     "name": "stderr",
     "output_type": "stream",
     "text": [
      "\r 96%|█████████▌| 3223/3354 [00:29<00:01, 108.01it/s]"
     ]
    },
    {
     "name": "stderr",
     "output_type": "stream",
     "text": [
      "\r 96%|█████████▋| 3234/3354 [00:29<00:01, 104.21it/s]"
     ]
    },
    {
     "name": "stderr",
     "output_type": "stream",
     "text": [
      "\r 97%|█████████▋| 3246/3354 [00:29<00:01, 106.49it/s]"
     ]
    },
    {
     "name": "stderr",
     "output_type": "stream",
     "text": [
      "\r 97%|█████████▋| 3258/3354 [00:29<00:00, 108.67it/s]"
     ]
    },
    {
     "name": "stderr",
     "output_type": "stream",
     "text": [
      "\r 97%|█████████▋| 3270/3354 [00:29<00:00, 109.79it/s]"
     ]
    },
    {
     "name": "stderr",
     "output_type": "stream",
     "text": [
      "\r 98%|█████████▊| 3282/3354 [00:29<00:00, 108.79it/s]"
     ]
    },
    {
     "name": "stderr",
     "output_type": "stream",
     "text": [
      "\r 98%|█████████▊| 3294/3354 [00:29<00:00, 110.91it/s]"
     ]
    },
    {
     "name": "stderr",
     "output_type": "stream",
     "text": [
      "\r 99%|█████████▊| 3306/3354 [00:29<00:00, 112.17it/s]"
     ]
    },
    {
     "name": "stderr",
     "output_type": "stream",
     "text": [
      "\r 99%|█████████▉| 3318/3354 [00:30<00:00, 111.96it/s]"
     ]
    },
    {
     "name": "stderr",
     "output_type": "stream",
     "text": [
      "\r 99%|█████████▉| 3330/3354 [00:30<00:00, 110.33it/s]"
     ]
    },
    {
     "name": "stderr",
     "output_type": "stream",
     "text": [
      "\r100%|█████████▉| 3342/3354 [00:30<00:00, 110.32it/s]"
     ]
    },
    {
     "name": "stderr",
     "output_type": "stream",
     "text": [
      "\r100%|██████████| 3354/3354 [00:30<00:00, 107.79it/s]"
     ]
    },
    {
     "name": "stderr",
     "output_type": "stream",
     "text": [
      "\n"
     ]
    },
    {
     "name": "stderr",
     "output_type": "stream",
     "text": [
      "\r  0%|          | 0/372 [00:00<?, ?it/s]"
     ]
    },
    {
     "name": "stderr",
     "output_type": "stream",
     "text": [
      "\r  2%|▏         | 8/372 [00:00<00:04, 76.21it/s]"
     ]
    },
    {
     "name": "stderr",
     "output_type": "stream",
     "text": [
      "\r  4%|▍         | 16/372 [00:00<00:04, 76.64it/s]"
     ]
    },
    {
     "name": "stderr",
     "output_type": "stream",
     "text": [
      "\r  6%|▌         | 23/372 [00:00<00:04, 72.56it/s]"
     ]
    },
    {
     "name": "stderr",
     "output_type": "stream",
     "text": [
      "\r  8%|▊         | 30/372 [00:00<00:04, 70.78it/s]"
     ]
    },
    {
     "name": "stderr",
     "output_type": "stream",
     "text": [
      "\r 10%|▉         | 37/372 [00:00<00:04, 69.06it/s]"
     ]
    },
    {
     "name": "stderr",
     "output_type": "stream",
     "text": [
      "\r 12%|█▏        | 45/372 [00:00<00:04, 71.27it/s]"
     ]
    },
    {
     "name": "stderr",
     "output_type": "stream",
     "text": [
      "\r 14%|█▍        | 52/372 [00:00<00:04, 69.93it/s]"
     ]
    },
    {
     "name": "stderr",
     "output_type": "stream",
     "text": [
      "\r 16%|█▌        | 59/372 [00:00<00:04, 67.60it/s]"
     ]
    },
    {
     "name": "stderr",
     "output_type": "stream",
     "text": [
      "\r 18%|█▊        | 67/372 [00:00<00:04, 70.10it/s]"
     ]
    },
    {
     "name": "stderr",
     "output_type": "stream",
     "text": [
      "\r 20%|██        | 75/372 [00:01<00:04, 71.93it/s]"
     ]
    },
    {
     "name": "stderr",
     "output_type": "stream",
     "text": [
      "\r 22%|██▏       | 83/372 [00:01<00:03, 73.08it/s]"
     ]
    },
    {
     "name": "stderr",
     "output_type": "stream",
     "text": [
      "\r 24%|██▍       | 91/372 [00:01<00:03, 73.70it/s]"
     ]
    },
    {
     "name": "stderr",
     "output_type": "stream",
     "text": [
      "\r 27%|██▋       | 99/372 [00:01<00:03, 75.36it/s]"
     ]
    },
    {
     "name": "stderr",
     "output_type": "stream",
     "text": [
      "\r 29%|██▉       | 107/372 [00:01<00:03, 75.64it/s]"
     ]
    },
    {
     "name": "stderr",
     "output_type": "stream",
     "text": [
      "\r 31%|███       | 115/372 [00:01<00:03, 75.44it/s]"
     ]
    },
    {
     "name": "stderr",
     "output_type": "stream",
     "text": [
      "\r 33%|███▎      | 123/372 [00:01<00:03, 75.20it/s]"
     ]
    },
    {
     "name": "stderr",
     "output_type": "stream",
     "text": [
      "\r 35%|███▌      | 131/372 [00:01<00:03, 73.12it/s]"
     ]
    },
    {
     "name": "stderr",
     "output_type": "stream",
     "text": [
      "\r 37%|███▋      | 139/372 [00:01<00:03, 74.76it/s]"
     ]
    },
    {
     "name": "stderr",
     "output_type": "stream",
     "text": [
      "\r 40%|███▉      | 147/372 [00:02<00:02, 75.87it/s]"
     ]
    },
    {
     "name": "stderr",
     "output_type": "stream",
     "text": [
      "\r 42%|████▏     | 156/372 [00:02<00:02, 77.13it/s]"
     ]
    },
    {
     "name": "stderr",
     "output_type": "stream",
     "text": [
      "\r 44%|████▍     | 164/372 [00:02<00:02, 77.44it/s]"
     ]
    },
    {
     "name": "stderr",
     "output_type": "stream",
     "text": [
      "\r 46%|████▌     | 172/372 [00:02<00:02, 75.68it/s]"
     ]
    },
    {
     "name": "stderr",
     "output_type": "stream",
     "text": [
      "\r 48%|████▊     | 180/372 [00:02<00:02, 76.84it/s]"
     ]
    },
    {
     "name": "stderr",
     "output_type": "stream",
     "text": [
      "\r 51%|█████     | 188/372 [00:02<00:02, 77.66it/s]"
     ]
    },
    {
     "name": "stderr",
     "output_type": "stream",
     "text": [
      "\r 53%|█████▎    | 196/372 [00:02<00:02, 68.91it/s]"
     ]
    },
    {
     "name": "stderr",
     "output_type": "stream",
     "text": [
      "\r 55%|█████▍    | 204/372 [00:02<00:02, 70.54it/s]"
     ]
    },
    {
     "name": "stderr",
     "output_type": "stream",
     "text": [
      "\r 57%|█████▋    | 212/372 [00:02<00:02, 72.67it/s]"
     ]
    },
    {
     "name": "stderr",
     "output_type": "stream",
     "text": [
      "\r 59%|█████▉    | 220/372 [00:02<00:02, 73.97it/s]"
     ]
    },
    {
     "name": "stderr",
     "output_type": "stream",
     "text": [
      "\r 61%|██████▏   | 228/372 [00:03<00:01, 75.27it/s]"
     ]
    },
    {
     "name": "stderr",
     "output_type": "stream",
     "text": [
      "\r 63%|██████▎   | 236/372 [00:03<00:01, 76.13it/s]"
     ]
    },
    {
     "name": "stderr",
     "output_type": "stream",
     "text": [
      "\r 66%|██████▌   | 244/372 [00:03<00:01, 75.88it/s]"
     ]
    },
    {
     "name": "stderr",
     "output_type": "stream",
     "text": [
      "\r 68%|██████▊   | 253/372 [00:03<00:01, 76.91it/s]"
     ]
    },
    {
     "name": "stderr",
     "output_type": "stream",
     "text": [
      "\r 70%|███████   | 261/372 [00:03<00:01, 77.47it/s]"
     ]
    },
    {
     "name": "stderr",
     "output_type": "stream",
     "text": [
      "\r 72%|███████▏  | 269/372 [00:03<00:01, 77.92it/s]"
     ]
    },
    {
     "name": "stderr",
     "output_type": "stream",
     "text": [
      "\r 75%|███████▍  | 278/372 [00:03<00:01, 78.81it/s]"
     ]
    },
    {
     "name": "stderr",
     "output_type": "stream",
     "text": [
      "\r 77%|███████▋  | 286/372 [00:03<00:01, 77.07it/s]"
     ]
    },
    {
     "name": "stderr",
     "output_type": "stream",
     "text": [
      "\r 79%|███████▉  | 295/372 [00:03<00:00, 77.92it/s]"
     ]
    },
    {
     "name": "stderr",
     "output_type": "stream",
     "text": [
      "\r 81%|████████▏ | 303/372 [00:04<00:00, 77.83it/s]"
     ]
    },
    {
     "name": "stderr",
     "output_type": "stream",
     "text": [
      "\r 84%|████████▎ | 311/372 [00:04<00:00, 78.18it/s]"
     ]
    },
    {
     "name": "stderr",
     "output_type": "stream",
     "text": [
      "\r 86%|████████▌ | 319/372 [00:04<00:00, 76.46it/s]"
     ]
    },
    {
     "name": "stderr",
     "output_type": "stream",
     "text": [
      "\r 88%|████████▊ | 327/372 [00:04<00:00, 75.31it/s]"
     ]
    },
    {
     "name": "stderr",
     "output_type": "stream",
     "text": [
      "\r 90%|█████████ | 335/372 [00:04<00:00, 71.76it/s]"
     ]
    },
    {
     "name": "stderr",
     "output_type": "stream",
     "text": [
      "\r 92%|█████████▏| 343/372 [00:04<00:00, 72.85it/s]"
     ]
    },
    {
     "name": "stderr",
     "output_type": "stream",
     "text": [
      "\r 94%|█████████▍| 351/372 [00:04<00:00, 73.89it/s]"
     ]
    },
    {
     "name": "stderr",
     "output_type": "stream",
     "text": [
      "\r 97%|█████████▋| 359/372 [00:04<00:00, 73.15it/s]"
     ]
    },
    {
     "name": "stderr",
     "output_type": "stream",
     "text": [
      "\r 99%|█████████▊| 367/372 [00:04<00:00, 74.72it/s]"
     ]
    },
    {
     "name": "stderr",
     "output_type": "stream",
     "text": [
      "\r100%|██████████| 372/372 [00:04<00:00, 74.58it/s]"
     ]
    },
    {
     "name": "stderr",
     "output_type": "stream",
     "text": [
      "\n"
     ]
    },
    {
     "name": "stderr",
     "output_type": "stream",
     "text": [
      "\r  0%|          | 0/372 [00:00<?, ?it/s]"
     ]
    },
    {
     "name": "stderr",
     "output_type": "stream",
     "text": [
      "\r  4%|▍         | 16/372 [00:00<00:02, 159.21it/s]"
     ]
    },
    {
     "name": "stderr",
     "output_type": "stream",
     "text": [
      "\r  9%|▊         | 32/372 [00:00<00:02, 159.04it/s]"
     ]
    },
    {
     "name": "stderr",
     "output_type": "stream",
     "text": [
      "\r 13%|█▎        | 47/372 [00:00<00:02, 155.19it/s]"
     ]
    },
    {
     "name": "stderr",
     "output_type": "stream",
     "text": [
      "\r 16%|█▌        | 58/372 [00:00<00:02, 136.94it/s]"
     ]
    },
    {
     "name": "stderr",
     "output_type": "stream",
     "text": [
      "\r 20%|█▉        | 73/372 [00:00<00:02, 140.42it/s]"
     ]
    },
    {
     "name": "stderr",
     "output_type": "stream",
     "text": [
      "\r 24%|██▍       | 89/372 [00:00<00:01, 144.75it/s]"
     ]
    },
    {
     "name": "stderr",
     "output_type": "stream",
     "text": [
      "\r 28%|██▊       | 105/372 [00:00<00:01, 148.04it/s]"
     ]
    },
    {
     "name": "stderr",
     "output_type": "stream",
     "text": [
      "\r 33%|███▎      | 121/372 [00:00<00:01, 149.29it/s]"
     ]
    },
    {
     "name": "stderr",
     "output_type": "stream",
     "text": [
      "\r 37%|███▋      | 137/372 [00:00<00:01, 151.67it/s]"
     ]
    },
    {
     "name": "stderr",
     "output_type": "stream",
     "text": [
      "\r 41%|████▏     | 154/372 [00:01<00:01, 154.76it/s]"
     ]
    },
    {
     "name": "stderr",
     "output_type": "stream",
     "text": [
      "\r 46%|████▌     | 171/372 [00:01<00:01, 157.58it/s]"
     ]
    },
    {
     "name": "stderr",
     "output_type": "stream",
     "text": [
      "\r 50%|█████     | 187/372 [00:01<00:01, 156.59it/s]"
     ]
    },
    {
     "name": "stderr",
     "output_type": "stream",
     "text": [
      "\r 55%|█████▍    | 203/372 [00:01<00:01, 153.06it/s]"
     ]
    },
    {
     "name": "stderr",
     "output_type": "stream",
     "text": [
      "\r 59%|█████▉    | 219/372 [00:01<00:01, 149.62it/s]"
     ]
    },
    {
     "name": "stderr",
     "output_type": "stream",
     "text": [
      "\r 63%|██████▎   | 234/372 [00:01<00:01, 131.31it/s]"
     ]
    },
    {
     "name": "stderr",
     "output_type": "stream",
     "text": [
      "\r 67%|██████▋   | 250/372 [00:01<00:00, 136.84it/s]"
     ]
    },
    {
     "name": "stderr",
     "output_type": "stream",
     "text": [
      "\r 72%|███████▏  | 266/372 [00:01<00:00, 140.68it/s]"
     ]
    },
    {
     "name": "stderr",
     "output_type": "stream",
     "text": [
      "\r 76%|███████▌  | 281/372 [00:01<00:00, 129.12it/s]"
     ]
    },
    {
     "name": "stderr",
     "output_type": "stream",
     "text": [
      "\r 80%|████████  | 298/372 [00:02<00:00, 138.02it/s]"
     ]
    },
    {
     "name": "stderr",
     "output_type": "stream",
     "text": [
      "\r 85%|████████▍ | 315/372 [00:02<00:00, 144.96it/s]"
     ]
    },
    {
     "name": "stderr",
     "output_type": "stream",
     "text": [
      "\r 89%|████████▉ | 332/372 [00:02<00:00, 151.09it/s]"
     ]
    },
    {
     "name": "stderr",
     "output_type": "stream",
     "text": [
      "\r 94%|█████████▎| 348/372 [00:02<00:00, 149.57it/s]"
     ]
    },
    {
     "name": "stderr",
     "output_type": "stream",
     "text": [
      "\r 98%|█████████▊| 364/372 [00:02<00:00, 150.84it/s]"
     ]
    },
    {
     "name": "stderr",
     "output_type": "stream",
     "text": [
      "\r100%|██████████| 372/372 [00:02<00:00, 147.42it/s]"
     ]
    },
    {
     "name": "stderr",
     "output_type": "stream",
     "text": [
      "\n"
     ]
    },
    {
     "name": "stderr",
     "output_type": "stream",
     "text": [
      "\r  0%|          | 0/671 [00:00<?, ?it/s]"
     ]
    },
    {
     "name": "stderr",
     "output_type": "stream",
     "text": [
      "\r  1%|          | 8/671 [00:00<00:08, 79.36it/s]"
     ]
    },
    {
     "name": "stderr",
     "output_type": "stream",
     "text": [
      "\r  2%|▏         | 16/671 [00:00<00:08, 78.01it/s]"
     ]
    },
    {
     "name": "stderr",
     "output_type": "stream",
     "text": [
      "\r  4%|▎         | 24/671 [00:00<00:08, 77.64it/s]"
     ]
    },
    {
     "name": "stderr",
     "output_type": "stream",
     "text": [
      "\r  5%|▍         | 32/671 [00:00<00:08, 77.67it/s]"
     ]
    },
    {
     "name": "stderr",
     "output_type": "stream",
     "text": [
      "\r  6%|▌         | 40/671 [00:00<00:08, 77.73it/s]"
     ]
    },
    {
     "name": "stderr",
     "output_type": "stream",
     "text": [
      "\r  7%|▋         | 48/671 [00:00<00:08, 77.68it/s]"
     ]
    },
    {
     "name": "stderr",
     "output_type": "stream",
     "text": [
      "\r  8%|▊         | 56/671 [00:00<00:07, 77.02it/s]"
     ]
    },
    {
     "name": "stderr",
     "output_type": "stream",
     "text": [
      "\r 10%|▉         | 64/671 [00:00<00:07, 76.46it/s]"
     ]
    },
    {
     "name": "stderr",
     "output_type": "stream",
     "text": [
      "\r 11%|█         | 72/671 [00:00<00:07, 76.58it/s]"
     ]
    },
    {
     "name": "stderr",
     "output_type": "stream",
     "text": [
      "\r 12%|█▏        | 80/671 [00:01<00:07, 76.60it/s]"
     ]
    },
    {
     "name": "stderr",
     "output_type": "stream",
     "text": [
      "\r 13%|█▎        | 88/671 [00:01<00:07, 76.74it/s]"
     ]
    },
    {
     "name": "stderr",
     "output_type": "stream",
     "text": [
      "\r 14%|█▍        | 96/671 [00:01<00:07, 77.10it/s]"
     ]
    },
    {
     "name": "stderr",
     "output_type": "stream",
     "text": [
      "\r 15%|█▌        | 104/671 [00:01<00:07, 76.50it/s]"
     ]
    },
    {
     "name": "stderr",
     "output_type": "stream",
     "text": [
      "\r 17%|█▋        | 112/671 [00:01<00:07, 76.74it/s]"
     ]
    },
    {
     "name": "stderr",
     "output_type": "stream",
     "text": [
      "\r 18%|█▊        | 120/671 [00:01<00:07, 77.24it/s]"
     ]
    },
    {
     "name": "stderr",
     "output_type": "stream",
     "text": [
      "\r 19%|█▉        | 128/671 [00:01<00:06, 77.83it/s]"
     ]
    },
    {
     "name": "stderr",
     "output_type": "stream",
     "text": [
      "\r 20%|██        | 136/671 [00:01<00:06, 78.02it/s]"
     ]
    },
    {
     "name": "stderr",
     "output_type": "stream",
     "text": [
      "\r 21%|██▏       | 144/671 [00:01<00:06, 76.20it/s]"
     ]
    },
    {
     "name": "stderr",
     "output_type": "stream",
     "text": [
      "\r 23%|██▎       | 152/671 [00:01<00:06, 76.36it/s]"
     ]
    },
    {
     "name": "stderr",
     "output_type": "stream",
     "text": [
      "\r 24%|██▍       | 160/671 [00:02<00:06, 77.32it/s]"
     ]
    },
    {
     "name": "stderr",
     "output_type": "stream",
     "text": [
      "\r 25%|██▌       | 168/671 [00:02<00:06, 78.04it/s]"
     ]
    },
    {
     "name": "stderr",
     "output_type": "stream",
     "text": [
      "\r 26%|██▋       | 177/671 [00:02<00:06, 78.78it/s]"
     ]
    },
    {
     "name": "stderr",
     "output_type": "stream",
     "text": [
      "\r 28%|██▊       | 185/671 [00:02<00:06, 77.58it/s]"
     ]
    },
    {
     "name": "stderr",
     "output_type": "stream",
     "text": [
      "\r 29%|██▉       | 194/671 [00:02<00:06, 78.51it/s]"
     ]
    },
    {
     "name": "stderr",
     "output_type": "stream",
     "text": [
      "\r 30%|███       | 202/671 [00:02<00:05, 78.71it/s]"
     ]
    },
    {
     "name": "stderr",
     "output_type": "stream",
     "text": [
      "\r 31%|███▏      | 210/671 [00:02<00:05, 78.32it/s]"
     ]
    },
    {
     "name": "stderr",
     "output_type": "stream",
     "text": [
      "\r 32%|███▏      | 218/671 [00:02<00:05, 78.59it/s]"
     ]
    },
    {
     "name": "stderr",
     "output_type": "stream",
     "text": [
      "\r 34%|███▎      | 226/671 [00:02<00:05, 77.17it/s]"
     ]
    },
    {
     "name": "stderr",
     "output_type": "stream",
     "text": [
      "\r 35%|███▍      | 234/671 [00:03<00:05, 77.53it/s]"
     ]
    },
    {
     "name": "stderr",
     "output_type": "stream",
     "text": [
      "\r 36%|███▌      | 242/671 [00:03<00:05, 77.62it/s]"
     ]
    },
    {
     "name": "stderr",
     "output_type": "stream",
     "text": [
      "\r 37%|███▋      | 251/671 [00:03<00:05, 78.50it/s]"
     ]
    },
    {
     "name": "stderr",
     "output_type": "stream",
     "text": [
      "\r 39%|███▊      | 259/671 [00:03<00:05, 77.00it/s]"
     ]
    },
    {
     "name": "stderr",
     "output_type": "stream",
     "text": [
      "\r 40%|███▉      | 267/671 [00:03<00:05, 77.65it/s]"
     ]
    },
    {
     "name": "stderr",
     "output_type": "stream",
     "text": [
      "\r 41%|████      | 275/671 [00:03<00:05, 77.89it/s]"
     ]
    },
    {
     "name": "stderr",
     "output_type": "stream",
     "text": [
      "\r 42%|████▏     | 283/671 [00:03<00:04, 78.31it/s]"
     ]
    },
    {
     "name": "stderr",
     "output_type": "stream",
     "text": [
      "\r 43%|████▎     | 291/671 [00:03<00:04, 77.97it/s]"
     ]
    },
    {
     "name": "stderr",
     "output_type": "stream",
     "text": [
      "\r 45%|████▍     | 299/671 [00:03<00:04, 76.46it/s]"
     ]
    },
    {
     "name": "stderr",
     "output_type": "stream",
     "text": [
      "\r 46%|████▌     | 307/671 [00:03<00:04, 75.25it/s]"
     ]
    },
    {
     "name": "stderr",
     "output_type": "stream",
     "text": [
      "\r 47%|████▋     | 315/671 [00:04<00:04, 74.71it/s]"
     ]
    },
    {
     "name": "stderr",
     "output_type": "stream",
     "text": [
      "\r 48%|████▊     | 323/671 [00:04<00:04, 75.40it/s]"
     ]
    },
    {
     "name": "stderr",
     "output_type": "stream",
     "text": [
      "\r 49%|████▉     | 331/671 [00:04<00:04, 76.01it/s]"
     ]
    },
    {
     "name": "stderr",
     "output_type": "stream",
     "text": [
      "\r 51%|█████     | 339/671 [00:04<00:04, 76.33it/s]"
     ]
    },
    {
     "name": "stderr",
     "output_type": "stream",
     "text": [
      "\r 52%|█████▏    | 347/671 [00:04<00:04, 76.97it/s]"
     ]
    },
    {
     "name": "stderr",
     "output_type": "stream",
     "text": [
      "\r 53%|█████▎    | 355/671 [00:04<00:04, 76.27it/s]"
     ]
    },
    {
     "name": "stderr",
     "output_type": "stream",
     "text": [
      "\r 54%|█████▍    | 363/671 [00:04<00:04, 76.91it/s]"
     ]
    },
    {
     "name": "stderr",
     "output_type": "stream",
     "text": [
      "\r 55%|█████▌    | 371/671 [00:04<00:03, 75.28it/s]"
     ]
    },
    {
     "name": "stderr",
     "output_type": "stream",
     "text": [
      "\r 56%|█████▋    | 379/671 [00:04<00:03, 75.36it/s]"
     ]
    },
    {
     "name": "stderr",
     "output_type": "stream",
     "text": [
      "\r 58%|█████▊    | 387/671 [00:05<00:03, 74.46it/s]"
     ]
    },
    {
     "name": "stderr",
     "output_type": "stream",
     "text": [
      "\r 59%|█████▉    | 395/671 [00:05<00:03, 75.88it/s]"
     ]
    },
    {
     "name": "stderr",
     "output_type": "stream",
     "text": [
      "\r 60%|██████    | 403/671 [00:05<00:03, 76.57it/s]"
     ]
    },
    {
     "name": "stderr",
     "output_type": "stream",
     "text": [
      "\r 61%|██████▏   | 411/671 [00:05<00:03, 75.75it/s]"
     ]
    },
    {
     "name": "stderr",
     "output_type": "stream",
     "text": [
      "\r 62%|██████▏   | 419/671 [00:05<00:03, 76.65it/s]"
     ]
    },
    {
     "name": "stderr",
     "output_type": "stream",
     "text": [
      "\r 64%|██████▎   | 427/671 [00:05<00:03, 76.43it/s]"
     ]
    },
    {
     "name": "stderr",
     "output_type": "stream",
     "text": [
      "\r 65%|██████▍   | 435/671 [00:05<00:03, 77.22it/s]"
     ]
    },
    {
     "name": "stderr",
     "output_type": "stream",
     "text": [
      "\r 66%|██████▌   | 443/671 [00:05<00:02, 77.31it/s]"
     ]
    },
    {
     "name": "stderr",
     "output_type": "stream",
     "text": [
      "\r 67%|██████▋   | 451/671 [00:05<00:02, 76.21it/s]"
     ]
    },
    {
     "name": "stderr",
     "output_type": "stream",
     "text": [
      "\r 68%|██████▊   | 459/671 [00:05<00:02, 77.03it/s]"
     ]
    },
    {
     "name": "stderr",
     "output_type": "stream",
     "text": [
      "\r 70%|██████▉   | 467/671 [00:06<00:02, 77.41it/s]"
     ]
    },
    {
     "name": "stderr",
     "output_type": "stream",
     "text": [
      "\r 71%|███████   | 475/671 [00:06<00:02, 77.34it/s]"
     ]
    },
    {
     "name": "stderr",
     "output_type": "stream",
     "text": [
      "\r 72%|███████▏  | 483/671 [00:06<00:02, 77.97it/s]"
     ]
    },
    {
     "name": "stderr",
     "output_type": "stream",
     "text": [
      "\r 73%|███████▎  | 491/671 [00:06<00:02, 77.31it/s]"
     ]
    },
    {
     "name": "stderr",
     "output_type": "stream",
     "text": [
      "\r 74%|███████▍  | 499/671 [00:06<00:02, 77.59it/s]"
     ]
    },
    {
     "name": "stderr",
     "output_type": "stream",
     "text": [
      "\r 76%|███████▌  | 507/671 [00:06<00:02, 77.99it/s]"
     ]
    },
    {
     "name": "stderr",
     "output_type": "stream",
     "text": [
      "\r 77%|███████▋  | 515/671 [00:06<00:02, 77.37it/s]"
     ]
    },
    {
     "name": "stderr",
     "output_type": "stream",
     "text": [
      "\r 78%|███████▊  | 523/671 [00:06<00:01, 77.92it/s]"
     ]
    },
    {
     "name": "stderr",
     "output_type": "stream",
     "text": [
      "\r 79%|███████▉  | 531/671 [00:06<00:01, 76.95it/s]"
     ]
    },
    {
     "name": "stderr",
     "output_type": "stream",
     "text": [
      "\r 80%|████████  | 539/671 [00:06<00:01, 77.26it/s]"
     ]
    },
    {
     "name": "stderr",
     "output_type": "stream",
     "text": [
      "\r 82%|████████▏ | 547/671 [00:07<00:01, 77.60it/s]"
     ]
    },
    {
     "name": "stderr",
     "output_type": "stream",
     "text": [
      "\r 83%|████████▎ | 555/671 [00:07<00:01, 77.42it/s]"
     ]
    },
    {
     "name": "stderr",
     "output_type": "stream",
     "text": [
      "\r 84%|████████▍ | 563/671 [00:07<00:01, 77.86it/s]"
     ]
    },
    {
     "name": "stderr",
     "output_type": "stream",
     "text": [
      "\r 85%|████████▌ | 571/671 [00:07<00:01, 77.38it/s]"
     ]
    },
    {
     "name": "stderr",
     "output_type": "stream",
     "text": [
      "\r 86%|████████▋ | 579/671 [00:07<00:01, 77.36it/s]"
     ]
    },
    {
     "name": "stderr",
     "output_type": "stream",
     "text": [
      "\r 87%|████████▋ | 587/671 [00:07<00:01, 77.48it/s]"
     ]
    },
    {
     "name": "stderr",
     "output_type": "stream",
     "text": [
      "\r 89%|████████▊ | 595/671 [00:07<00:00, 77.79it/s]"
     ]
    },
    {
     "name": "stderr",
     "output_type": "stream",
     "text": [
      "\r 90%|████████▉ | 603/671 [00:07<00:00, 77.33it/s]"
     ]
    },
    {
     "name": "stderr",
     "output_type": "stream",
     "text": [
      "\r 91%|█████████ | 611/671 [00:07<00:00, 77.45it/s]"
     ]
    },
    {
     "name": "stderr",
     "output_type": "stream",
     "text": [
      "\r 92%|█████████▏| 619/671 [00:08<00:00, 77.71it/s]"
     ]
    },
    {
     "name": "stderr",
     "output_type": "stream",
     "text": [
      "\r 93%|█████████▎| 627/671 [00:08<00:00, 77.37it/s]"
     ]
    },
    {
     "name": "stderr",
     "output_type": "stream",
     "text": [
      "\r 95%|█████████▍| 635/671 [00:08<00:00, 77.92it/s]"
     ]
    },
    {
     "name": "stderr",
     "output_type": "stream",
     "text": [
      "\r 96%|█████████▌| 643/671 [00:08<00:00, 77.56it/s]"
     ]
    },
    {
     "name": "stderr",
     "output_type": "stream",
     "text": [
      "\r 97%|█████████▋| 651/671 [00:08<00:00, 77.39it/s]"
     ]
    },
    {
     "name": "stderr",
     "output_type": "stream",
     "text": [
      "\r 98%|█████████▊| 659/671 [00:08<00:00, 77.85it/s]"
     ]
    },
    {
     "name": "stderr",
     "output_type": "stream",
     "text": [
      "\r 99%|█████████▉| 667/671 [00:08<00:00, 74.70it/s]"
     ]
    },
    {
     "name": "stderr",
     "output_type": "stream",
     "text": [
      "\r100%|██████████| 671/671 [00:08<00:00, 77.03it/s]"
     ]
    },
    {
     "name": "stderr",
     "output_type": "stream",
     "text": [
      "\n"
     ]
    },
    {
     "name": "stderr",
     "output_type": "stream",
     "text": [
      "\r  0%|          | 0/671 [00:00<?, ?it/s]"
     ]
    },
    {
     "name": "stderr",
     "output_type": "stream",
     "text": [
      "\r  2%|▏         | 14/671 [00:00<00:04, 133.89it/s]"
     ]
    },
    {
     "name": "stderr",
     "output_type": "stream",
     "text": [
      "\r  4%|▍         | 30/671 [00:00<00:04, 139.55it/s]"
     ]
    },
    {
     "name": "stderr",
     "output_type": "stream",
     "text": [
      "\r  7%|▋         | 46/671 [00:00<00:04, 144.38it/s]"
     ]
    },
    {
     "name": "stderr",
     "output_type": "stream",
     "text": [
      "\r  9%|▉         | 62/671 [00:00<00:04, 147.82it/s]"
     ]
    },
    {
     "name": "stderr",
     "output_type": "stream",
     "text": [
      "\r 12%|█▏        | 78/671 [00:00<00:03, 150.93it/s]"
     ]
    },
    {
     "name": "stderr",
     "output_type": "stream",
     "text": [
      "\r 14%|█▍        | 94/671 [00:00<00:03, 151.02it/s]"
     ]
    },
    {
     "name": "stderr",
     "output_type": "stream",
     "text": [
      "\r 16%|█▋        | 110/671 [00:00<00:03, 152.56it/s]"
     ]
    },
    {
     "name": "stderr",
     "output_type": "stream",
     "text": [
      "\r 19%|█▉        | 126/671 [00:00<00:03, 152.73it/s]"
     ]
    },
    {
     "name": "stderr",
     "output_type": "stream",
     "text": [
      "\r 21%|██        | 142/671 [00:00<00:03, 153.74it/s]"
     ]
    },
    {
     "name": "stderr",
     "output_type": "stream",
     "text": [
      "\r 24%|██▎       | 158/671 [00:01<00:03, 154.98it/s]"
     ]
    },
    {
     "name": "stderr",
     "output_type": "stream",
     "text": [
      "\r 26%|██▌       | 174/671 [00:01<00:03, 149.31it/s]"
     ]
    },
    {
     "name": "stderr",
     "output_type": "stream",
     "text": [
      "\r 28%|██▊       | 189/671 [00:01<00:03, 146.74it/s]"
     ]
    },
    {
     "name": "stderr",
     "output_type": "stream",
     "text": [
      "\r 30%|███       | 204/671 [00:01<00:03, 146.06it/s]"
     ]
    },
    {
     "name": "stderr",
     "output_type": "stream",
     "text": [
      "\r 33%|███▎      | 220/671 [00:01<00:03, 147.77it/s]"
     ]
    },
    {
     "name": "stderr",
     "output_type": "stream",
     "text": [
      "\r 35%|███▌      | 237/671 [00:01<00:02, 149.63it/s]"
     ]
    },
    {
     "name": "stderr",
     "output_type": "stream",
     "text": [
      "\r 38%|███▊      | 253/671 [00:01<00:02, 151.17it/s]"
     ]
    },
    {
     "name": "stderr",
     "output_type": "stream",
     "text": [
      "\r 40%|████      | 269/671 [00:01<00:02, 150.58it/s]"
     ]
    },
    {
     "name": "stderr",
     "output_type": "stream",
     "text": [
      "\r 42%|████▏     | 285/671 [00:01<00:02, 152.51it/s]"
     ]
    },
    {
     "name": "stderr",
     "output_type": "stream",
     "text": [
      "\r 45%|████▍     | 301/671 [00:01<00:02, 152.65it/s]"
     ]
    },
    {
     "name": "stderr",
     "output_type": "stream",
     "text": [
      "\r 47%|████▋     | 317/671 [00:02<00:02, 151.97it/s]"
     ]
    },
    {
     "name": "stderr",
     "output_type": "stream",
     "text": [
      "\r 50%|████▉     | 333/671 [00:02<00:02, 153.04it/s]"
     ]
    },
    {
     "name": "stderr",
     "output_type": "stream",
     "text": [
      "\r 52%|█████▏    | 349/671 [00:02<00:02, 154.24it/s]"
     ]
    },
    {
     "name": "stderr",
     "output_type": "stream",
     "text": [
      "\r 54%|█████▍    | 365/671 [00:02<00:01, 155.46it/s]"
     ]
    },
    {
     "name": "stderr",
     "output_type": "stream",
     "text": [
      "\r 57%|█████▋    | 381/671 [00:02<00:01, 154.80it/s]"
     ]
    },
    {
     "name": "stderr",
     "output_type": "stream",
     "text": [
      "\r 59%|█████▉    | 397/671 [00:02<00:01, 151.36it/s]"
     ]
    },
    {
     "name": "stderr",
     "output_type": "stream",
     "text": [
      "\r 62%|██████▏   | 413/671 [00:02<00:01, 149.81it/s]"
     ]
    },
    {
     "name": "stderr",
     "output_type": "stream",
     "text": [
      "\r 64%|██████▍   | 428/671 [00:02<00:01, 149.84it/s]"
     ]
    },
    {
     "name": "stderr",
     "output_type": "stream",
     "text": [
      "\r 66%|██████▌   | 444/671 [00:02<00:01, 151.18it/s]"
     ]
    },
    {
     "name": "stderr",
     "output_type": "stream",
     "text": [
      "\r 69%|██████▊   | 460/671 [00:03<00:01, 147.54it/s]"
     ]
    },
    {
     "name": "stderr",
     "output_type": "stream",
     "text": [
      "\r 71%|███████   | 475/671 [00:03<00:01, 146.70it/s]"
     ]
    },
    {
     "name": "stderr",
     "output_type": "stream",
     "text": [
      "\r 73%|███████▎  | 491/671 [00:03<00:01, 148.22it/s]"
     ]
    },
    {
     "name": "stderr",
     "output_type": "stream",
     "text": [
      "\r 76%|███████▌  | 507/671 [00:03<00:01, 149.59it/s]"
     ]
    },
    {
     "name": "stderr",
     "output_type": "stream",
     "text": [
      "\r 78%|███████▊  | 522/671 [00:03<00:00, 149.17it/s]"
     ]
    },
    {
     "name": "stderr",
     "output_type": "stream",
     "text": [
      "\r 80%|████████  | 538/671 [00:03<00:00, 148.86it/s]"
     ]
    },
    {
     "name": "stderr",
     "output_type": "stream",
     "text": [
      "\r 82%|████████▏ | 553/671 [00:03<00:00, 148.88it/s]"
     ]
    },
    {
     "name": "stderr",
     "output_type": "stream",
     "text": [
      "\r 85%|████████▍ | 569/671 [00:03<00:00, 149.31it/s]"
     ]
    },
    {
     "name": "stderr",
     "output_type": "stream",
     "text": [
      "\r 87%|████████▋ | 585/671 [00:03<00:00, 149.42it/s]"
     ]
    },
    {
     "name": "stderr",
     "output_type": "stream",
     "text": [
      "\r 90%|████████▉ | 601/671 [00:03<00:00, 150.70it/s]"
     ]
    },
    {
     "name": "stderr",
     "output_type": "stream",
     "text": [
      "\r 92%|█████████▏| 617/671 [00:04<00:00, 149.53it/s]"
     ]
    },
    {
     "name": "stderr",
     "output_type": "stream",
     "text": [
      "\r 94%|█████████▍| 632/671 [00:04<00:00, 147.01it/s]"
     ]
    },
    {
     "name": "stderr",
     "output_type": "stream",
     "text": [
      "\r 97%|█████████▋| 648/671 [00:04<00:00, 149.14it/s]"
     ]
    },
    {
     "name": "stderr",
     "output_type": "stream",
     "text": [
      "\r 99%|█████████▉| 664/671 [00:04<00:00, 150.93it/s]"
     ]
    },
    {
     "name": "stderr",
     "output_type": "stream",
     "text": [
      "\r100%|██████████| 671/671 [00:04<00:00, 150.58it/s]"
     ]
    },
    {
     "name": "stderr",
     "output_type": "stream",
     "text": [
      "\n"
     ]
    }
   ],
   "source": [
    "train_df_no_final = train_df[train_df['phase'] != 'final_rinse']\n",
    "\n",
    "X_train = create_feature_matrix(train_df_no_final[train_df_no_final['process_id'].isin(train_features_index)])\n",
    "X_val = create_feature_matrix(train_df_no_final[train_df_no_final['process_id'].isin(val_features_index)])\n",
    "X_test = create_feature_matrix(test_df[test_df['process_id'].isin(test_features_index)])"
   ]
  },
  {
   "cell_type": "code",
   "execution_count": 56,
   "metadata": {
    "id": "ElBhnGGbBZOQ",
    "colab_type": "code",
    "colab": {}
   },
   "outputs": [
    {
     "data": {
      "text/plain": [
       "<bound method NDFrame.head of          process_id  object_id        phase           timestamp pipeline  \\\nrow_id                                                                     \n0             20001        405    pre_rinse 2018-04-15 04:20:47       L4   \n1             20001        405    pre_rinse 2018-04-15 04:20:49       L4   \n2             20001        405    pre_rinse 2018-04-15 04:20:51       L4   \n3             20001        405    pre_rinse 2018-04-15 04:20:53       L4   \n4             20001        405    pre_rinse 2018-04-15 04:20:55       L4   \n5             20001        405    pre_rinse 2018-04-15 04:20:57       L4   \n6             20001        405    pre_rinse 2018-04-15 04:20:59       L4   \n7             20001        405    pre_rinse 2018-04-15 04:21:01       L4   \n8             20001        405    pre_rinse 2018-04-15 04:21:03       L4   \n9             20001        405    pre_rinse 2018-04-15 04:21:05       L4   \n10            20001        405    pre_rinse 2018-04-15 04:21:07       L4   \n11            20001        405    pre_rinse 2018-04-15 04:21:09       L4   \n12            20001        405    pre_rinse 2018-04-15 04:21:11       L4   \n13            20001        405    pre_rinse 2018-04-15 04:21:13       L4   \n14            20001        405    pre_rinse 2018-04-15 04:21:15       L4   \n15            20001        405    pre_rinse 2018-04-15 04:21:17       L4   \n16            20001        405    pre_rinse 2018-04-15 04:21:19       L4   \n17            20001        405    pre_rinse 2018-04-15 04:21:21       L4   \n18            20001        405    pre_rinse 2018-04-15 04:21:23       L4   \n19            20001        405    pre_rinse 2018-04-15 04:21:25       L4   \n20            20001        405    pre_rinse 2018-04-15 04:21:27       L4   \n21            20001        405    pre_rinse 2018-04-15 04:21:29       L4   \n22            20001        405    pre_rinse 2018-04-15 04:21:31       L4   \n23            20001        405    pre_rinse 2018-04-15 04:21:33       L4   \n24            20001        405    pre_rinse 2018-04-15 04:21:35       L4   \n25            20001        405    pre_rinse 2018-04-15 04:21:37       L4   \n26            20001        405    pre_rinse 2018-04-15 04:21:39       L4   \n27            20001        405    pre_rinse 2018-04-15 04:21:41       L4   \n28            20001        405    pre_rinse 2018-04-15 04:21:43       L4   \n29            20001        405    pre_rinse 2018-04-15 04:21:45       L4   \n...             ...        ...          ...                 ...      ...   \n5987790       27989        921  final_rinse 2018-03-20 16:48:57       L7   \n5987791       27989        921  final_rinse 2018-03-20 16:48:59       L7   \n5987792       27989        921  final_rinse 2018-03-20 16:49:01       L7   \n5987793       27989        921  final_rinse 2018-03-20 16:49:03       L7   \n5987794       27989        921  final_rinse 2018-03-20 16:49:05       L7   \n5987795       27989        921  final_rinse 2018-03-20 16:49:07       L7   \n5987796       27989        921  final_rinse 2018-03-20 16:49:09       L7   \n5987797       27989        921  final_rinse 2018-03-20 16:49:11       L7   \n5987798       27989        921  final_rinse 2018-03-20 16:49:13       L7   \n5987799       27989        921  final_rinse 2018-03-20 16:49:15       L7   \n5987800       27989        921  final_rinse 2018-03-20 16:49:17       L7   \n5987801       27989        921  final_rinse 2018-03-20 16:49:19       L7   \n5987802       27989        921  final_rinse 2018-03-20 16:49:21       L7   \n5987803       27989        921  final_rinse 2018-03-20 16:49:23       L7   \n5987804       27989        921  final_rinse 2018-03-20 16:49:25       L7   \n5987805       27989        921  final_rinse 2018-03-20 16:49:27       L7   \n5987806       27989        921  final_rinse 2018-03-20 16:49:29       L7   \n5987807       27989        921  final_rinse 2018-03-20 16:49:31       L7   \n5987808       27989        921  final_rinse 2018-03-20 16:49:33       L7   \n5987809       27989        921  final_rinse 2018-03-20 16:49:35       L7   \n5987810       27989        921  final_rinse 2018-03-20 16:49:37       L7   \n5987811       27989        921  final_rinse 2018-03-20 16:49:39       L7   \n5987812       27989        921  final_rinse 2018-03-20 16:49:41       L7   \n5987813       27989        921  final_rinse 2018-03-20 16:49:43       L7   \n5987814       27989        921  final_rinse 2018-03-20 16:49:45       L7   \n5987815       27989        921  final_rinse 2018-03-20 16:49:47       L7   \n5987816       27989        921  final_rinse 2018-03-20 16:49:49       L7   \n5987817       27989        921  final_rinse 2018-03-20 16:49:51       L7   \n5987818       27989        921  final_rinse 2018-03-20 16:49:53       L7   \n5987819       27989        921  final_rinse 2018-03-20 16:49:55       L7   \n\n          supply_flow  supply_pressure  return_temperature  \\\nrow_id                                                       \n0         8550.348000         0.615451           18.044704   \n1        11364.294000         0.654297           18.229168   \n2        12174.479000         0.699870           18.395544   \n3        13436.776000         0.761502           18.583622   \n4        13776.766000         0.837240           18.627026   \n5        18710.215000         0.944444           18.583622   \n6        21216.725000         1.032118           18.460648   \n7        22403.066000         1.087891           18.420862   \n8        23278.357000         1.140842           18.420862   \n9        24178.965000         1.191623           18.377459   \n10       24938.514000         1.249349           18.337673   \n11       25578.705000         1.304037           18.377459   \n12       26023.582000         1.342014           18.482350   \n13       26446.760000         1.380208           18.442564   \n14       26869.938000         1.409505           18.301504   \n15       27322.049000         1.435330           18.178530   \n16       27810.330000         1.460069           18.044704   \n17       28092.447000         1.481988           18.088108   \n18       28367.332000         1.502604           18.420862   \n19       28548.178000         1.514323           18.627026   \n20       28678.385000         1.527344           18.485966   \n21       28971.354000         1.540582           17.932580   \n22       29076.246000         1.550998           17.194735   \n23       29032.840000         1.560330           16.210938   \n24       29231.771000         1.570964           15.404369   \n25       29387.299000         1.581163           14.746094   \n26       29394.531000         1.584635           14.254196   \n27       29466.871000         1.590495           13.932292   \n28       29550.059000         1.594401           13.888889   \n29       29604.312000         1.599392           14.160156   \n...               ...              ...                 ...   \n5987790    -14.467592         0.009332           11.244936   \n5987791      0.000000         0.009332           11.244936   \n5987792    -14.467592         0.009115           11.244936   \n5987793      0.000000         0.009115           11.244936   \n5987794    -14.467592         0.009115           11.241320   \n5987795    -14.467592         0.009115           11.241320   \n5987796      0.000000         0.008898           11.263021   \n5987797      0.000000         0.009115           11.288339   \n5987798      0.000000         0.008898           11.364294   \n5987799      0.000000         0.008898           11.414930   \n5987800    -14.467592         0.008898           11.440249   \n5987801      0.000000         0.008898           11.469184   \n5987802    -14.467592         0.008898           11.447482   \n5987803      0.000000         0.008898           11.469184   \n5987804      0.000000         0.008464           11.447482   \n5987805      0.000000         0.008681           11.447482   \n5987806      0.000000         0.008681           11.451099   \n5987807      0.000000         0.008681           11.429399   \n5987808      0.000000         0.008681           11.429399   \n5987809      0.000000         0.008247           11.429399   \n5987810      0.000000         0.008247           11.407697   \n5987811      0.000000         0.008247           11.389612   \n5987812    -14.467592         0.008247           11.367911   \n5987813    -14.467592         0.008247           11.389612   \n5987814      0.000000         0.008464           11.385995   \n5987815    -14.467592         0.008247           11.389612   \n5987816    -14.467592         0.008030           11.389612   \n5987817      0.000000         0.008030           11.385995   \n5987818    -14.467592         0.008030           11.367911   \n5987819      0.000000         0.008030           11.367911   \n\n         return_conductivity  return_turbidity         ...          \\\nrow_id                                                 ...           \n0                   4.990765          0.177228         ...           \n1                   3.749680          0.122975         ...           \n2                   2.783954          0.387008         ...           \n3                   1.769353          0.213397         ...           \n4                   0.904020          0.148293         ...           \n5                   0.509684          0.166377         ...           \n6                   0.443773          0.292969         ...           \n7                   0.521089          0.271267         ...           \n8                   0.779835          0.361690         ...           \n9                   1.552591          0.358073         ...           \n10                  1.794842          0.217014         ...           \n11                  0.573698          0.625723         ...           \n12                  0.360979          1.576967         ...           \n13                  0.337042          1.786748         ...           \n14                  0.300339          3.649450         ...           \n15                  0.637628         11.338976         ...           \n16                  0.876635         45.026764         ...           \n17                  1.276357         39.941406         ...           \n18                  0.938543         14.767796         ...           \n19                  0.482240          4.727286         ...           \n20                  0.305240          4.011140         ...           \n21                  0.258933          2.445023         ...           \n22                  0.280822          2.086950         ...           \n23                  0.262525          1.866319         ...           \n24                  0.255486          1.414207         ...           \n25                  0.292506          1.696325         ...           \n26                  0.415969          1.598669         ...           \n27                  0.534735          1.699942         ...           \n28                  0.685792          1.609520         ...           \n29                  0.834946          2.061632         ...           \n...                      ...               ...         ...           \n5987790             0.348763          0.108507         ...           \n5987791             0.348956          0.104890         ...           \n5987792             0.348519          0.122975         ...           \n5987793             0.348495          0.130208         ...           \n5987794             0.348708          0.104890         ...           \n5987795             0.348305          0.112124         ...           \n5987796             0.347782          0.133825         ...           \n5987797             0.347695          0.115741         ...           \n5987798             0.347695          0.115741         ...           \n5987799             0.347844          0.130208         ...           \n5987800             0.347281          0.101273         ...           \n5987801             0.347555          0.119358         ...           \n5987802             0.347791          0.108507         ...           \n5987803             0.347510          0.101273         ...           \n5987804             0.347369          0.094039         ...           \n5987805             0.347421          0.108507         ...           \n5987806             0.347653          0.119358         ...           \n5987807             0.348173          0.112124         ...           \n5987808             0.348570          0.112124         ...           \n5987809             0.348018          0.122975         ...           \n5987810             0.348312          0.115741         ...           \n5987811             0.347004          0.115741         ...           \n5987812             0.347553          0.119358         ...           \n5987813             0.347292          0.119358         ...           \n5987814             0.347161          0.104890         ...           \n5987815             0.347515          0.122975         ...           \n5987816             0.347658          0.112124         ...           \n5987817             0.347310          0.094039         ...           \n5987818             0.346918          0.126591         ...           \n5987819             0.346906          0.115741         ...           \n\n         tank_temperature_pre_rinse  tank_temperature_caustic  \\\nrow_id                                                          \n0                         32.385708                 83.036750   \n1                         32.385708                 83.015045   \n2                         32.385708                 83.015045   \n3                         32.385708                 83.036750   \n4                         32.385708                 83.015045   \n5                         32.385708                 82.993350   \n6                         32.385708                 82.993350   \n7                         32.367622                 82.953560   \n8                         32.367622                 82.953560   \n9                         32.367622                 82.953560   \n10                        32.367622                 82.953560   \n11                        32.364006                 82.953560   \n12                        32.367622                 82.953560   \n13                        32.367622                 82.931860   \n14                        32.367622                 82.910160   \n15                        32.367622                 82.910160   \n16                        32.364006                 82.910160   \n17                        32.367622                 82.910160   \n18                        32.367622                 82.892075   \n19                        32.345920                 82.910160   \n20                        32.367622                 82.910160   \n21                        32.364006                 82.931860   \n22                        32.385708                 82.910160   \n23                        32.385708                 82.913770   \n24                        32.403790                 82.931860   \n25                        32.407406                 82.953560   \n26                        32.429108                 82.971640   \n27                        32.429108                 82.971640   \n28                        32.447193                 82.993350   \n29                        32.447193                 83.004196   \n...                             ...                       ...   \n5987790                   30.436197                 82.031250   \n5987791                   30.436197                 82.071040   \n5987792                   30.418114                 82.110825   \n5987793                   30.414497                 82.154230   \n5987794                   30.418114                 82.194016   \n5987795                   30.436197                 82.255500   \n5987796                   30.436197                 82.316986   \n5987797                   30.418114                 82.360390   \n5987798                   30.418114                 82.400170   \n5987799                   30.414497                 82.443580   \n5987800                   30.418114                 82.479744   \n5987801                   30.418114                 82.505066   \n5987802                   30.418114                 82.519530   \n5987803                   30.414497                 82.544850   \n5987804                   30.414497                 82.566550   \n5987805                   30.396410                 82.588250   \n5987806                   30.396410                 82.577400   \n5987807                   30.418114                 82.566550   \n5987808                   30.418114                 82.544850   \n5987809                   30.396410                 82.523150   \n5987810                   30.418114                 82.526764   \n5987811                   30.414497                 82.505066   \n5987812                   30.414497                 82.486984   \n5987813                   30.414497                 82.483360   \n5987814                   30.418114                 82.483360   \n5987815                   30.418114                 82.483360   \n5987816                   30.418114                 82.505066   \n5987817                   30.436197                 82.505066   \n5987818                   30.436197                 82.505066   \n5987819                   30.436197                 82.505066   \n\n         tank_temperature_acid  tank_concentration_caustic  \\\nrow_id                                                       \n0                    73.032410                   45.394646   \n1                    73.032410                   45.394447   \n2                    73.032410                   45.396280   \n3                    73.032410                   45.401875   \n4                    73.032410                   45.398197   \n5                    73.032410                   45.385914   \n6                    73.032410                   45.369984   \n7                    73.032410                   45.381107   \n8                    73.032410                   45.402290   \n9                    73.032410                   45.405660   \n10                   73.032410                   45.401646   \n11                   73.032410                   45.403694   \n12                   73.032410                   45.397050   \n13                   73.032410                   45.387320   \n14                   73.032410                   45.386600   \n15                   73.032410                   45.373592   \n16                   73.032410                   45.366966   \n17                   73.032410                   45.358967   \n18                   73.032410                   45.350765   \n19                   73.032410                   45.340607   \n20                   73.032410                   45.331795   \n21                   73.032410                   45.317380   \n22                   73.010704                   45.307740   \n23                   73.010704                   45.304990   \n24                   73.010704                   45.304665   \n25                   73.010704                   45.310093   \n26                   73.010704                   45.308723   \n27                   73.032410                   45.303635   \n28                   73.032410                   45.306038   \n29                   73.043260                   45.306960   \n...                        ...                         ...   \n5987790              72.214990                   45.057938   \n5987791              72.214990                   45.055805   \n5987792              72.214990                   45.054070   \n5987793              72.193290                   45.054970   \n5987794              72.193290                   45.055183   \n5987795              72.193290                   45.052532   \n5987796              72.193290                   45.056297   \n5987797              72.193290                   45.061400   \n5987798              72.214990                   45.064274   \n5987799              72.214990                   45.062980   \n5987800              72.214990                   45.059830   \n5987801              72.214990                   45.059715   \n5987802              72.214990                   45.059550   \n5987803              72.214990                   45.058525   \n5987804              72.193290                   45.056520   \n5987805              72.193290                   45.056046   \n5987806              72.214990                   45.053215   \n5987807              72.214990                   45.052727   \n5987808              72.214990                   45.047295   \n5987809              72.214990                   45.051860   \n5987810              72.214990                   45.061947   \n5987811              72.214990                   45.080505   \n5987812              72.214990                   45.093822   \n5987813              72.214990                   45.108208   \n5987814              72.214990                   45.124683   \n5987815              72.214990                   45.106262   \n5987816              72.214990                   45.091305   \n5987817              72.214990                   45.063404   \n5987818              72.214990                   45.043976   \n5987819              72.214990                   45.027397   \n\n         tank_concentration_acid  tank_lsh_caustic  tank_lsh_acid  \\\nrow_id                                                              \n0                      44.340126             False            0.0   \n1                      44.339380             False            0.0   \n2                      44.336735             False            0.0   \n3                      44.333110             False            0.0   \n4                      44.334373             False            0.0   \n5                      44.336000             False            0.0   \n6                      44.332523             False            0.0   \n7                      44.336490             False            0.0   \n8                      44.334263             False            0.0   \n9                      44.334488             False            0.0   \n10                     44.333330             False            0.0   \n11                     44.338070             False            0.0   \n12                     44.337593             False            0.0   \n13                     44.340366             False            0.0   \n14                     44.341618             False            0.0   \n15                     44.345140             False            0.0   \n16                     44.342820             False            0.0   \n17                     44.343967             False            0.0   \n18                     44.345634             False            0.0   \n19                     44.345707             False            0.0   \n20                     44.348000             False            0.0   \n21                     44.351734             False            0.0   \n22                     44.353120             False            0.0   \n23                     44.354435             False            0.0   \n24                     44.364450             False            0.0   \n25                     44.417070             False            0.0   \n26                     44.471060             False            0.0   \n27                     44.483658             False            0.0   \n28                     44.494614             False            0.0   \n29                     44.489716             False            0.0   \n...                          ...               ...            ...   \n5987790                44.467163             False            0.0   \n5987791                44.466340             False            0.0   \n5987792                44.467110             False            0.0   \n5987793                44.462353             False            0.0   \n5987794                44.462517             False            0.0   \n5987795                44.465927             False            0.0   \n5987796                44.458603             False            0.0   \n5987797                44.454082             False            0.0   \n5987798                44.461937             False            0.0   \n5987799                44.464590             False            0.0   \n5987800                44.464077             False            0.0   \n5987801                44.463330             False            0.0   \n5987802                44.471950             False            0.0   \n5987803                44.471127             False            0.0   \n5987804                44.463425             False            0.0   \n5987805                44.455055             False            0.0   \n5987806                44.462350             False            0.0   \n5987807                44.459724             False            0.0   \n5987808                44.461445             False            0.0   \n5987809                44.462530             False            0.0   \n5987810                44.467087             False            0.0   \n5987811                44.466347             False            0.0   \n5987812                44.466114             False            0.0   \n5987813                44.466213             False            0.0   \n5987814                44.473396             False            0.0   \n5987815                44.474274             False            0.0   \n5987816                44.475445             False            0.0   \n5987817                44.474487             False            0.0   \n5987818                44.473915             False            0.0   \n5987819                44.473400             False            0.0   \n\n         tank_lsh_clean_water  tank_lsh_pre_rinse  target_time_period  \nrow_id                                                                 \n0                       False                 0.0               False  \n1                       False                 0.0               False  \n2                       False                 0.0               False  \n3                       False                 0.0               False  \n4                       False                 0.0               False  \n5                       False                 0.0               False  \n6                       False                 0.0               False  \n7                       False                 0.0               False  \n8                       False                 0.0               False  \n9                       False                 0.0               False  \n10                      False                 0.0               False  \n11                      False                 0.0               False  \n12                      False                 0.0               False  \n13                      False                 0.0               False  \n14                      False                 0.0               False  \n15                      False                 0.0               False  \n16                      False                 0.0               False  \n17                      False                 0.0               False  \n18                      False                 0.0               False  \n19                      False                 0.0               False  \n20                      False                 0.0               False  \n21                      False                 0.0               False  \n22                      False                 0.0               False  \n23                      False                 0.0               False  \n24                      False                 0.0               False  \n25                      False                 0.0               False  \n26                      False                 0.0               False  \n27                      False                 0.0               False  \n28                      False                 0.0               False  \n29                      False                 0.0               False  \n...                       ...                 ...                 ...  \n5987790                 False                 0.0                True  \n5987791                 False                 0.0                True  \n5987792                 False                 0.0                True  \n5987793                 False                 0.0                True  \n5987794                 False                 0.0                True  \n5987795                 False                 0.0                True  \n5987796                 False                 0.0                True  \n5987797                 False                 0.0                True  \n5987798                 False                 0.0                True  \n5987799                 False                 0.0                True  \n5987800                 False                 0.0                True  \n5987801                 False                 0.0                True  \n5987802                 False                 0.0                True  \n5987803                 False                 0.0                True  \n5987804                 False                 0.0                True  \n5987805                 False                 0.0                True  \n5987806                 False                 0.0                True  \n5987807                 False                 0.0                True  \n5987808                 False                 0.0                True  \n5987809                 False                 0.0                True  \n5987810                 False                 0.0                True  \n5987811                 False                 0.0                True  \n5987812                 False                 0.0                True  \n5987813                 False                 0.0                True  \n5987814                 False                 0.0                True  \n5987815                 False                 0.0                True  \n5987816                 False                 0.0                True  \n5987817                 False                 0.0                True  \n5987818                 False                 0.0                True  \n5987819                 False                 0.0                True  \n\n[5987820 rows x 35 columns]>"
      ]
     },
     "execution_count": 56,
     "metadata": {},
     "output_type": "execute_result"
    }
   ],
   "source": [
    ""
   ]
  },
  {
   "cell_type": "code",
   "execution_count": null,
   "metadata": {
    "id": "ElBhnGGbBZOQ",
    "colab_type": "code",
    "colab": {}
   },
   "outputs": [
    {
     "data": {
      "text/plain": [
       "<bound method NDFrame.head of          process_id  object_id        phase           timestamp pipeline  \\\nrow_id                                                                     \n0             20001        405    pre_rinse 2018-04-15 04:20:47       L4   \n1             20001        405    pre_rinse 2018-04-15 04:20:49       L4   \n2             20001        405    pre_rinse 2018-04-15 04:20:51       L4   \n3             20001        405    pre_rinse 2018-04-15 04:20:53       L4   \n4             20001        405    pre_rinse 2018-04-15 04:20:55       L4   \n5             20001        405    pre_rinse 2018-04-15 04:20:57       L4   \n6             20001        405    pre_rinse 2018-04-15 04:20:59       L4   \n7             20001        405    pre_rinse 2018-04-15 04:21:01       L4   \n8             20001        405    pre_rinse 2018-04-15 04:21:03       L4   \n9             20001        405    pre_rinse 2018-04-15 04:21:05       L4   \n10            20001        405    pre_rinse 2018-04-15 04:21:07       L4   \n11            20001        405    pre_rinse 2018-04-15 04:21:09       L4   \n12            20001        405    pre_rinse 2018-04-15 04:21:11       L4   \n13            20001        405    pre_rinse 2018-04-15 04:21:13       L4   \n14            20001        405    pre_rinse 2018-04-15 04:21:15       L4   \n15            20001        405    pre_rinse 2018-04-15 04:21:17       L4   \n16            20001        405    pre_rinse 2018-04-15 04:21:19       L4   \n17            20001        405    pre_rinse 2018-04-15 04:21:21       L4   \n18            20001        405    pre_rinse 2018-04-15 04:21:23       L4   \n19            20001        405    pre_rinse 2018-04-15 04:21:25       L4   \n20            20001        405    pre_rinse 2018-04-15 04:21:27       L4   \n21            20001        405    pre_rinse 2018-04-15 04:21:29       L4   \n22            20001        405    pre_rinse 2018-04-15 04:21:31       L4   \n23            20001        405    pre_rinse 2018-04-15 04:21:33       L4   \n24            20001        405    pre_rinse 2018-04-15 04:21:35       L4   \n25            20001        405    pre_rinse 2018-04-15 04:21:37       L4   \n26            20001        405    pre_rinse 2018-04-15 04:21:39       L4   \n27            20001        405    pre_rinse 2018-04-15 04:21:41       L4   \n28            20001        405    pre_rinse 2018-04-15 04:21:43       L4   \n29            20001        405    pre_rinse 2018-04-15 04:21:45       L4   \n...             ...        ...          ...                 ...      ...   \n5987790       27989        921  final_rinse 2018-03-20 16:48:57       L7   \n5987791       27989        921  final_rinse 2018-03-20 16:48:59       L7   \n5987792       27989        921  final_rinse 2018-03-20 16:49:01       L7   \n5987793       27989        921  final_rinse 2018-03-20 16:49:03       L7   \n5987794       27989        921  final_rinse 2018-03-20 16:49:05       L7   \n5987795       27989        921  final_rinse 2018-03-20 16:49:07       L7   \n5987796       27989        921  final_rinse 2018-03-20 16:49:09       L7   \n5987797       27989        921  final_rinse 2018-03-20 16:49:11       L7   \n5987798       27989        921  final_rinse 2018-03-20 16:49:13       L7   \n5987799       27989        921  final_rinse 2018-03-20 16:49:15       L7   \n5987800       27989        921  final_rinse 2018-03-20 16:49:17       L7   \n5987801       27989        921  final_rinse 2018-03-20 16:49:19       L7   \n5987802       27989        921  final_rinse 2018-03-20 16:49:21       L7   \n5987803       27989        921  final_rinse 2018-03-20 16:49:23       L7   \n5987804       27989        921  final_rinse 2018-03-20 16:49:25       L7   \n5987805       27989        921  final_rinse 2018-03-20 16:49:27       L7   \n5987806       27989        921  final_rinse 2018-03-20 16:49:29       L7   \n5987807       27989        921  final_rinse 2018-03-20 16:49:31       L7   \n5987808       27989        921  final_rinse 2018-03-20 16:49:33       L7   \n5987809       27989        921  final_rinse 2018-03-20 16:49:35       L7   \n5987810       27989        921  final_rinse 2018-03-20 16:49:37       L7   \n5987811       27989        921  final_rinse 2018-03-20 16:49:39       L7   \n5987812       27989        921  final_rinse 2018-03-20 16:49:41       L7   \n5987813       27989        921  final_rinse 2018-03-20 16:49:43       L7   \n5987814       27989        921  final_rinse 2018-03-20 16:49:45       L7   \n5987815       27989        921  final_rinse 2018-03-20 16:49:47       L7   \n5987816       27989        921  final_rinse 2018-03-20 16:49:49       L7   \n5987817       27989        921  final_rinse 2018-03-20 16:49:51       L7   \n5987818       27989        921  final_rinse 2018-03-20 16:49:53       L7   \n5987819       27989        921  final_rinse 2018-03-20 16:49:55       L7   \n\n          supply_flow  supply_pressure  return_temperature  \\\nrow_id                                                       \n0         8550.348000         0.615451           18.044704   \n1        11364.294000         0.654297           18.229168   \n2        12174.479000         0.699870           18.395544   \n3        13436.776000         0.761502           18.583622   \n4        13776.766000         0.837240           18.627026   \n5        18710.215000         0.944444           18.583622   \n6        21216.725000         1.032118           18.460648   \n7        22403.066000         1.087891           18.420862   \n8        23278.357000         1.140842           18.420862   \n9        24178.965000         1.191623           18.377459   \n10       24938.514000         1.249349           18.337673   \n11       25578.705000         1.304037           18.377459   \n12       26023.582000         1.342014           18.482350   \n13       26446.760000         1.380208           18.442564   \n14       26869.938000         1.409505           18.301504   \n15       27322.049000         1.435330           18.178530   \n16       27810.330000         1.460069           18.044704   \n17       28092.447000         1.481988           18.088108   \n18       28367.332000         1.502604           18.420862   \n19       28548.178000         1.514323           18.627026   \n20       28678.385000         1.527344           18.485966   \n21       28971.354000         1.540582           17.932580   \n22       29076.246000         1.550998           17.194735   \n23       29032.840000         1.560330           16.210938   \n24       29231.771000         1.570964           15.404369   \n25       29387.299000         1.581163           14.746094   \n26       29394.531000         1.584635           14.254196   \n27       29466.871000         1.590495           13.932292   \n28       29550.059000         1.594401           13.888889   \n29       29604.312000         1.599392           14.160156   \n...               ...              ...                 ...   \n5987790    -14.467592         0.009332           11.244936   \n5987791      0.000000         0.009332           11.244936   \n5987792    -14.467592         0.009115           11.244936   \n5987793      0.000000         0.009115           11.244936   \n5987794    -14.467592         0.009115           11.241320   \n5987795    -14.467592         0.009115           11.241320   \n5987796      0.000000         0.008898           11.263021   \n5987797      0.000000         0.009115           11.288339   \n5987798      0.000000         0.008898           11.364294   \n5987799      0.000000         0.008898           11.414930   \n5987800    -14.467592         0.008898           11.440249   \n5987801      0.000000         0.008898           11.469184   \n5987802    -14.467592         0.008898           11.447482   \n5987803      0.000000         0.008898           11.469184   \n5987804      0.000000         0.008464           11.447482   \n5987805      0.000000         0.008681           11.447482   \n5987806      0.000000         0.008681           11.451099   \n5987807      0.000000         0.008681           11.429399   \n5987808      0.000000         0.008681           11.429399   \n5987809      0.000000         0.008247           11.429399   \n5987810      0.000000         0.008247           11.407697   \n5987811      0.000000         0.008247           11.389612   \n5987812    -14.467592         0.008247           11.367911   \n5987813    -14.467592         0.008247           11.389612   \n5987814      0.000000         0.008464           11.385995   \n5987815    -14.467592         0.008247           11.389612   \n5987816    -14.467592         0.008030           11.389612   \n5987817      0.000000         0.008030           11.385995   \n5987818    -14.467592         0.008030           11.367911   \n5987819      0.000000         0.008030           11.367911   \n\n         return_conductivity  return_turbidity         ...          \\\nrow_id                                                 ...           \n0                   4.990765          0.177228         ...           \n1                   3.749680          0.122975         ...           \n2                   2.783954          0.387008         ...           \n3                   1.769353          0.213397         ...           \n4                   0.904020          0.148293         ...           \n5                   0.509684          0.166377         ...           \n6                   0.443773          0.292969         ...           \n7                   0.521089          0.271267         ...           \n8                   0.779835          0.361690         ...           \n9                   1.552591          0.358073         ...           \n10                  1.794842          0.217014         ...           \n11                  0.573698          0.625723         ...           \n12                  0.360979          1.576967         ...           \n13                  0.337042          1.786748         ...           \n14                  0.300339          3.649450         ...           \n15                  0.637628         11.338976         ...           \n16                  0.876635         45.026764         ...           \n17                  1.276357         39.941406         ...           \n18                  0.938543         14.767796         ...           \n19                  0.482240          4.727286         ...           \n20                  0.305240          4.011140         ...           \n21                  0.258933          2.445023         ...           \n22                  0.280822          2.086950         ...           \n23                  0.262525          1.866319         ...           \n24                  0.255486          1.414207         ...           \n25                  0.292506          1.696325         ...           \n26                  0.415969          1.598669         ...           \n27                  0.534735          1.699942         ...           \n28                  0.685792          1.609520         ...           \n29                  0.834946          2.061632         ...           \n...                      ...               ...         ...           \n5987790             0.348763          0.108507         ...           \n5987791             0.348956          0.104890         ...           \n5987792             0.348519          0.122975         ...           \n5987793             0.348495          0.130208         ...           \n5987794             0.348708          0.104890         ...           \n5987795             0.348305          0.112124         ...           \n5987796             0.347782          0.133825         ...           \n5987797             0.347695          0.115741         ...           \n5987798             0.347695          0.115741         ...           \n5987799             0.347844          0.130208         ...           \n5987800             0.347281          0.101273         ...           \n5987801             0.347555          0.119358         ...           \n5987802             0.347791          0.108507         ...           \n5987803             0.347510          0.101273         ...           \n5987804             0.347369          0.094039         ...           \n5987805             0.347421          0.108507         ...           \n5987806             0.347653          0.119358         ...           \n5987807             0.348173          0.112124         ...           \n5987808             0.348570          0.112124         ...           \n5987809             0.348018          0.122975         ...           \n5987810             0.348312          0.115741         ...           \n5987811             0.347004          0.115741         ...           \n5987812             0.347553          0.119358         ...           \n5987813             0.347292          0.119358         ...           \n5987814             0.347161          0.104890         ...           \n5987815             0.347515          0.122975         ...           \n5987816             0.347658          0.112124         ...           \n5987817             0.347310          0.094039         ...           \n5987818             0.346918          0.126591         ...           \n5987819             0.346906          0.115741         ...           \n\n         tank_temperature_pre_rinse  tank_temperature_caustic  \\\nrow_id                                                          \n0                         32.385708                 83.036750   \n1                         32.385708                 83.015045   \n2                         32.385708                 83.015045   \n3                         32.385708                 83.036750   \n4                         32.385708                 83.015045   \n5                         32.385708                 82.993350   \n6                         32.385708                 82.993350   \n7                         32.367622                 82.953560   \n8                         32.367622                 82.953560   \n9                         32.367622                 82.953560   \n10                        32.367622                 82.953560   \n11                        32.364006                 82.953560   \n12                        32.367622                 82.953560   \n13                        32.367622                 82.931860   \n14                        32.367622                 82.910160   \n15                        32.367622                 82.910160   \n16                        32.364006                 82.910160   \n17                        32.367622                 82.910160   \n18                        32.367622                 82.892075   \n19                        32.345920                 82.910160   \n20                        32.367622                 82.910160   \n21                        32.364006                 82.931860   \n22                        32.385708                 82.910160   \n23                        32.385708                 82.913770   \n24                        32.403790                 82.931860   \n25                        32.407406                 82.953560   \n26                        32.429108                 82.971640   \n27                        32.429108                 82.971640   \n28                        32.447193                 82.993350   \n29                        32.447193                 83.004196   \n...                             ...                       ...   \n5987790                   30.436197                 82.031250   \n5987791                   30.436197                 82.071040   \n5987792                   30.418114                 82.110825   \n5987793                   30.414497                 82.154230   \n5987794                   30.418114                 82.194016   \n5987795                   30.436197                 82.255500   \n5987796                   30.436197                 82.316986   \n5987797                   30.418114                 82.360390   \n5987798                   30.418114                 82.400170   \n5987799                   30.414497                 82.443580   \n5987800                   30.418114                 82.479744   \n5987801                   30.418114                 82.505066   \n5987802                   30.418114                 82.519530   \n5987803                   30.414497                 82.544850   \n5987804                   30.414497                 82.566550   \n5987805                   30.396410                 82.588250   \n5987806                   30.396410                 82.577400   \n5987807                   30.418114                 82.566550   \n5987808                   30.418114                 82.544850   \n5987809                   30.396410                 82.523150   \n5987810                   30.418114                 82.526764   \n5987811                   30.414497                 82.505066   \n5987812                   30.414497                 82.486984   \n5987813                   30.414497                 82.483360   \n5987814                   30.418114                 82.483360   \n5987815                   30.418114                 82.483360   \n5987816                   30.418114                 82.505066   \n5987817                   30.436197                 82.505066   \n5987818                   30.436197                 82.505066   \n5987819                   30.436197                 82.505066   \n\n         tank_temperature_acid  tank_concentration_caustic  \\\nrow_id                                                       \n0                    73.032410                   45.394646   \n1                    73.032410                   45.394447   \n2                    73.032410                   45.396280   \n3                    73.032410                   45.401875   \n4                    73.032410                   45.398197   \n5                    73.032410                   45.385914   \n6                    73.032410                   45.369984   \n7                    73.032410                   45.381107   \n8                    73.032410                   45.402290   \n9                    73.032410                   45.405660   \n10                   73.032410                   45.401646   \n11                   73.032410                   45.403694   \n12                   73.032410                   45.397050   \n13                   73.032410                   45.387320   \n14                   73.032410                   45.386600   \n15                   73.032410                   45.373592   \n16                   73.032410                   45.366966   \n17                   73.032410                   45.358967   \n18                   73.032410                   45.350765   \n19                   73.032410                   45.340607   \n20                   73.032410                   45.331795   \n21                   73.032410                   45.317380   \n22                   73.010704                   45.307740   \n23                   73.010704                   45.304990   \n24                   73.010704                   45.304665   \n25                   73.010704                   45.310093   \n26                   73.010704                   45.308723   \n27                   73.032410                   45.303635   \n28                   73.032410                   45.306038   \n29                   73.043260                   45.306960   \n...                        ...                         ...   \n5987790              72.214990                   45.057938   \n5987791              72.214990                   45.055805   \n5987792              72.214990                   45.054070   \n5987793              72.193290                   45.054970   \n5987794              72.193290                   45.055183   \n5987795              72.193290                   45.052532   \n5987796              72.193290                   45.056297   \n5987797              72.193290                   45.061400   \n5987798              72.214990                   45.064274   \n5987799              72.214990                   45.062980   \n5987800              72.214990                   45.059830   \n5987801              72.214990                   45.059715   \n5987802              72.214990                   45.059550   \n5987803              72.214990                   45.058525   \n5987804              72.193290                   45.056520   \n5987805              72.193290                   45.056046   \n5987806              72.214990                   45.053215   \n5987807              72.214990                   45.052727   \n5987808              72.214990                   45.047295   \n5987809              72.214990                   45.051860   \n5987810              72.214990                   45.061947   \n5987811              72.214990                   45.080505   \n5987812              72.214990                   45.093822   \n5987813              72.214990                   45.108208   \n5987814              72.214990                   45.124683   \n5987815              72.214990                   45.106262   \n5987816              72.214990                   45.091305   \n5987817              72.214990                   45.063404   \n5987818              72.214990                   45.043976   \n5987819              72.214990                   45.027397   \n\n         tank_concentration_acid  tank_lsh_caustic  tank_lsh_acid  \\\nrow_id                                                              \n0                      44.340126             False            0.0   \n1                      44.339380             False            0.0   \n2                      44.336735             False            0.0   \n3                      44.333110             False            0.0   \n4                      44.334373             False            0.0   \n5                      44.336000             False            0.0   \n6                      44.332523             False            0.0   \n7                      44.336490             False            0.0   \n8                      44.334263             False            0.0   \n9                      44.334488             False            0.0   \n10                     44.333330             False            0.0   \n11                     44.338070             False            0.0   \n12                     44.337593             False            0.0   \n13                     44.340366             False            0.0   \n14                     44.341618             False            0.0   \n15                     44.345140             False            0.0   \n16                     44.342820             False            0.0   \n17                     44.343967             False            0.0   \n18                     44.345634             False            0.0   \n19                     44.345707             False            0.0   \n20                     44.348000             False            0.0   \n21                     44.351734             False            0.0   \n22                     44.353120             False            0.0   \n23                     44.354435             False            0.0   \n24                     44.364450             False            0.0   \n25                     44.417070             False            0.0   \n26                     44.471060             False            0.0   \n27                     44.483658             False            0.0   \n28                     44.494614             False            0.0   \n29                     44.489716             False            0.0   \n...                          ...               ...            ...   \n5987790                44.467163             False            0.0   \n5987791                44.466340             False            0.0   \n5987792                44.467110             False            0.0   \n5987793                44.462353             False            0.0   \n5987794                44.462517             False            0.0   \n5987795                44.465927             False            0.0   \n5987796                44.458603             False            0.0   \n5987797                44.454082             False            0.0   \n5987798                44.461937             False            0.0   \n5987799                44.464590             False            0.0   \n5987800                44.464077             False            0.0   \n5987801                44.463330             False            0.0   \n5987802                44.471950             False            0.0   \n5987803                44.471127             False            0.0   \n5987804                44.463425             False            0.0   \n5987805                44.455055             False            0.0   \n5987806                44.462350             False            0.0   \n5987807                44.459724             False            0.0   \n5987808                44.461445             False            0.0   \n5987809                44.462530             False            0.0   \n5987810                44.467087             False            0.0   \n5987811                44.466347             False            0.0   \n5987812                44.466114             False            0.0   \n5987813                44.466213             False            0.0   \n5987814                44.473396             False            0.0   \n5987815                44.474274             False            0.0   \n5987816                44.475445             False            0.0   \n5987817                44.474487             False            0.0   \n5987818                44.473915             False            0.0   \n5987819                44.473400             False            0.0   \n\n         tank_lsh_clean_water  tank_lsh_pre_rinse  target_time_period  \nrow_id                                                                 \n0                       False                 0.0               False  \n1                       False                 0.0               False  \n2                       False                 0.0               False  \n3                       False                 0.0               False  \n4                       False                 0.0               False  \n5                       False                 0.0               False  \n6                       False                 0.0               False  \n7                       False                 0.0               False  \n8                       False                 0.0               False  \n9                       False                 0.0               False  \n10                      False                 0.0               False  \n11                      False                 0.0               False  \n12                      False                 0.0               False  \n13                      False                 0.0               False  \n14                      False                 0.0               False  \n15                      False                 0.0               False  \n16                      False                 0.0               False  \n17                      False                 0.0               False  \n18                      False                 0.0               False  \n19                      False                 0.0               False  \n20                      False                 0.0               False  \n21                      False                 0.0               False  \n22                      False                 0.0               False  \n23                      False                 0.0               False  \n24                      False                 0.0               False  \n25                      False                 0.0               False  \n26                      False                 0.0               False  \n27                      False                 0.0               False  \n28                      False                 0.0               False  \n29                      False                 0.0               False  \n...                       ...                 ...                 ...  \n5987790                 False                 0.0                True  \n5987791                 False                 0.0                True  \n5987792                 False                 0.0                True  \n5987793                 False                 0.0                True  \n5987794                 False                 0.0                True  \n5987795                 False                 0.0                True  \n5987796                 False                 0.0                True  \n5987797                 False                 0.0                True  \n5987798                 False                 0.0                True  \n5987799                 False                 0.0                True  \n5987800                 False                 0.0                True  \n5987801                 False                 0.0                True  \n5987802                 False                 0.0                True  \n5987803                 False                 0.0                True  \n5987804                 False                 0.0                True  \n5987805                 False                 0.0                True  \n5987806                 False                 0.0                True  \n5987807                 False                 0.0                True  \n5987808                 False                 0.0                True  \n5987809                 False                 0.0                True  \n5987810                 False                 0.0                True  \n5987811                 False                 0.0                True  \n5987812                 False                 0.0                True  \n5987813                 False                 0.0                True  \n5987814                 False                 0.0                True  \n5987815                 False                 0.0                True  \n5987816                 False                 0.0                True  \n5987817                 False                 0.0                True  \n5987818                 False                 0.0                True  \n5987819                 False                 0.0                True  \n\n[5987820 rows x 35 columns]>"
      ]
     },
     "execution_count": 56,
     "metadata": {},
     "output_type": "execute_result"
    }
   ],
   "source": [
    "\n",
    "\n",
    "# Getting the duration of the processes\n",
    "train_df_final = train_df[train_df['phase'] == 'final_rinse']\n",
    "\n",
    "\n",
    "\n",
    "durations = []\n",
    "for ix in X_train.index:\n",
    "    kiesmaar = train_df_final[train_df_final['process_id'] == ix]['target_time_period'].astype(float).values\n",
    "    durations.append(sum(kiesmaar == 1)/len(kiesmaar))\n",
    "y_train = pd.Series(data=durations, index=X_train.index)\n",
    "\n",
    "durations = []\n",
    "for ix in X_val.index:\n",
    "    kiesmaar = train_df_final[train_df_final['process_id'] == ix]['target_time_period'].astype(float).values\n",
    "    durations.append(sum(kiesmaar == 1)/len(kiesmaar))\n",
    "y_val = pd.Series(data=durations, index=X_val.index)\n"
   ]
  },
  {
   "cell_type": "code",
   "execution_count": 30,
   "metadata": {
    "id": "imQ1EomqGINq",
    "colab_type": "code",
    "colab": {}
   },
   "outputs": [],
   "source": [
    "def custom_mape(approxes, targets):\n",
    "    return np.mean(np.abs(np.subtract(approxes, targets)) / np.maximum(np.abs(targets), 290000))\n",
    "\n",
    "class MAPEMetric(object):\n",
    "    def get_final_error(self, error, weight):\n",
    "        return error\n",
    "\n",
    "    def is_max_optimal(self):\n",
    "        return False\n",
    "\n",
    "    def evaluate(self, approxes, targets, weight):\n",
    "        return custom_mape(np.exp(approxes), np.exp(targets)), len(targets)"
   ]
  },
  {
   "cell_type": "code",
   "execution_count": 48,
   "metadata": {},
   "outputs": [
    {
     "name": "stdout",
     "output_type": "stream",
     "text": [
      "0:\tlearn: 0.5208251\ttest: 0.4995055\tbest: 0.4995055 (0)\ttotal: 201ms\tremaining: 5h 34m 41s\n"
     ]
    },
    {
     "name": "stdout",
     "output_type": "stream",
     "text": [
      "50:\tlearn: 0.0464955\ttest: 0.0540162\tbest: 0.0540162 (50)\ttotal: 9.15s\tremaining: 4h 58m 57s\n"
     ]
    },
    {
     "name": "stdout",
     "output_type": "stream",
     "text": [
      "100:\tlearn: 0.0259222\ttest: 0.0370071\tbest: 0.0369470 (98)\ttotal: 17.2s\tremaining: 4h 43m 1s\n"
     ]
    },
    {
     "name": "stdout",
     "output_type": "stream",
     "text": [
      "150:\tlearn: 0.0203993\ttest: 0.0346711\tbest: 0.0345166 (143)\ttotal: 25.3s\tremaining: 4h 39m 10s\n"
     ]
    },
    {
     "name": "stdout",
     "output_type": "stream",
     "text": [
      "200:\tlearn: 0.0170347\ttest: 0.0353841\tbest: 0.0342180 (165)\ttotal: 33.4s\tremaining: 4h 36m 43s\n"
     ]
    },
    {
     "name": "stdout",
     "output_type": "stream",
     "text": [
      "250:\tlearn: 0.0148916\ttest: 0.0360279\tbest: 0.0342180 (165)\ttotal: 41.7s\tremaining: 4h 35m 56s\n"
     ]
    },
    {
     "name": "stdout",
     "output_type": "stream",
     "text": [
      "Stopped by overfitting detector  (100 iterations wait)\n\nbestTest = 0.03421798577\nbestIteration = 165\n\nShrink model to first 166 iterations.\n0.0326888800724803\n0.03421798529251912\n"
     ]
    },
    {
     "name": "stdout",
     "output_type": "stream",
     "text": [
      "0:\tlearn: 0.5201507\ttest: 0.4995128\tbest: 0.4995128 (0)\ttotal: 169ms\tremaining: 4h 41m 38s\n"
     ]
    },
    {
     "name": "stdout",
     "output_type": "stream",
     "text": [
      "50:\tlearn: 0.0454116\ttest: 0.0521354\tbest: 0.0521354 (50)\ttotal: 8.43s\tremaining: 4h 35m 28s\n"
     ]
    },
    {
     "name": "stdout",
     "output_type": "stream",
     "text": [
      "100:\tlearn: 0.0243689\ttest: 0.0355692\tbest: 0.0355347 (99)\ttotal: 16.4s\tremaining: 4h 30m 57s\n"
     ]
    },
    {
     "name": "stdout",
     "output_type": "stream",
     "text": [
      "150:\tlearn: 0.0206266\ttest: 0.0343079\tbest: 0.0342396 (147)\ttotal: 24.6s\tremaining: 4h 31m 2s\n"
     ]
    },
    {
     "name": "stdout",
     "output_type": "stream",
     "text": [
      "200:\tlearn: 0.0181074\ttest: 0.0349752\tbest: 0.0342396 (147)\ttotal: 32.7s\tremaining: 4h 30m 55s\n"
     ]
    },
    {
     "name": "stdout",
     "output_type": "stream",
     "text": [
      "Stopped by overfitting detector  (100 iterations wait)\n\nbestTest = 0.03423963433\nbestIteration = 147\n\nShrink model to first 148 iterations.\n0.032878101006043645\n0.03423963379264492\n"
     ]
    },
    {
     "name": "stdout",
     "output_type": "stream",
     "text": [
      "0:\tlearn: 0.5145627\ttest: 0.4995890\tbest: 0.4995890 (0)\ttotal: 164ms\tremaining: 4h 33m 58s\n"
     ]
    },
    {
     "name": "stdout",
     "output_type": "stream",
     "text": [
      "50:\tlearn: 0.0440628\ttest: 0.0538149\tbest: 0.0538149 (50)\ttotal: 8.4s\tremaining: 4h 34m 33s\n"
     ]
    },
    {
     "name": "stdout",
     "output_type": "stream",
     "text": [
      "100:\tlearn: 0.0257255\ttest: 0.0387482\tbest: 0.0387482 (100)\ttotal: 16.5s\tremaining: 4h 32m 46s\n"
     ]
    },
    {
     "name": "stdout",
     "output_type": "stream",
     "text": [
      "150:\tlearn: 0.0204099\ttest: 0.0361956\tbest: 0.0361956 (150)\ttotal: 24.7s\tremaining: 4h 32m 10s\n"
     ]
    },
    {
     "name": "stdout",
     "output_type": "stream",
     "text": [
      "200:\tlearn: 0.0173447\ttest: 0.0360402\tbest: 0.0356857 (182)\ttotal: 32.9s\tremaining: 4h 32m 14s\n"
     ]
    },
    {
     "name": "stdout",
     "output_type": "stream",
     "text": [
      "250:\tlearn: 0.0150743\ttest: 0.0359588\tbest: 0.0356857 (182)\ttotal: 41.1s\tremaining: 4h 32m 21s\n"
     ]
    },
    {
     "name": "stdout",
     "output_type": "stream",
     "text": [
      "Stopped by overfitting detector  (100 iterations wait)\n\nbestTest = 0.03568574746\nbestIteration = 182\n\nShrink model to first 183 iterations.\n0.03002737362261688\n0.03568574646794526\n"
     ]
    },
    {
     "name": "stdout",
     "output_type": "stream",
     "text": [
      "0:\tlearn: 0.5180949\ttest: 0.4995318\tbest: 0.4995318 (0)\ttotal: 160ms\tremaining: 4h 26m 4s\n"
     ]
    },
    {
     "name": "stdout",
     "output_type": "stream",
     "text": [
      "50:\tlearn: 0.0446275\ttest: 0.0521518\tbest: 0.0521518 (50)\ttotal: 8.39s\tremaining: 4h 34m 3s\n"
     ]
    },
    {
     "name": "stdout",
     "output_type": "stream",
     "text": [
      "100:\tlearn: 0.0258236\ttest: 0.0360419\tbest: 0.0360419 (100)\ttotal: 16.5s\tremaining: 4h 31m 12s\n"
     ]
    },
    {
     "name": "stdout",
     "output_type": "stream",
     "text": [
      "150:\tlearn: 0.0211452\ttest: 0.0347023\tbest: 0.0342722 (142)\ttotal: 24.6s\tremaining: 4h 31m 36s\n"
     ]
    },
    {
     "name": "stdout",
     "output_type": "stream",
     "text": [
      "200:\tlearn: 0.0181348\ttest: 0.0348371\tbest: 0.0342722 (142)\ttotal: 32.9s\tremaining: 4h 32m 24s\n"
     ]
    },
    {
     "name": "stdout",
     "output_type": "stream",
     "text": [
      "Stopped by overfitting detector  (100 iterations wait)\n\nbestTest = 0.03427216281\nbestIteration = 142\n\nShrink model to first 143 iterations.\n0.02900609945483808\n"
     ]
    },
    {
     "name": "stdout",
     "output_type": "stream",
     "text": [
      "0.03427216269321381\n"
     ]
    },
    {
     "name": "stdout",
     "output_type": "stream",
     "text": [
      "0:\tlearn: 0.5152914\ttest: 0.4994345\tbest: 0.4994345 (0)\ttotal: 164ms\tremaining: 4h 33m\n"
     ]
    },
    {
     "name": "stdout",
     "output_type": "stream",
     "text": [
      "50:\tlearn: 0.0469387\ttest: 0.0545256\tbest: 0.0545256 (50)\ttotal: 8.37s\tremaining: 4h 33m 18s\n"
     ]
    },
    {
     "name": "stdout",
     "output_type": "stream",
     "text": [
      "100:\tlearn: 0.0251351\ttest: 0.0362646\tbest: 0.0362646 (100)\ttotal: 16.5s\tremaining: 4h 32m 28s\n"
     ]
    },
    {
     "name": "stdout",
     "output_type": "stream",
     "text": [
      "150:\tlearn: 0.0209689\ttest: 0.0352399\tbest: 0.0351775 (149)\ttotal: 27.6s\tremaining: 5h 4m 25s\n"
     ]
    },
    {
     "name": "stdout",
     "output_type": "stream",
     "text": [
      "200:\tlearn: 0.0181451\ttest: 0.0364376\tbest: 0.0351775 (149)\ttotal: 36.3s\tremaining: 5h 34s\n"
     ]
    },
    {
     "name": "stdout",
     "output_type": "stream",
     "text": [
      "Stopped by overfitting detector  (100 iterations wait)\n\nbestTest = 0.03517753338\nbestIteration = 149\n\nShrink model to first 150 iterations.\n0.02851923073983253\n0.03517753200823083\n"
     ]
    }
   ],
   "source": [
    "from sklearn.model_selection import KFold\n",
    "def mae(real, preds):\n",
    "  return np.mean(np.abs((real - preds)))\n",
    "\n",
    "FOLDS = 5\n",
    "train_predictions = np.zeros((len(train_features_index), 1))\n",
    "val_predictions = np.zeros((len(val_features_index), FOLDS))\n",
    "test_predictions = np.zeros((len(test_features_index), FOLDS))\n",
    "\n",
    "kf = KFold(n_splits=FOLDS)\n",
    "for fold_nr, (train_index, test_index) in enumerate(kf.split(train_features_index, y_train)):\n",
    "    X_cv_train = X_train.iloc[train_index, :]\n",
    "    X_cv_test = X_train.iloc[test_index, :]\n",
    "    y_cv_train = y_train.iloc[train_index]\n",
    "    y_cv_test = y_train.iloc[test_index]\n",
    "    cat = CatBoostRegressor(iterations=100000, od_type='Iter', od_wait=100,\n",
    "                        loss_function='MAE', eval_metric='MAE')\n",
    "    cat.fit(X_cv_train, y_cv_train, eval_set=(X_val, y_val), verbose=50)\n",
    "    \n",
    "    # predictions for out of sample\n",
    "    pred = cat.predict(X_cv_test)\n",
    "    train_predictions[test_index] = np.reshape(pred, (-1,1))\n",
    "    print(mae(y_cv_test, pred))\n",
    "        \n",
    "    pred = cat.predict(X_val)\n",
    "    val_predictions[:, fold_nr] = pred\n",
    "    print(mae(y_val, pred))\n",
    "        \n",
    "    pred = cat.predict(X_test)\n",
    "    test_predictions[:, fold_nr] = pred"
   ]
  },
  {
   "cell_type": "code",
   "execution_count": 51,
   "metadata": {},
   "outputs": [],
   "source": [
    "y_train = np.log(label_df.loc[X_train.index])\n",
    "y_val = np.log(label_df.loc[X_val.index])\n",
    "\n"
   ]
  },
  {
   "cell_type": "code",
   "execution_count": null,
   "metadata": {},
   "outputs": [],
   "source": [
    "\n",
    "cat = CatBoostRegressor(iterations=100000, od_type='Iter', od_wait=100,\n",
    "                        loss_function='MAPE', eval_metric=MAPEMetric(), learning_rate=0.33)\n",
    "cat.fit(X_train, y_train, eval_set=(X_val,y_val), verbose=50)\n"
   ]
  },
  {
   "cell_type": "code",
   "execution_count": 52,
   "metadata": {},
   "outputs": [
    {
     "name": "stdout",
     "output_type": "stream",
     "text": [
      "0:\tlearn: 0.8490310\ttest: 0.8194781\tbest: 0.8194781 (0)\ttotal: 209ms\tremaining: 5h 48m 32s\n"
     ]
    },
    {
     "name": "stdout",
     "output_type": "stream",
     "text": [
      "50:\tlearn: 0.8490263\ttest: 0.8194731\tbest: 0.8194731 (50)\ttotal: 7.95s\tremaining: 4h 19m 37s\n"
     ]
    },
    {
     "name": "stdout",
     "output_type": "stream",
     "text": [
      "100:\tlearn: 0.8490085\ttest: 0.8194538\tbest: 0.8194538 (100)\ttotal: 10.4s\tremaining: 2h 51m 13s\n"
     ]
    },
    {
     "name": "stdout",
     "output_type": "stream",
     "text": [
      "150:\tlearn: 0.8489416\ttest: 0.8193793\tbest: 0.8193793 (150)\ttotal: 12.7s\tremaining: 2h 20m 1s\n"
     ]
    },
    {
     "name": "stdout",
     "output_type": "stream",
     "text": [
      "200:\tlearn: 0.8486870\ttest: 0.8190894\tbest: 0.8190894 (200)\ttotal: 15.2s\tremaining: 2h 5m 33s\n"
     ]
    },
    {
     "name": "stdout",
     "output_type": "stream",
     "text": [
      "250:\tlearn: 0.8477077\ttest: 0.8179508\tbest: 0.8179508 (250)\ttotal: 17.4s\tremaining: 1h 55m 28s\n"
     ]
    },
    {
     "name": "stdout",
     "output_type": "stream",
     "text": [
      "300:\tlearn: 0.8439016\ttest: 0.8134353\tbest: 0.8134353 (300)\ttotal: 19.8s\tremaining: 1h 49m 8s\n"
     ]
    },
    {
     "name": "stdout",
     "output_type": "stream",
     "text": [
      "350:\tlearn: 0.8297473\ttest: 0.7970709\tbest: 0.7970709 (350)\ttotal: 23.3s\tremaining: 1h 50m 15s\n"
     ]
    },
    {
     "name": "stdout",
     "output_type": "stream",
     "text": [
      "400:\tlearn: 0.7942357\ttest: 0.7587705\tbest: 0.7587705 (400)\ttotal: 31.5s\tremaining: 2h 10m 31s\n"
     ]
    },
    {
     "name": "stdout",
     "output_type": "stream",
     "text": [
      "450:\tlearn: 0.7377035\ttest: 0.7041944\tbest: 0.7041944 (450)\ttotal: 39.9s\tremaining: 2h 26m 55s\n"
     ]
    },
    {
     "name": "stdout",
     "output_type": "stream",
     "text": [
      "500:\tlearn: 0.5954487\ttest: 0.5886005\tbest: 0.5886005 (500)\ttotal: 48.4s\tremaining: 2h 40m 3s\n"
     ]
    },
    {
     "name": "stdout",
     "output_type": "stream",
     "text": [
      "550:\tlearn: 0.4009378\ttest: 0.4253044\tbest: 0.4253044 (550)\ttotal: 58s\tremaining: 2h 54m 26s\n"
     ]
    },
    {
     "name": "stdout",
     "output_type": "stream",
     "text": [
      "600:\tlearn: 0.3414985\ttest: 0.3765251\tbest: 0.3765251 (600)\ttotal: 1m 7s\tremaining: 3h 7m 11s\n"
     ]
    },
    {
     "name": "stdout",
     "output_type": "stream",
     "text": [
      "650:\tlearn: 0.2933893\ttest: 0.3284790\tbest: 0.3284790 (650)\ttotal: 1m 17s\tremaining: 3h 17m 21s\n"
     ]
    },
    {
     "name": "stdout",
     "output_type": "stream",
     "text": [
      "700:\tlearn: 0.2328106\ttest: 0.2768949\tbest: 0.2768949 (700)\ttotal: 1m 27s\tremaining: 3h 27m 34s\n"
     ]
    },
    {
     "name": "stdout",
     "output_type": "stream",
     "text": [
      "750:\tlearn: 0.2193630\ttest: 0.2685689\tbest: 0.2684833 (737)\ttotal: 1m 36s\tremaining: 3h 31m 56s\n"
     ]
    },
    {
     "name": "stdout",
     "output_type": "stream",
     "text": [
      "800:\tlearn: 0.2121644\ttest: 0.2682910\tbest: 0.2674452 (753)\ttotal: 1m 44s\tremaining: 3h 35m 42s\n"
     ]
    },
    {
     "name": "stdout",
     "output_type": "stream",
     "text": [
      "850:\tlearn: 0.2053466\ttest: 0.2659511\tbest: 0.2658358 (848)\ttotal: 1m 52s\tremaining: 3h 39m 4s\n"
     ]
    },
    {
     "name": "stdout",
     "output_type": "stream",
     "text": [
      "900:\tlearn: 0.1989148\ttest: 0.2667936\tbest: 0.2657464 (857)\ttotal: 2m 1s\tremaining: 3h 41m 55s\n"
     ]
    },
    {
     "name": "stdout",
     "output_type": "stream",
     "text": [
      "950:\tlearn: 0.1918405\ttest: 0.2663390\tbest: 0.2657464 (857)\ttotal: 2m 9s\tremaining: 3h 44m 40s\n"
     ]
    },
    {
     "name": "stdout",
     "output_type": "stream",
     "text": [
      "Stopped by overfitting detector  (100 iterations wait)\n\nbestTest = 0.2657464138\nbestIteration = 857\n\nShrink model to first 858 iterations.\n"
     ]
    },
    {
     "data": {
      "text/plain": [
       "<catboost.core.CatBoostRegressor at 0x7f0a65cb8f98>"
      ]
     },
     "execution_count": 52,
     "metadata": {},
     "output_type": "execute_result"
    }
   ],
   "source": [
    "train_duration = pd.DataFrame(train_predictions, columns=[\"duration_pred\"], index=X_train.index)\n",
    "val_duration = pd.DataFrame(np.mean(val_predictions, axis=1), columns=[\"duration_pred\"], index=X_val.index)\n",
    "X_train_aug = X_train.merge(train_duration, left_index=True, right_index=True)\n",
    "X_val_aug = X_val.merge(val_duration, left_index=True, right_index=True)\n",
    "\n",
    "cat = CatBoostRegressor(iterations=100000, od_type='Iter', od_wait=100,\n",
    "                        loss_function='MAPE', eval_metric=MAPEMetric(), learning_rate=0.33)\n",
    "cat.fit(X_train_aug, y_train, eval_set=(X_val_aug,y_val), verbose=50)"
   ]
  },
  {
   "cell_type": "code",
   "execution_count": 19,
   "metadata": {
    "id": "Uc34584PCOW1",
    "colab_type": "code",
    "outputId": "6240d20f-31d2-4c66-8fe9-2c22a3180a8e",
    "colab": {
     "base_uri": "https://localhost:8080/",
     "height": 348.0
    }
   },
   "outputs": [
    {
     "name": "stdout",
     "output_type": "stream",
     "text": [
      "0:\tlearn: 298.5597703\ttest: 312.7481605\tbest: 312.7481605 (0)\ttotal: 259ms\tremaining: 7h 11m 24s\n",
      "50:\tlearn: 71.0951036\ttest: 75.5327746\tbest: 75.5327746 (50)\ttotal: 20.6s\tremaining: 11h 14m 5s\n",
      "100:\tlearn: 37.4658724\ttest: 47.0245748\tbest: 47.0245748 (100)\ttotal: 41.8s\tremaining: 11h 29m 5s\n",
      "150:\tlearn: 33.1584354\ttest: 43.5585793\tbest: 43.5585793 (150)\ttotal: 1m 2s\tremaining: 11h 33m 3s\n",
      "200:\tlearn: 31.4163617\ttest: 41.7790620\tbest: 41.7790620 (200)\ttotal: 1m 23s\tremaining: 11h 31m 25s\n",
      "250:\tlearn: 30.1679374\ttest: 40.6092440\tbest: 40.5735845 (248)\ttotal: 1m 44s\tremaining: 11h 30m 1s\n",
      "300:\tlearn: 29.0022957\ttest: 40.2053943\tbest: 40.0969311 (294)\ttotal: 2m 4s\tremaining: 11h 24m 46s\n",
      "350:\tlearn: 27.4965189\ttest: 39.4655817\tbest: 39.4143498 (347)\ttotal: 2m 24s\tremaining: 11h 24m 32s\n",
      "400:\tlearn: 26.4096227\ttest: 39.0341938\tbest: 39.0223629 (399)\ttotal: 2m 45s\tremaining: 11h 24m 42s\n",
      "450:\tlearn: 25.4555063\ttest: 38.9047251\tbest: 38.7036650 (441)\ttotal: 3m 5s\tremaining: 11h 24m\n",
      "500:\tlearn: 24.5925318\ttest: 39.1844212\tbest: 38.7036650 (441)\ttotal: 3m 25s\tremaining: 11h 21m\n",
      "Stopped by overfitting detector  (100 iterations wait)\n",
      "\n",
      "bestTest = 38.70366502\n",
      "bestIteration = 441\n",
      "\n",
      "Shrink model to first 442 iterations.\n"
     ]
    },
    {
     "data": {
      "text/plain": [
       "<catboost.core.CatBoostRegressor at 0x7fb04a495f28>"
      ]
     },
     "execution_count": 19,
     "metadata": {
      "tags": []
     },
     "output_type": "execute_result"
    }
   ],
   "source": [
    ""
   ]
  },
  {
   "cell_type": "code",
   "execution_count": null,
   "metadata": {},
   "outputs": [],
   "source": []
  },
  {
   "cell_type": "code",
   "execution_count": 22,
   "metadata": {
    "id": "54LhteUrGLVq",
    "colab_type": "code",
    "colab": {
     "base_uri": "https://localhost:8080/",
     "height": 35.0
    },
    "outputId": "9764c871-db18-402b-ce7d-6093a60310b8"
   },
   "outputs": [
    {
     "data": {
      "text/plain": [
       "7.393971068141912"
      ]
     },
     "execution_count": 22,
     "metadata": {
      "tags": []
     },
     "output_type": "execute_result"
    }
   ],
   "source": [
    "def mae(real, preds):\n",
    "  return np.mean(real - preds)\n",
    "\n",
    "mae(cat.predict(X_val), y_val)"
   ]
  },
  {
   "cell_type": "code",
   "execution_count": 24,
   "metadata": {
    "id": "5-ZJhRYpQblv",
    "colab_type": "code",
    "colab": {
     "base_uri": "https://localhost:8080/",
     "height": 35.0
    },
    "outputId": "78b93eb8-3a53-4e24-cb17-42601c40976a"
   },
   "outputs": [
    {
     "data": {
      "text/plain": [
       "142"
      ]
     },
     "execution_count": 24,
     "metadata": {
      "tags": []
     },
     "output_type": "execute_result"
    }
   ],
   "source": [
    "min(y_val)"
   ]
  },
  {
   "cell_type": "code",
   "execution_count": 0,
   "metadata": {
    "id": "7qOY8rXfTxjR",
    "colab_type": "code",
    "colab": {}
   },
   "outputs": [],
   "source": [
    "# Getting the duration of the processes\n",
    "train_df_final = train_df[train_df['phase'] == 'final_rinse']\n",
    "\n",
    "durations = []\n",
    "for ix in X_train.index:\n",
    "  durations.append(sum(train_df_final[train_df_final['process_id'] == ix]['target_time_period'].astype(float).values == 0))\n",
    "y_train = pd.Series(data=durations, index=X_train.index)\n",
    "\n",
    "durations = []\n",
    "for ix in X_val.index:\n",
    "  durations.append(sum(train_df_final[train_df_final['process_id'] == ix]['target_time_period'].astype(float).values == 0))\n",
    "y_val = pd.Series(data=durations, index=X_val.index)"
   ]
  },
  {
   "cell_type": "code",
   "execution_count": 0,
   "metadata": {
    "id": "74WnYg6LUV57",
    "colab_type": "code",
    "colab": {
     "base_uri": "https://localhost:8080/",
     "height": 35.0
    },
    "outputId": "64ba81bc-c308-4fd3-a65e-bb5b3bce5968"
   },
   "outputs": [
    {
     "name": "stdout",
     "output_type": "stream",
     "text": [
      "0:\tlearn: 174.7898559\ttest: 196.3681760\tbest: 196.3681760 (0)\ttotal: 442ms\tremaining: 12h 16m 14s\n"
     ]
    }
   ],
   "source": [
    "cat = CatBoostRegressor(iterations=100000, od_type='Iter', od_wait=100,\n",
    "                        loss_function='RMSE', eval_metric='RMSE')\n",
    "cat.fit(X_train, y_train, eval_set=(X_val, y_val), verbose=50)"
   ]
  },
  {
   "cell_type": "code",
   "execution_count": 0,
   "metadata": {
    "id": "XGIcGRlbUXbh",
    "colab_type": "code",
    "colab": {}
   },
   "outputs": [],
   "source": [
    ""
   ]
  }
 ],
 "metadata": {
  "colab": {
   "name": "Auxiliary tasks.ipynb",
   "version": "0.3.2",
   "provenance": [],
   "collapsed_sections": []
  },
  "kernelspec": {
   "name": "python3",
   "display_name": "Python 3"
  },
  "accelerator": "GPU"
 },
 "nbformat": 4,
 "nbformat_minor": 0
}
